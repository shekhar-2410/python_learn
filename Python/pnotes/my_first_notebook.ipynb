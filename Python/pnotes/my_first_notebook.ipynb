{
 "cells": [
  {
   "cell_type": "code",
   "execution_count": null,
   "id": "78e16edd",
   "metadata": {},
   "outputs": [],
   "source": [
    "#cells in a notebook"
   ]
  },
  {
   "cell_type": "markdown",
   "id": "e59cae32",
   "metadata": {},
   "source": [
    "## This is my 1st Python class"
   ]
  },
  {
   "cell_type": "code",
   "execution_count": null,
   "id": "a9f8dbbb",
   "metadata": {},
   "outputs": [],
   "source": [
    "#clt + enter"
   ]
  },
  {
   "cell_type": "code",
   "execution_count": null,
   "id": "3b2e2540",
   "metadata": {},
   "outputs": [],
   "source": [
    "#shift + enter"
   ]
  },
  {
   "cell_type": "code",
   "execution_count": null,
   "id": "27a4bda7",
   "metadata": {},
   "outputs": [],
   "source": [
    "#esc + A ,it would create a new cell"
   ]
  },
  {
   "cell_type": "code",
   "execution_count": null,
   "id": "d0b5e2d7",
   "metadata": {},
   "outputs": [],
   "source": [
    "#esc + B , it would creates a new cell below the current cell"
   ]
  },
  {
   "cell_type": "markdown",
   "id": "295d94c8",
   "metadata": {},
   "source": [
    "## Basic Data Types"
   ]
  },
  {
   "cell_type": "code",
   "execution_count": null,
   "id": "2295da34",
   "metadata": {},
   "outputs": [],
   "source": [
    "# Numeric --> Integer,Float,Boolean\n",
    "# String  --> Characters , used within single or double quotes or triple quotes\n",
    "# Containers --> List,Set,Dictionary,Tuple"
   ]
  },
  {
   "cell_type": "code",
   "execution_count": null,
   "id": "43f0e20e",
   "metadata": {},
   "outputs": [],
   "source": [
    "#LSD --> List,Set and Dict are mutable data types"
   ]
  },
  {
   "cell_type": "code",
   "execution_count": null,
   "id": "b764614f",
   "metadata": {},
   "outputs": [],
   "source": [
    "# Variables --> named memory location"
   ]
  },
  {
   "cell_type": "markdown",
   "id": "95504831",
   "metadata": {},
   "source": [
    "### Integer"
   ]
  },
  {
   "cell_type": "code",
   "execution_count": null,
   "id": "10e53401",
   "metadata": {},
   "outputs": [],
   "source": [
    "x  = 6"
   ]
  },
  {
   "cell_type": "code",
   "execution_count": null,
   "id": "0f671e33",
   "metadata": {},
   "outputs": [],
   "source": [
    "x"
   ]
  },
  {
   "cell_type": "code",
   "execution_count": null,
   "id": "37700cbe",
   "metadata": {},
   "outputs": [],
   "source": [
    "id(x)"
   ]
  },
  {
   "cell_type": "code",
   "execution_count": null,
   "id": "05b155af",
   "metadata": {},
   "outputs": [],
   "source": [
    "id(x)"
   ]
  },
  {
   "cell_type": "code",
   "execution_count": null,
   "id": "e29cee7d",
   "metadata": {},
   "outputs": [],
   "source": [
    "type(x)"
   ]
  },
  {
   "cell_type": "code",
   "execution_count": null,
   "id": "69228805",
   "metadata": {},
   "outputs": [],
   "source": [
    "x = 5"
   ]
  },
  {
   "cell_type": "code",
   "execution_count": null,
   "id": "7429a767",
   "metadata": {},
   "outputs": [],
   "source": [
    "y = 6 "
   ]
  },
  {
   "cell_type": "code",
   "execution_count": null,
   "id": "b08faf6f",
   "metadata": {},
   "outputs": [],
   "source": [
    "x is not y"
   ]
  },
  {
   "cell_type": "code",
   "execution_count": null,
   "id": "58dac910",
   "metadata": {},
   "outputs": [],
   "source": [
    "id(x)"
   ]
  },
  {
   "cell_type": "code",
   "execution_count": null,
   "id": "d1a11b63",
   "metadata": {},
   "outputs": [],
   "source": [
    "id(y)"
   ]
  },
  {
   "cell_type": "code",
   "execution_count": null,
   "id": "a54a9758",
   "metadata": {},
   "outputs": [],
   "source": [
    "id(x) == id(y)"
   ]
  },
  {
   "cell_type": "code",
   "execution_count": null,
   "id": "754a1bee",
   "metadata": {
    "scrolled": true
   },
   "outputs": [],
   "source": [
    "print(x+1)\n",
    "print(x-1)\n",
    "print(x*2)\n",
    "print(x/2)\n",
    "print(x//2) # in\n",
    "print(x%2) #modulous\n",
    "print(x**3)# power"
   ]
  },
  {
   "cell_type": "code",
   "execution_count": null,
   "id": "12822159",
   "metadata": {},
   "outputs": [],
   "source": [
    "5*5*5"
   ]
  },
  {
   "cell_type": "code",
   "execution_count": null,
   "id": "9f769eff",
   "metadata": {},
   "outputs": [],
   "source": [
    "pow(5,3)"
   ]
  },
  {
   "cell_type": "code",
   "execution_count": null,
   "id": "faf96dc3",
   "metadata": {},
   "outputs": [],
   "source": [
    "pow(5,2)"
   ]
  },
  {
   "cell_type": "code",
   "execution_count": null,
   "id": "a6e00661",
   "metadata": {},
   "outputs": [],
   "source": [
    "5**2"
   ]
  },
  {
   "cell_type": "code",
   "execution_count": null,
   "id": "8cc6e660",
   "metadata": {},
   "outputs": [],
   "source": [
    "pow??"
   ]
  },
  {
   "cell_type": "code",
   "execution_count": null,
   "id": "f378f957",
   "metadata": {},
   "outputs": [],
   "source": [
    "y = 2.5"
   ]
  },
  {
   "cell_type": "code",
   "execution_count": null,
   "id": "2947f43a",
   "metadata": {},
   "outputs": [],
   "source": [
    "x = 5"
   ]
  },
  {
   "cell_type": "code",
   "execution_count": null,
   "id": "657f8ded",
   "metadata": {},
   "outputs": [],
   "source": [
    "y = 5"
   ]
  },
  {
   "cell_type": "code",
   "execution_count": null,
   "id": "ba7799e3",
   "metadata": {},
   "outputs": [],
   "source": [
    "x == y"
   ]
  },
  {
   "cell_type": "code",
   "execution_count": null,
   "id": "a6332ec5",
   "metadata": {},
   "outputs": [],
   "source": [
    "x is y "
   ]
  },
  {
   "cell_type": "code",
   "execution_count": null,
   "id": "e1384822",
   "metadata": {},
   "outputs": [],
   "source": [
    "id(x)"
   ]
  },
  {
   "cell_type": "code",
   "execution_count": null,
   "id": "451a939f",
   "metadata": {},
   "outputs": [],
   "source": [
    "id(y)"
   ]
  },
  {
   "cell_type": "code",
   "execution_count": null,
   "id": "275f00f4",
   "metadata": {},
   "outputs": [],
   "source": [
    "a = 257"
   ]
  },
  {
   "cell_type": "code",
   "execution_count": null,
   "id": "46077df8",
   "metadata": {},
   "outputs": [],
   "source": [
    "b = 257"
   ]
  },
  {
   "cell_type": "code",
   "execution_count": null,
   "id": "59c80dc2",
   "metadata": {},
   "outputs": [],
   "source": [
    "c = 257"
   ]
  },
  {
   "cell_type": "code",
   "execution_count": null,
   "id": "816215cb",
   "metadata": {},
   "outputs": [],
   "source": [
    "a == b"
   ]
  },
  {
   "cell_type": "code",
   "execution_count": null,
   "id": "93b20fdc",
   "metadata": {},
   "outputs": [],
   "source": [
    "a is b"
   ]
  },
  {
   "cell_type": "code",
   "execution_count": null,
   "id": "2d899822",
   "metadata": {},
   "outputs": [],
   "source": [
    "id(a)"
   ]
  },
  {
   "cell_type": "code",
   "execution_count": null,
   "id": "74a9d8b2",
   "metadata": {},
   "outputs": [],
   "source": [
    "id(b)"
   ]
  },
  {
   "cell_type": "code",
   "execution_count": null,
   "id": "fab3329d",
   "metadata": {},
   "outputs": [],
   "source": [
    "id(c)"
   ]
  },
  {
   "cell_type": "code",
   "execution_count": null,
   "id": "355439e2",
   "metadata": {},
   "outputs": [],
   "source": [
    "type(y)"
   ]
  },
  {
   "cell_type": "code",
   "execution_count": null,
   "id": "f3834064",
   "metadata": {},
   "outputs": [],
   "source": [
    "name = \"Sana\""
   ]
  },
  {
   "cell_type": "code",
   "execution_count": null,
   "id": "2d8fa398",
   "metadata": {},
   "outputs": [],
   "source": [
    "type(name)"
   ]
  },
  {
   "cell_type": "code",
   "execution_count": null,
   "id": "1dea8217",
   "metadata": {},
   "outputs": [],
   "source": [
    "name_ = 'Pragyan'"
   ]
  },
  {
   "cell_type": "code",
   "execution_count": null,
   "id": "a7cd8ae5",
   "metadata": {},
   "outputs": [],
   "source": [
    "type(name_)"
   ]
  },
  {
   "cell_type": "code",
   "execution_count": null,
   "id": "76adaa5d",
   "metadata": {},
   "outputs": [],
   "source": [
    "name__ = \"\"\"Isha\"\"\""
   ]
  },
  {
   "cell_type": "code",
   "execution_count": null,
   "id": "f77c78aa",
   "metadata": {},
   "outputs": [],
   "source": [
    "id(name__)"
   ]
  },
  {
   "cell_type": "code",
   "execution_count": null,
   "id": "bb31a24d",
   "metadata": {},
   "outputs": [],
   "source": [
    "name__ = \"\"\"Ayush\"\"\""
   ]
  },
  {
   "cell_type": "code",
   "execution_count": null,
   "id": "c547eaaa",
   "metadata": {},
   "outputs": [],
   "source": [
    "type(name__)"
   ]
  },
  {
   "cell_type": "code",
   "execution_count": null,
   "id": "da4245ae",
   "metadata": {},
   "outputs": [],
   "source": [
    "id(name__)"
   ]
  },
  {
   "cell_type": "code",
   "execution_count": null,
   "id": "41e4172b",
   "metadata": {},
   "outputs": [],
   "source": [
    "t = True\n",
    "f = False"
   ]
  },
  {
   "cell_type": "code",
   "execution_count": null,
   "id": "a4850e63",
   "metadata": {},
   "outputs": [],
   "source": [
    "t,f = True,False #unpacking"
   ]
  },
  {
   "cell_type": "code",
   "execution_count": null,
   "id": "625560bc",
   "metadata": {},
   "outputs": [],
   "source": [
    "isinstance??"
   ]
  },
  {
   "cell_type": "code",
   "execution_count": null,
   "id": "5113dea8",
   "metadata": {},
   "outputs": [],
   "source": [
    "isinstance(5,int)"
   ]
  },
  {
   "cell_type": "code",
   "execution_count": null,
   "id": "87be7b1e",
   "metadata": {},
   "outputs": [],
   "source": [
    "isinstance(5.2,float)"
   ]
  },
  {
   "cell_type": "code",
   "execution_count": null,
   "id": "e954d128",
   "metadata": {},
   "outputs": [],
   "source": [
    "isinstance(\"Priya\",str)"
   ]
  },
  {
   "cell_type": "code",
   "execution_count": null,
   "id": "296692b6",
   "metadata": {},
   "outputs": [],
   "source": [
    "isinstance(True,bool)"
   ]
  },
  {
   "cell_type": "code",
   "execution_count": null,
   "id": "2b395988",
   "metadata": {},
   "outputs": [],
   "source": [
    "isinstance(True,int) # Because True means 1 and False means 0"
   ]
  },
  {
   "cell_type": "code",
   "execution_count": null,
   "id": "839ef4a7",
   "metadata": {},
   "outputs": [],
   "source": [
    "int(True)"
   ]
  },
  {
   "cell_type": "code",
   "execution_count": null,
   "id": "555efecb",
   "metadata": {},
   "outputs": [],
   "source": [
    "int(False)"
   ]
  },
  {
   "cell_type": "code",
   "execution_count": null,
   "id": "bcbf1454",
   "metadata": {},
   "outputs": [],
   "source": [
    "int(\"Priya\")"
   ]
  },
  {
   "cell_type": "code",
   "execution_count": null,
   "id": "7fd5edf8",
   "metadata": {},
   "outputs": [],
   "source": [
    "int(4.5)"
   ]
  },
  {
   "cell_type": "code",
   "execution_count": null,
   "id": "be6dba68",
   "metadata": {},
   "outputs": [],
   "source": [
    "float(1)"
   ]
  },
  {
   "cell_type": "code",
   "execution_count": null,
   "id": "370a3dab",
   "metadata": {},
   "outputs": [],
   "source": [
    "float(True)"
   ]
  },
  {
   "cell_type": "code",
   "execution_count": null,
   "id": "2e0003fa",
   "metadata": {},
   "outputs": [],
   "source": [
    "float(False)"
   ]
  },
  {
   "cell_type": "code",
   "execution_count": null,
   "id": "a2863947",
   "metadata": {},
   "outputs": [],
   "source": [
    "bool(1)"
   ]
  },
  {
   "cell_type": "code",
   "execution_count": null,
   "id": "4b1d8630",
   "metadata": {},
   "outputs": [],
   "source": [
    "bool(2)"
   ]
  },
  {
   "cell_type": "code",
   "execution_count": null,
   "id": "99a37330",
   "metadata": {},
   "outputs": [],
   "source": [
    "bool(-1)"
   ]
  },
  {
   "cell_type": "code",
   "execution_count": null,
   "id": "c81332e1",
   "metadata": {},
   "outputs": [],
   "source": [
    "bool(0)"
   ]
  },
  {
   "cell_type": "code",
   "execution_count": null,
   "id": "56534001",
   "metadata": {},
   "outputs": [],
   "source": [
    "int(2.4)"
   ]
  },
  {
   "cell_type": "code",
   "execution_count": null,
   "id": "bf81f45e",
   "metadata": {},
   "outputs": [],
   "source": [
    "int(\"2.4\")"
   ]
  },
  {
   "cell_type": "code",
   "execution_count": null,
   "id": "bb154823",
   "metadata": {},
   "outputs": [],
   "source": [
    "int(\"2\")"
   ]
  },
  {
   "cell_type": "code",
   "execution_count": null,
   "id": "e2f415dc",
   "metadata": {},
   "outputs": [],
   "source": [
    "a = eval(input(\"Enter something\\n\"))"
   ]
  },
  {
   "cell_type": "code",
   "execution_count": null,
   "id": "6e0eb716",
   "metadata": {},
   "outputs": [],
   "source": [
    "a"
   ]
  },
  {
   "cell_type": "code",
   "execution_count": null,
   "id": "a98db8ab",
   "metadata": {},
   "outputs": [],
   "source": [
    "type(a)"
   ]
  },
  {
   "cell_type": "code",
   "execution_count": null,
   "id": "8e2dd4e9",
   "metadata": {},
   "outputs": [],
   "source": [
    "str(2)"
   ]
  },
  {
   "cell_type": "code",
   "execution_count": null,
   "id": "d3a19e89",
   "metadata": {},
   "outputs": [],
   "source": [
    "str(True)"
   ]
  },
  {
   "cell_type": "code",
   "execution_count": null,
   "id": "5cd98910",
   "metadata": {},
   "outputs": [],
   "source": [
    "str(2.5)"
   ]
  },
  {
   "cell_type": "code",
   "execution_count": null,
   "id": "e899094c",
   "metadata": {},
   "outputs": [],
   "source": []
  },
  {
   "cell_type": "code",
   "execution_count": null,
   "id": "f5998367",
   "metadata": {},
   "outputs": [],
   "source": [
    "import this"
   ]
  },
  {
   "cell_type": "code",
   "execution_count": null,
   "id": "8a33bf70",
   "metadata": {},
   "outputs": [],
   "source": [
    "type(t)"
   ]
  },
  {
   "cell_type": "code",
   "execution_count": null,
   "id": "a759eeab",
   "metadata": {},
   "outputs": [],
   "source": [
    "isinstance(5,int)"
   ]
  },
  {
   "cell_type": "code",
   "execution_count": null,
   "id": "59544d38",
   "metadata": {},
   "outputs": [],
   "source": [
    "isinstance(2.5,float)"
   ]
  },
  {
   "cell_type": "code",
   "execution_count": null,
   "id": "2f5b8c7b",
   "metadata": {},
   "outputs": [],
   "source": [
    "isinstance(\"Isha\",str)"
   ]
  },
  {
   "cell_type": "code",
   "execution_count": null,
   "id": "839b6be0",
   "metadata": {},
   "outputs": [],
   "source": [
    "isinstance(True,int) # "
   ]
  },
  {
   "cell_type": "code",
   "execution_count": null,
   "id": "db401813",
   "metadata": {},
   "outputs": [],
   "source": [
    "isinstance??"
   ]
  },
  {
   "cell_type": "code",
   "execution_count": null,
   "id": "4794ac0f",
   "metadata": {},
   "outputs": [],
   "source": [
    "# == is used for value comparision\n",
    "# is  used for address comparision"
   ]
  },
  {
   "cell_type": "code",
   "execution_count": null,
   "id": "cbe2290e",
   "metadata": {},
   "outputs": [],
   "source": [
    "x = -5 # x -->2297219213744 <--y\n",
    "y = -5 "
   ]
  },
  {
   "cell_type": "code",
   "execution_count": null,
   "id": "c65435f1",
   "metadata": {},
   "outputs": [],
   "source": [
    "id(x)"
   ]
  },
  {
   "cell_type": "code",
   "execution_count": null,
   "id": "315542d7",
   "metadata": {},
   "outputs": [],
   "source": [
    "id(y)"
   ]
  },
  {
   "cell_type": "code",
   "execution_count": null,
   "id": "621fa8e3",
   "metadata": {},
   "outputs": [],
   "source": [
    "x == y # value comparison"
   ]
  },
  {
   "cell_type": "code",
   "execution_count": null,
   "id": "600db517",
   "metadata": {},
   "outputs": [],
   "source": [
    "x is y # address comparision"
   ]
  },
  {
   "cell_type": "code",
   "execution_count": null,
   "id": "0c8e280f",
   "metadata": {},
   "outputs": [],
   "source": [
    "-6 to 256"
   ]
  },
  {
   "cell_type": "code",
   "execution_count": null,
   "id": "5475a694",
   "metadata": {},
   "outputs": [],
   "source": [
    "p = -6\n",
    "q = -6"
   ]
  },
  {
   "cell_type": "code",
   "execution_count": null,
   "id": "71305f92",
   "metadata": {},
   "outputs": [],
   "source": [
    "p == q"
   ]
  },
  {
   "cell_type": "code",
   "execution_count": null,
   "id": "93d1b940",
   "metadata": {},
   "outputs": [],
   "source": [
    "p is q"
   ]
  },
  {
   "cell_type": "code",
   "execution_count": null,
   "id": "ad36af4a",
   "metadata": {},
   "outputs": [],
   "source": [
    "id(p)"
   ]
  },
  {
   "cell_type": "code",
   "execution_count": null,
   "id": "6972e753",
   "metadata": {},
   "outputs": [],
   "source": [
    "id(q)"
   ]
  },
  {
   "cell_type": "code",
   "execution_count": null,
   "id": "4105c561",
   "metadata": {},
   "outputs": [],
   "source": [
    "# -5 to 256 address are fixed --> interger interning"
   ]
  },
  {
   "cell_type": "code",
   "execution_count": null,
   "id": "05e3150b",
   "metadata": {},
   "outputs": [],
   "source": [
    "r = 5 \n",
    "s =6"
   ]
  },
  {
   "cell_type": "code",
   "execution_count": null,
   "id": "4d86cffa",
   "metadata": {},
   "outputs": [],
   "source": [
    "r == s"
   ]
  },
  {
   "cell_type": "code",
   "execution_count": null,
   "id": "b15fbc1c",
   "metadata": {},
   "outputs": [],
   "source": [
    "r is s"
   ]
  },
  {
   "cell_type": "code",
   "execution_count": null,
   "id": "dc501707",
   "metadata": {},
   "outputs": [],
   "source": [
    " x = 5"
   ]
  },
  {
   "cell_type": "code",
   "execution_count": null,
   "id": "11fea849",
   "metadata": {},
   "outputs": [],
   "source": [
    "y = 3+2"
   ]
  },
  {
   "cell_type": "code",
   "execution_count": null,
   "id": "fa06cfea",
   "metadata": {},
   "outputs": [],
   "source": [
    "id(x)"
   ]
  },
  {
   "cell_type": "code",
   "execution_count": null,
   "id": "284c9f91",
   "metadata": {},
   "outputs": [],
   "source": [
    "id(y)"
   ]
  },
  {
   "cell_type": "code",
   "execution_count": null,
   "id": "f7dcb2f5",
   "metadata": {},
   "outputs": [],
   "source": [
    "a = 0.1 + 0.1 +0.1"
   ]
  },
  {
   "cell_type": "code",
   "execution_count": null,
   "id": "cb6337eb",
   "metadata": {},
   "outputs": [],
   "source": [
    "a"
   ]
  },
  {
   "cell_type": "code",
   "execution_count": null,
   "id": "8c268b28",
   "metadata": {},
   "outputs": [],
   "source": [
    "b = 0.3"
   ]
  },
  {
   "cell_type": "code",
   "execution_count": null,
   "id": "daa939d8",
   "metadata": {},
   "outputs": [],
   "source": [
    "round"
   ]
  },
  {
   "cell_type": "code",
   "execution_count": null,
   "id": "bdfae84f",
   "metadata": {},
   "outputs": [],
   "source": [
    "round(a,1)==b"
   ]
  },
  {
   "cell_type": "code",
   "execution_count": null,
   "id": "4644b67b",
   "metadata": {},
   "outputs": [],
   "source": [
    "# 10/3"
   ]
  },
  {
   "cell_type": "code",
   "execution_count": null,
   "id": "7b5b5ac7",
   "metadata": {},
   "outputs": [],
   "source": [
    "import math"
   ]
  },
  {
   "cell_type": "code",
   "execution_count": null,
   "id": "375d25d3",
   "metadata": {},
   "outputs": [],
   "source": [
    "math.isclose(a,b)"
   ]
  },
  {
   "cell_type": "markdown",
   "id": "b8aeb646",
   "metadata": {},
   "source": [
    "## String"
   ]
  },
  {
   "cell_type": "code",
   "execution_count": null,
   "id": "ca44f765",
   "metadata": {},
   "outputs": [],
   "source": [
    "x = \"\"\" Gowri\"\"\"\n"
   ]
  },
  {
   "cell_type": "code",
   "execution_count": null,
   "id": "50b30007",
   "metadata": {},
   "outputs": [],
   "source": [
    "x "
   ]
  },
  {
   "cell_type": "code",
   "execution_count": null,
   "id": "d2e7a60f",
   "metadata": {},
   "outputs": [],
   "source": [
    "type(x)"
   ]
  },
  {
   "cell_type": "code",
   "execution_count": null,
   "id": "8d39d949",
   "metadata": {},
   "outputs": [],
   "source": [
    "a[::-1]"
   ]
  },
  {
   "cell_type": "code",
   "execution_count": null,
   "id": "11277e68",
   "metadata": {},
   "outputs": [],
   "source": [
    "len??"
   ]
  },
  {
   "cell_type": "code",
   "execution_count": null,
   "id": "7e48b93a",
   "metadata": {},
   "outputs": [],
   "source": [
    "a = \"Priya\""
   ]
  },
  {
   "cell_type": "code",
   "execution_count": null,
   "id": "878c2539",
   "metadata": {},
   "outputs": [],
   "source": [
    "len(a)"
   ]
  },
  {
   "cell_type": "code",
   "execution_count": null,
   "id": "36348e31",
   "metadata": {},
   "outputs": [],
   "source": [
    "a[0]"
   ]
  },
  {
   "cell_type": "code",
   "execution_count": null,
   "id": "568c3128",
   "metadata": {},
   "outputs": [],
   "source": [
    "a[1]"
   ]
  },
  {
   "cell_type": "code",
   "execution_count": null,
   "id": "d789ef1b",
   "metadata": {},
   "outputs": [],
   "source": [
    "a[2]"
   ]
  },
  {
   "cell_type": "code",
   "execution_count": null,
   "id": "bdaf8cd7",
   "metadata": {},
   "outputs": [],
   "source": [
    "a[3]"
   ]
  },
  {
   "cell_type": "code",
   "execution_count": null,
   "id": "fe9f0e05",
   "metadata": {},
   "outputs": [],
   "source": [
    "a[4]"
   ]
  },
  {
   "cell_type": "code",
   "execution_count": null,
   "id": "8dab4b9b",
   "metadata": {},
   "outputs": [],
   "source": [
    "a[5]"
   ]
  },
  {
   "cell_type": "code",
   "execution_count": null,
   "id": "166a93a3",
   "metadata": {},
   "outputs": [],
   "source": [
    "a[-1]"
   ]
  },
  {
   "cell_type": "code",
   "execution_count": null,
   "id": "cb77f8da",
   "metadata": {},
   "outputs": [],
   "source": [
    "a[-2]"
   ]
  },
  {
   "cell_type": "code",
   "execution_count": null,
   "id": "0bacfd53",
   "metadata": {},
   "outputs": [],
   "source": [
    "a[-3]"
   ]
  },
  {
   "cell_type": "code",
   "execution_count": null,
   "id": "9ffc4544",
   "metadata": {},
   "outputs": [],
   "source": [
    "a[-4]"
   ]
  },
  {
   "cell_type": "code",
   "execution_count": null,
   "id": "8c9ec1c0",
   "metadata": {},
   "outputs": [],
   "source": [
    "a[-5]"
   ]
  },
  {
   "cell_type": "code",
   "execution_count": null,
   "id": "a819dc88",
   "metadata": {},
   "outputs": [],
   "source": [
    "a[-6]"
   ]
  },
  {
   "cell_type": "code",
   "execution_count": null,
   "id": "fa7b5056",
   "metadata": {},
   "outputs": [],
   "source": [
    "a[-5]"
   ]
  },
  {
   "cell_type": "code",
   "execution_count": null,
   "id": "75137fb6",
   "metadata": {},
   "outputs": [],
   "source": [
    "a[-6]"
   ]
  },
  {
   "cell_type": "code",
   "execution_count": null,
   "id": "ae395f1b",
   "metadata": {},
   "outputs": [],
   "source": [
    "a[-7]"
   ]
  },
  {
   "cell_type": "code",
   "execution_count": null,
   "id": "c1588e24",
   "metadata": {},
   "outputs": [],
   "source": [
    "a[-8]"
   ]
  },
  {
   "cell_type": "code",
   "execution_count": null,
   "id": "9cb18535",
   "metadata": {},
   "outputs": [],
   "source": [
    "b = a.upper()"
   ]
  },
  {
   "cell_type": "code",
   "execution_count": null,
   "id": "cac1edc7",
   "metadata": {},
   "outputs": [],
   "source": [
    "b"
   ]
  },
  {
   "cell_type": "code",
   "execution_count": null,
   "id": "23202e1a",
   "metadata": {},
   "outputs": [],
   "source": [
    "a"
   ]
  },
  {
   "cell_type": "code",
   "execution_count": null,
   "id": "6cf3ceea",
   "metadata": {},
   "outputs": [],
   "source": []
  },
  {
   "cell_type": "code",
   "execution_count": null,
   "id": "d8b82dbe",
   "metadata": {},
   "outputs": [],
   "source": [
    "a.capitalize()"
   ]
  },
  {
   "cell_type": "code",
   "execution_count": null,
   "id": "0b628f44",
   "metadata": {},
   "outputs": [],
   "source": [
    "a.lstrip??"
   ]
  },
  {
   "cell_type": "code",
   "execution_count": null,
   "id": "6aed3ad7",
   "metadata": {},
   "outputs": [],
   "source": [
    "a.upper()"
   ]
  },
  {
   "cell_type": "code",
   "execution_count": null,
   "id": "bfbb150b",
   "metadata": {},
   "outputs": [],
   "source": [
    "a.lower()"
   ]
  },
  {
   "cell_type": "code",
   "execution_count": null,
   "id": "8472eb67",
   "metadata": {},
   "outputs": [],
   "source": [
    "a[0] = \"I\" #string are not mutable"
   ]
  },
  {
   "cell_type": "code",
   "execution_count": null,
   "id": "6e546efa",
   "metadata": {},
   "outputs": [],
   "source": [
    "a"
   ]
  },
  {
   "cell_type": "code",
   "execution_count": null,
   "id": "e893fb5a",
   "metadata": {},
   "outputs": [],
   "source": [
    "a[:3] #ending is excluded"
   ]
  },
  {
   "cell_type": "code",
   "execution_count": null,
   "id": "4c3bc17c",
   "metadata": {},
   "outputs": [],
   "source": [
    "a[0:3]"
   ]
  },
  {
   "cell_type": "code",
   "execution_count": null,
   "id": "91d6500d",
   "metadata": {},
   "outputs": [],
   "source": [
    "a[1:3] #1,2"
   ]
  },
  {
   "cell_type": "code",
   "execution_count": null,
   "id": "d62516b0",
   "metadata": {},
   "outputs": [],
   "source": [
    "a[::]"
   ]
  },
  {
   "cell_type": "code",
   "execution_count": null,
   "id": "ee75d356",
   "metadata": {},
   "outputs": [],
   "source": [
    "a[-1]"
   ]
  },
  {
   "cell_type": "code",
   "execution_count": null,
   "id": "09993f1d",
   "metadata": {},
   "outputs": [],
   "source": [
    "a[::-1] # it is used to reverse the string"
   ]
  },
  {
   "cell_type": "code",
   "execution_count": null,
   "id": "0574ad1c",
   "metadata": {},
   "outputs": [],
   "source": [
    "a[[1,2]] #multi index slicing does not work in string"
   ]
  },
  {
   "cell_type": "code",
   "execution_count": null,
   "id": "80d10722",
   "metadata": {},
   "outputs": [],
   "source": [
    "ls = [\"Pragyan\",\"Divya\",\"Sushant\",\"ABC\"]"
   ]
  },
  {
   "cell_type": "code",
   "execution_count": null,
   "id": "4e9df26c",
   "metadata": {},
   "outputs": [],
   "source": []
  },
  {
   "cell_type": "code",
   "execution_count": null,
   "id": "dd49faff",
   "metadata": {},
   "outputs": [],
   "source": [
    "a[::1]"
   ]
  },
  {
   "cell_type": "code",
   "execution_count": null,
   "id": "9ee58404",
   "metadata": {},
   "outputs": [],
   "source": [
    "a[start,endpoint -1]"
   ]
  },
  {
   "cell_type": "code",
   "execution_count": null,
   "id": "be395de3",
   "metadata": {},
   "outputs": [],
   "source": [
    "a = \"Pragyan\""
   ]
  },
  {
   "cell_type": "code",
   "execution_count": null,
   "id": "d8be2dd5",
   "metadata": {},
   "outputs": [],
   "source": [
    "b = \"Prakash\""
   ]
  },
  {
   "cell_type": "code",
   "execution_count": null,
   "id": "9259fd6b",
   "metadata": {},
   "outputs": [],
   "source": [
    "a + \" \" + b #string concatenation"
   ]
  },
  {
   "cell_type": "code",
   "execution_count": null,
   "id": "7906ec99",
   "metadata": {},
   "outputs": [],
   "source": [
    "2 +1"
   ]
  },
  {
   "cell_type": "code",
   "execution_count": null,
   "id": "9edb1b07",
   "metadata": {},
   "outputs": [],
   "source": [
    "2+1.1"
   ]
  },
  {
   "cell_type": "code",
   "execution_count": null,
   "id": "c6f3d78d",
   "metadata": {},
   "outputs": [],
   "source": [
    "str(2) + \"Pragyan\""
   ]
  },
  {
   "cell_type": "code",
   "execution_count": null,
   "id": "d93eedbf",
   "metadata": {},
   "outputs": [],
   "source": [
    "\"Pragyan\" + \" \" + \"loves chicken!!\""
   ]
  },
  {
   "cell_type": "code",
   "execution_count": null,
   "id": "19dfa91f",
   "metadata": {},
   "outputs": [],
   "source": [
    "\"Pragyan\" + str(1)"
   ]
  },
  {
   "cell_type": "code",
   "execution_count": null,
   "id": "3e72ec6d",
   "metadata": {},
   "outputs": [],
   "source": [
    "a = input(\"Enter something..\")"
   ]
  },
  {
   "cell_type": "code",
   "execution_count": null,
   "id": "d0112851",
   "metadata": {},
   "outputs": [],
   "source": [
    "type(a)"
   ]
  },
  {
   "cell_type": "code",
   "execution_count": null,
   "id": "341b4342",
   "metadata": {},
   "outputs": [],
   "source": [
    "final_price = 100"
   ]
  },
  {
   "cell_type": "code",
   "execution_count": null,
   "id": "34ea6926",
   "metadata": {},
   "outputs": [],
   "source": [
    "type(final_price)"
   ]
  },
  {
   "cell_type": "code",
   "execution_count": null,
   "id": "2c8edbe2",
   "metadata": {},
   "outputs": [],
   "source": [
    "final_price = \"Priya\""
   ]
  },
  {
   "cell_type": "code",
   "execution_count": null,
   "id": "f10868bb",
   "metadata": {},
   "outputs": [],
   "source": [
    "type(final_price)"
   ]
  },
  {
   "cell_type": "code",
   "execution_count": null,
   "id": "542ba486",
   "metadata": {},
   "outputs": [],
   "source": []
  },
  {
   "cell_type": "code",
   "execution_count": null,
   "id": "b75cd79f",
   "metadata": {},
   "outputs": [],
   "source": [
    "a = int(input(\"Enter something..\"))"
   ]
  },
  {
   "cell_type": "code",
   "execution_count": null,
   "id": "a08cfcac",
   "metadata": {},
   "outputs": [],
   "source": [
    "type(a)"
   ]
  },
  {
   "cell_type": "code",
   "execution_count": null,
   "id": "4fe4d627",
   "metadata": {},
   "outputs": [],
   "source": [
    "a =  "
   ]
  },
  {
   "cell_type": "code",
   "execution_count": null,
   "id": "df0ad8b9",
   "metadata": {},
   "outputs": [],
   "source": [
    "a = eval(input(\"Enter something..\"))"
   ]
  },
  {
   "cell_type": "code",
   "execution_count": null,
   "id": "2d699d96",
   "metadata": {},
   "outputs": [],
   "source": [
    "b = eval(input())"
   ]
  },
  {
   "cell_type": "code",
   "execution_count": null,
   "id": "24840a93",
   "metadata": {},
   "outputs": [],
   "source": [
    "type(a)"
   ]
  },
  {
   "cell_type": "code",
   "execution_count": null,
   "id": "f44b7ce9",
   "metadata": {},
   "outputs": [],
   "source": [
    "a"
   ]
  },
  {
   "cell_type": "markdown",
   "id": "b44324b2",
   "metadata": {},
   "source": [
    "### String Functions"
   ]
  },
  {
   "cell_type": "code",
   "execution_count": null,
   "id": "e591ce1c",
   "metadata": {},
   "outputs": [],
   "source": [
    "a = 'priya'\n",
    "b = 'Choudhary'"
   ]
  },
  {
   "cell_type": "code",
   "execution_count": null,
   "id": "f5ba7e52",
   "metadata": {},
   "outputs": [],
   "source": [
    "a.upper()"
   ]
  },
  {
   "cell_type": "code",
   "execution_count": null,
   "id": "91f64d62",
   "metadata": {},
   "outputs": [],
   "source": [
    "a.capitalize()"
   ]
  },
  {
   "cell_type": "code",
   "execution_count": null,
   "id": "b41bef60",
   "metadata": {},
   "outputs": [],
   "source": [
    "b.lower()"
   ]
  },
  {
   "cell_type": "code",
   "execution_count": null,
   "id": "aa7f2ace",
   "metadata": {},
   "outputs": [],
   "source": [
    "c = \"    Pragyan    \""
   ]
  },
  {
   "cell_type": "code",
   "execution_count": null,
   "id": "da1b2130",
   "metadata": {},
   "outputs": [],
   "source": [
    "c.lstrip()"
   ]
  },
  {
   "cell_type": "code",
   "execution_count": null,
   "id": "226641e1",
   "metadata": {},
   "outputs": [],
   "source": [
    "c.rstrip()"
   ]
  },
  {
   "cell_type": "code",
   "execution_count": null,
   "id": "5663a950",
   "metadata": {},
   "outputs": [],
   "source": [
    "c.strip()"
   ]
  },
  {
   "cell_type": "code",
   "execution_count": null,
   "id": "7e4aeabb",
   "metadata": {},
   "outputs": [],
   "source": [
    "d = \"Priya Choudhary\""
   ]
  },
  {
   "cell_type": "code",
   "execution_count": null,
   "id": "bb449e21",
   "metadata": {},
   "outputs": [],
   "source": [
    "d.split??"
   ]
  },
  {
   "cell_type": "code",
   "execution_count": null,
   "id": "4f56649e",
   "metadata": {},
   "outputs": [],
   "source": [
    "e = \"priya.choudhary@gmail.com\""
   ]
  },
  {
   "cell_type": "code",
   "execution_count": null,
   "id": "dbb82a9f",
   "metadata": {},
   "outputs": [],
   "source": [
    "e.split(sep='@')"
   ]
  },
  {
   "cell_type": "code",
   "execution_count": null,
   "id": "3b7cc652",
   "metadata": {},
   "outputs": [],
   "source": [
    "e.split('.')"
   ]
  },
  {
   "cell_type": "code",
   "execution_count": null,
   "id": "e6702cb2",
   "metadata": {},
   "outputs": [],
   "source": [
    "a = 'Priya'"
   ]
  },
  {
   "cell_type": "code",
   "execution_count": null,
   "id": "3ccde772",
   "metadata": {},
   "outputs": [],
   "source": [
    "b = 'choudhary'"
   ]
  },
  {
   "cell_type": "code",
   "execution_count": null,
   "id": "1330a9b3",
   "metadata": {},
   "outputs": [],
   "source": [
    "a+b #string concatenation"
   ]
  },
  {
   "cell_type": "code",
   "execution_count": null,
   "id": "4abc3460",
   "metadata": {},
   "outputs": [],
   "source": [
    "a+\" \"+b"
   ]
  },
  {
   "cell_type": "code",
   "execution_count": null,
   "id": "0594c342",
   "metadata": {},
   "outputs": [],
   "source": [
    "name = \"Priya\""
   ]
  },
  {
   "cell_type": "code",
   "execution_count": null,
   "id": "780f6d16",
   "metadata": {},
   "outputs": [],
   "source": [
    "name[0] = \"R\""
   ]
  },
  {
   "cell_type": "code",
   "execution_count": null,
   "id": "2aa6de2f",
   "metadata": {},
   "outputs": [],
   "source": [
    "course = \"B.com\""
   ]
  },
  {
   "cell_type": "code",
   "execution_count": null,
   "id": "1f8094a7",
   "metadata": {},
   "outputs": [],
   "source": [
    "print(f\"Name is {name} and Course is {course}\")"
   ]
  },
  {
   "cell_type": "code",
   "execution_count": null,
   "id": "62b46e62",
   "metadata": {},
   "outputs": [],
   "source": [
    "print(\"Name is {} and Course is {}\".format(name,course))"
   ]
  },
  {
   "cell_type": "markdown",
   "id": "9fb88e08",
   "metadata": {},
   "source": [
    "### String Formating"
   ]
  },
  {
   "cell_type": "code",
   "execution_count": null,
   "id": "44490efb",
   "metadata": {},
   "outputs": [],
   "source": [
    "name = 'Pragyan'"
   ]
  },
  {
   "cell_type": "code",
   "execution_count": null,
   "id": "2753ba97",
   "metadata": {},
   "outputs": [],
   "source": [
    "work_hard = False\n",
    "if work_hard: \n",
    "    company = \"Microsoft\"\n",
    "else:\n",
    "    company = \"XYZ\""
   ]
  },
  {
   "cell_type": "code",
   "execution_count": null,
   "id": "af3b1de9",
   "metadata": {},
   "outputs": [],
   "source": [
    "print(f\"My name is {name}, My dream company is {company}\")"
   ]
  },
  {
   "cell_type": "code",
   "execution_count": null,
   "id": "73df9e5c",
   "metadata": {},
   "outputs": [],
   "source": [
    "print(\"My name is {}, My dream company is {}\".format(\"Divya\",\"Nielsen\"))"
   ]
  },
  {
   "cell_type": "code",
   "execution_count": null,
   "id": "21979b6f",
   "metadata": {},
   "outputs": [],
   "source": [
    "print(\"My name is %s\" % name,\"My dream company is %s\" % company)"
   ]
  },
  {
   "cell_type": "code",
   "execution_count": null,
   "id": "4d84781c",
   "metadata": {},
   "outputs": [],
   "source": [
    "#Numeric data type (integer,float,boolean) , Strings ,function , string formating --> 3 formating , integer interning ,"
   ]
  },
  {
   "cell_type": "markdown",
   "id": "3cea01bb",
   "metadata": {},
   "source": [
    "## Lists"
   ]
  },
  {
   "cell_type": "code",
   "execution_count": null,
   "id": "af076890",
   "metadata": {},
   "outputs": [],
   "source": [
    "# lists are containers that stores heterogenous(different data types) elements "
   ]
  },
  {
   "cell_type": "code",
   "execution_count": null,
   "id": "1fb99de8",
   "metadata": {},
   "outputs": [],
   "source": [
    "Grocery = ['Potato','Tomato',False,{'sugar':2.5},['Ladoo','Rasgulla']]"
   ]
  },
  {
   "cell_type": "code",
   "execution_count": null,
   "id": "d8b7f28b",
   "metadata": {},
   "outputs": [],
   "source": []
  },
  {
   "cell_type": "code",
   "execution_count": null,
   "id": "8be9b162",
   "metadata": {},
   "outputs": [],
   "source": [
    "Grocery[4][0]"
   ]
  },
  {
   "cell_type": "code",
   "execution_count": null,
   "id": "a2709680",
   "metadata": {},
   "outputs": [],
   "source": [
    "type(Grocery)"
   ]
  },
  {
   "cell_type": "code",
   "execution_count": null,
   "id": "68c9e82c",
   "metadata": {},
   "outputs": [],
   "source": [
    "len(Grocery)"
   ]
  },
  {
   "cell_type": "code",
   "execution_count": null,
   "id": "315a612f",
   "metadata": {},
   "outputs": [],
   "source": [
    "Grocery[0]"
   ]
  },
  {
   "cell_type": "code",
   "execution_count": null,
   "id": "198d38b6",
   "metadata": {},
   "outputs": [],
   "source": [
    "Grocery[1]"
   ]
  },
  {
   "cell_type": "code",
   "execution_count": null,
   "id": "a861b0f4",
   "metadata": {},
   "outputs": [],
   "source": [
    "Grocery[2]"
   ]
  },
  {
   "cell_type": "code",
   "execution_count": null,
   "id": "a82dfc6f",
   "metadata": {},
   "outputs": [],
   "source": [
    "Grocery[3]"
   ]
  },
  {
   "cell_type": "code",
   "execution_count": null,
   "id": "0d4dd174",
   "metadata": {},
   "outputs": [],
   "source": [
    "Grocery[-6]"
   ]
  },
  {
   "cell_type": "code",
   "execution_count": null,
   "id": "db011ca9",
   "metadata": {},
   "outputs": [],
   "source": [
    "type(Grocery[2])"
   ]
  },
  {
   "cell_type": "code",
   "execution_count": null,
   "id": "b39a90c0",
   "metadata": {
    "scrolled": true
   },
   "outputs": [],
   "source": [
    "type(Grocery[3])"
   ]
  },
  {
   "cell_type": "code",
   "execution_count": null,
   "id": "54074425",
   "metadata": {},
   "outputs": [],
   "source": [
    "type(Grocery[4])"
   ]
  },
  {
   "cell_type": "code",
   "execution_count": null,
   "id": "1ec03251",
   "metadata": {},
   "outputs": [],
   "source": [
    "Grocery[5]"
   ]
  },
  {
   "cell_type": "code",
   "execution_count": null,
   "id": "4b75a298",
   "metadata": {},
   "outputs": [],
   "source": [
    "#LSD is mutable\n",
    "Grocery[0]"
   ]
  },
  {
   "cell_type": "code",
   "execution_count": null,
   "id": "5eee050c",
   "metadata": {},
   "outputs": [],
   "source": [
    "Grocery[0] = 'Chicken' #list are mutable"
   ]
  },
  {
   "cell_type": "code",
   "execution_count": null,
   "id": "93fabf2a",
   "metadata": {},
   "outputs": [],
   "source": [
    "Grocery"
   ]
  },
  {
   "cell_type": "code",
   "execution_count": null,
   "id": "65a84ce4",
   "metadata": {},
   "outputs": [],
   "source": [
    "Grocery.append('Tea leaf')"
   ]
  },
  {
   "cell_type": "code",
   "execution_count": null,
   "id": "68693905",
   "metadata": {},
   "outputs": [],
   "source": [
    "Grocery"
   ]
  },
  {
   "cell_type": "code",
   "execution_count": null,
   "id": "4c9af68e",
   "metadata": {},
   "outputs": [],
   "source": [
    "del Grocery[3]"
   ]
  },
  {
   "cell_type": "code",
   "execution_count": null,
   "id": "dc5525a7",
   "metadata": {},
   "outputs": [],
   "source": [
    "Grocery"
   ]
  },
  {
   "cell_type": "code",
   "execution_count": null,
   "id": "5cc8c191",
   "metadata": {},
   "outputs": [],
   "source": [
    "Grocery.append(\"Vegetables\") #appends element at last of the list"
   ]
  },
  {
   "cell_type": "code",
   "execution_count": null,
   "id": "6350475d",
   "metadata": {},
   "outputs": [],
   "source": [
    "Grocery"
   ]
  },
  {
   "cell_type": "code",
   "execution_count": null,
   "id": "ecff769a",
   "metadata": {},
   "outputs": [],
   "source": [
    "Grocery.append(\"Oil\")"
   ]
  },
  {
   "cell_type": "code",
   "execution_count": null,
   "id": "fcb3086a",
   "metadata": {},
   "outputs": [],
   "source": [
    "Grocery"
   ]
  },
  {
   "cell_type": "code",
   "execution_count": null,
   "id": "e90a24c8",
   "metadata": {},
   "outputs": [],
   "source": [
    "#lists are ordered\n",
    "Grocery.pop() #pop() removes the last element in the list and returns it"
   ]
  },
  {
   "cell_type": "code",
   "execution_count": null,
   "id": "cfdc441b",
   "metadata": {},
   "outputs": [],
   "source": [
    "Grocery"
   ]
  },
  {
   "cell_type": "code",
   "execution_count": null,
   "id": "90073dc5",
   "metadata": {},
   "outputs": [],
   "source": [
    "Grocery.pop()"
   ]
  },
  {
   "cell_type": "code",
   "execution_count": null,
   "id": "a11c3413",
   "metadata": {},
   "outputs": [],
   "source": [
    "Grocery"
   ]
  },
  {
   "cell_type": "code",
   "execution_count": null,
   "id": "284715e0",
   "metadata": {},
   "outputs": [],
   "source": [
    "del Grocery[[0,1]]"
   ]
  },
  {
   "cell_type": "code",
   "execution_count": null,
   "id": "76d05dee",
   "metadata": {},
   "outputs": [],
   "source": [
    "Grocery.extend(['pen','Coffee'])"
   ]
  },
  {
   "cell_type": "code",
   "execution_count": null,
   "id": "18248260",
   "metadata": {},
   "outputs": [],
   "source": [
    "Grocery"
   ]
  },
  {
   "cell_type": "code",
   "execution_count": null,
   "id": "fcfa8d3e",
   "metadata": {},
   "outputs": [],
   "source": [
    "Grocery.remove(['Tea leaf', 'pen'])"
   ]
  },
  {
   "cell_type": "code",
   "execution_count": null,
   "id": "ecc76819",
   "metadata": {},
   "outputs": [],
   "source": [
    "Grocery"
   ]
  },
  {
   "cell_type": "code",
   "execution_count": null,
   "id": "8a08d554",
   "metadata": {},
   "outputs": [],
   "source": [
    "gross2 = []"
   ]
  },
  {
   "cell_type": "code",
   "execution_count": null,
   "id": "a6be808a",
   "metadata": {},
   "outputs": [],
   "source": [
    "gross2.append(\"Chicken\")"
   ]
  },
  {
   "cell_type": "code",
   "execution_count": null,
   "id": "d9de3e0f",
   "metadata": {},
   "outputs": [],
   "source": [
    "gross2"
   ]
  },
  {
   "cell_type": "code",
   "execution_count": null,
   "id": "97a2438e",
   "metadata": {},
   "outputs": [],
   "source": [
    "gross_"
   ]
  },
  {
   "cell_type": "code",
   "execution_count": null,
   "id": "f898e8f3",
   "metadata": {},
   "outputs": [],
   "source": [
    "g3 = [*gross2,*Grocery] #unpacking two lists into the 3rd one"
   ]
  },
  {
   "cell_type": "code",
   "execution_count": null,
   "id": "a0bc05ea",
   "metadata": {},
   "outputs": [],
   "source": [
    "g3"
   ]
  },
  {
   "cell_type": "code",
   "execution_count": null,
   "id": "543ff4a8",
   "metadata": {},
   "outputs": [],
   "source": [
    "gross2.extend(Grocery)"
   ]
  },
  {
   "cell_type": "code",
   "execution_count": null,
   "id": "9d7ea3e2",
   "metadata": {},
   "outputs": [],
   "source": [
    "gross2"
   ]
  },
  {
   "cell_type": "code",
   "execution_count": null,
   "id": "c49fe8da",
   "metadata": {},
   "outputs": [],
   "source": [
    "ls = [1,2,3]\n",
    "ls2 = [\"a\",\"b\",\"c\"]"
   ]
  },
  {
   "cell_type": "code",
   "execution_count": null,
   "id": "038a3de3",
   "metadata": {},
   "outputs": [],
   "source": [
    "dict(zip(ls,ls2))"
   ]
  },
  {
   "cell_type": "code",
   "execution_count": null,
   "id": "f3180c6e",
   "metadata": {},
   "outputs": [],
   "source": [
    "list(zip(ls,ls2))"
   ]
  },
  {
   "cell_type": "code",
   "execution_count": null,
   "id": "c5cc95c2",
   "metadata": {},
   "outputs": [],
   "source": [
    "gross2"
   ]
  },
  {
   "cell_type": "code",
   "execution_count": null,
   "id": "a62bf2da",
   "metadata": {},
   "outputs": [],
   "source": [
    "gross_"
   ]
  },
  {
   "cell_type": "code",
   "execution_count": null,
   "id": "f1823fe2",
   "metadata": {},
   "outputs": [],
   "source": [
    "gross2[0] = 'Vegetable'\n",
    "gross2[-1] = 'Chicken'"
   ]
  },
  {
   "cell_type": "code",
   "execution_count": null,
   "id": "5923ba9a",
   "metadata": {},
   "outputs": [],
   "source": [
    "gross_[2][0] = \"Pragyan\""
   ]
  },
  {
   "cell_type": "code",
   "execution_count": null,
   "id": "18e79b96",
   "metadata": {},
   "outputs": [],
   "source": [
    "gross_"
   ]
  },
  {
   "cell_type": "code",
   "execution_count": null,
   "id": "bf1a2678",
   "metadata": {},
   "outputs": [],
   "source": [
    "s1 = \"Pragyan\""
   ]
  },
  {
   "cell_type": "code",
   "execution_count": null,
   "id": "8134ec93",
   "metadata": {},
   "outputs": [],
   "source": [
    "s1[0] = \"S\" # string is not mutable"
   ]
  },
  {
   "cell_type": "code",
   "execution_count": null,
   "id": "a8e58fe7",
   "metadata": {},
   "outputs": [],
   "source": [
    "s = \"\""
   ]
  },
  {
   "cell_type": "code",
   "execution_count": null,
   "id": "e2ce8092",
   "metadata": {},
   "outputs": [],
   "source": [
    "s"
   ]
  },
  {
   "cell_type": "code",
   "execution_count": null,
   "id": "a1f7c765",
   "metadata": {},
   "outputs": [],
   "source": [
    "s1 = str()"
   ]
  },
  {
   "cell_type": "code",
   "execution_count": null,
   "id": "75e6a859",
   "metadata": {},
   "outputs": [],
   "source": [
    "s1"
   ]
  },
  {
   "cell_type": "code",
   "execution_count": null,
   "id": "1a106dd2",
   "metadata": {},
   "outputs": [],
   "source": [
    "ls1 = []"
   ]
  },
  {
   "cell_type": "code",
   "execution_count": null,
   "id": "b839db25",
   "metadata": {},
   "outputs": [],
   "source": [
    "ls1"
   ]
  },
  {
   "cell_type": "code",
   "execution_count": null,
   "id": "dff7e427",
   "metadata": {},
   "outputs": [],
   "source": [
    "ls2 = list()"
   ]
  },
  {
   "cell_type": "code",
   "execution_count": null,
   "id": "3527349a",
   "metadata": {},
   "outputs": [],
   "source": [
    "ls2"
   ]
  },
  {
   "cell_type": "markdown",
   "id": "b53e6d1d",
   "metadata": {},
   "source": [
    "## Dict"
   ]
  },
  {
   "cell_type": "code",
   "execution_count": null,
   "id": "4a6bba4a",
   "metadata": {},
   "outputs": [],
   "source": [
    "#LSD <--> "
   ]
  },
  {
   "cell_type": "code",
   "execution_count": null,
   "id": "16cd7819",
   "metadata": {},
   "outputs": [],
   "source": [
    "#dictionary -->  it is a collection of key value pair\n",
    "# word --> meaning1 ,meaning2\n",
    "#bank --> deposit money,river's bank\n",
    "\n",
    "d= {\"dog\":4,\"snake\":0,\"human\": 2,\"Auto\" : \"3 tyres\",'Dog':3}"
   ]
  },
  {
   "cell_type": "code",
   "execution_count": null,
   "id": "d1651811",
   "metadata": {},
   "outputs": [],
   "source": [
    "d"
   ]
  },
  {
   "cell_type": "code",
   "execution_count": null,
   "id": "037b2a42",
   "metadata": {},
   "outputs": [],
   "source": [
    "d['dog']"
   ]
  },
  {
   "cell_type": "code",
   "execution_count": null,
   "id": "d82b2812",
   "metadata": {},
   "outputs": [],
   "source": [
    "d['Bike']"
   ]
  },
  {
   "cell_type": "code",
   "execution_count": null,
   "id": "1a5b279c",
   "metadata": {},
   "outputs": [],
   "source": [
    "d.get('dog')"
   ]
  },
  {
   "cell_type": "code",
   "execution_count": null,
   "id": "0ebb68f4",
   "metadata": {},
   "outputs": [],
   "source": [
    "d.get(\"Bike\")"
   ]
  },
  {
   "cell_type": "code",
   "execution_count": null,
   "id": "3b2f3e0a",
   "metadata": {},
   "outputs": [],
   "source": [
    "d.get('Bike',\"Not present\")#know this but don't use"
   ]
  },
  {
   "cell_type": "code",
   "execution_count": null,
   "id": "5b638cf9",
   "metadata": {},
   "outputs": [],
   "source": [
    "d.get('Dog',\"Not present\")#know this but don't use"
   ]
  },
  {
   "cell_type": "code",
   "execution_count": null,
   "id": "abb9d5a5",
   "metadata": {},
   "outputs": [],
   "source": [
    "d['Dog']"
   ]
  },
  {
   "cell_type": "code",
   "execution_count": null,
   "id": "fa489767",
   "metadata": {},
   "outputs": [],
   "source": [
    "d"
   ]
  },
  {
   "cell_type": "code",
   "execution_count": null,
   "id": "eef2511b",
   "metadata": {},
   "outputs": [],
   "source": [
    "d['monkey'] = 3"
   ]
  },
  {
   "cell_type": "code",
   "execution_count": null,
   "id": "7c493dc3",
   "metadata": {},
   "outputs": [],
   "source": [
    "d[\"Kite\"] = 1"
   ]
  },
  {
   "cell_type": "code",
   "execution_count": null,
   "id": "bd863f88",
   "metadata": {},
   "outputs": [],
   "source": [
    "d"
   ]
  },
  {
   "cell_type": "code",
   "execution_count": null,
   "id": "82b94e40",
   "metadata": {},
   "outputs": [],
   "source": [
    "d.update({})"
   ]
  },
  {
   "cell_type": "code",
   "execution_count": null,
   "id": "6ee046fe",
   "metadata": {},
   "outputs": [],
   "source": [
    "d.update({'kite': 6,'monkey':9})"
   ]
  },
  {
   "cell_type": "code",
   "execution_count": null,
   "id": "c34bbbb1",
   "metadata": {},
   "outputs": [],
   "source": [
    "d"
   ]
  },
  {
   "cell_type": "code",
   "execution_count": null,
   "id": "75d103b4",
   "metadata": {},
   "outputs": [],
   "source": [
    "d.update({'Pragyan':\"Prakash\"})"
   ]
  },
  {
   "cell_type": "code",
   "execution_count": null,
   "id": "84309b50",
   "metadata": {},
   "outputs": [],
   "source": [
    "d"
   ]
  },
  {
   "cell_type": "code",
   "execution_count": null,
   "id": "fcb3d51b",
   "metadata": {},
   "outputs": [],
   "source": [
    "d[[1,2,3]] = 5 "
   ]
  },
  {
   "cell_type": "code",
   "execution_count": null,
   "id": "c710c53e",
   "metadata": {},
   "outputs": [],
   "source": [
    "d[2.5] = 2"
   ]
  },
  {
   "cell_type": "code",
   "execution_count": null,
   "id": "0cb6ec7c",
   "metadata": {},
   "outputs": [],
   "source": [
    "d"
   ]
  },
  {
   "cell_type": "code",
   "execution_count": null,
   "id": "80a15144",
   "metadata": {},
   "outputs": [],
   "source": [
    "d[True] = \"True\""
   ]
  },
  {
   "cell_type": "code",
   "execution_count": null,
   "id": "72cce9ca",
   "metadata": {},
   "outputs": [],
   "source": [
    "d"
   ]
  },
  {
   "cell_type": "code",
   "execution_count": null,
   "id": "71aee74c",
   "metadata": {},
   "outputs": [],
   "source": [
    "type(d)"
   ]
  },
  {
   "cell_type": "code",
   "execution_count": null,
   "id": "613958eb",
   "metadata": {},
   "outputs": [],
   "source": [
    "d"
   ]
  },
  {
   "cell_type": "code",
   "execution_count": null,
   "id": "c6066f39",
   "metadata": {},
   "outputs": [],
   "source": [
    "del d['Pragyan']"
   ]
  },
  {
   "cell_type": "code",
   "execution_count": null,
   "id": "27a5356b",
   "metadata": {},
   "outputs": [],
   "source": [
    "d"
   ]
  },
  {
   "cell_type": "code",
   "execution_count": null,
   "id": "de6d772d",
   "metadata": {},
   "outputs": [],
   "source": [
    "d.values()"
   ]
  },
  {
   "cell_type": "code",
   "execution_count": null,
   "id": "6516ebe6",
   "metadata": {},
   "outputs": [],
   "source": [
    "d.keys()"
   ]
  },
  {
   "cell_type": "code",
   "execution_count": null,
   "id": "19388969",
   "metadata": {},
   "outputs": [],
   "source": [
    "d.items()"
   ]
  },
  {
   "cell_type": "code",
   "execution_count": null,
   "id": "1639d633",
   "metadata": {},
   "outputs": [],
   "source": [
    "d1 = dict()"
   ]
  },
  {
   "cell_type": "code",
   "execution_count": null,
   "id": "90a33b67",
   "metadata": {},
   "outputs": [],
   "source": [
    "d1"
   ]
  },
  {
   "cell_type": "code",
   "execution_count": null,
   "id": "3747ea30",
   "metadata": {},
   "outputs": [],
   "source": [
    "d2 = {}"
   ]
  },
  {
   "cell_type": "code",
   "execution_count": null,
   "id": "3530e882",
   "metadata": {},
   "outputs": [],
   "source": [
    "d2"
   ]
  },
  {
   "cell_type": "code",
   "execution_count": null,
   "id": "c6549b22",
   "metadata": {},
   "outputs": [],
   "source": [
    "type(d1)"
   ]
  },
  {
   "cell_type": "code",
   "execution_count": null,
   "id": "8acd51bd",
   "metadata": {},
   "outputs": [],
   "source": [
    "type(d2)"
   ]
  },
  {
   "cell_type": "code",
   "execution_count": null,
   "id": "532df201",
   "metadata": {},
   "outputs": [],
   "source": [
    "ls = [\"a\",1,2]"
   ]
  },
  {
   "cell_type": "code",
   "execution_count": null,
   "id": "d1115993",
   "metadata": {},
   "outputs": [],
   "source": [
    "ls*4"
   ]
  },
  {
   "cell_type": "markdown",
   "id": "863f0f57",
   "metadata": {},
   "source": [
    "## Sets"
   ]
  },
  {
   "cell_type": "code",
   "execution_count": null,
   "id": "5e2367e8",
   "metadata": {},
   "outputs": [],
   "source": [
    "# sets are dictionary without values -->only contains keys"
   ]
  },
  {
   "cell_type": "code",
   "execution_count": null,
   "id": "331d9321",
   "metadata": {},
   "outputs": [],
   "source": [
    "#set theory\n",
    "s1 = {1,2,3}"
   ]
  },
  {
   "cell_type": "code",
   "execution_count": null,
   "id": "9b1c7433",
   "metadata": {},
   "outputs": [],
   "source": []
  },
  {
   "cell_type": "code",
   "execution_count": null,
   "id": "b5cec066",
   "metadata": {},
   "outputs": [],
   "source": []
  },
  {
   "cell_type": "code",
   "execution_count": null,
   "id": "bb7e09d5",
   "metadata": {},
   "outputs": [],
   "source": []
  },
  {
   "cell_type": "code",
   "execution_count": null,
   "id": "434984a6",
   "metadata": {},
   "outputs": [],
   "source": [
    "type(s1)"
   ]
  },
  {
   "cell_type": "code",
   "execution_count": null,
   "id": "ae990799",
   "metadata": {},
   "outputs": [],
   "source": [
    "s2 = {4,2,5,1}"
   ]
  },
  {
   "cell_type": "code",
   "execution_count": null,
   "id": "faaee122",
   "metadata": {},
   "outputs": [],
   "source": [
    "s1 - s2 "
   ]
  },
  {
   "cell_type": "code",
   "execution_count": null,
   "id": "d39bc4ae",
   "metadata": {},
   "outputs": [],
   "source": [
    "s2 - s1"
   ]
  },
  {
   "cell_type": "code",
   "execution_count": null,
   "id": "8a6dc91f",
   "metadata": {},
   "outputs": [],
   "source": [
    "s1.intersection(s2)"
   ]
  },
  {
   "cell_type": "code",
   "execution_count": null,
   "id": "145e1ce7",
   "metadata": {},
   "outputs": [],
   "source": [
    "s2.intersection(s1)"
   ]
  },
  {
   "cell_type": "code",
   "execution_count": null,
   "id": "5864213b",
   "metadata": {},
   "outputs": [],
   "source": [
    "1,2,3,4,5"
   ]
  },
  {
   "cell_type": "code",
   "execution_count": null,
   "id": "4292f1f0",
   "metadata": {},
   "outputs": [],
   "source": [
    "s3 = s1.union(s2)"
   ]
  },
  {
   "cell_type": "code",
   "execution_count": null,
   "id": "c2c7cecb",
   "metadata": {},
   "outputs": [],
   "source": [
    "s3"
   ]
  },
  {
   "cell_type": "code",
   "execution_count": null,
   "id": "b7616c02",
   "metadata": {},
   "outputs": [],
   "source": [
    "s4 = {1,2,3,1,5}  #sets contains unique elements"
   ]
  },
  {
   "cell_type": "code",
   "execution_count": null,
   "id": "f4fdd77a",
   "metadata": {},
   "outputs": [],
   "source": [
    "s4"
   ]
  },
  {
   "cell_type": "code",
   "execution_count": null,
   "id": "5d94decd",
   "metadata": {},
   "outputs": [],
   "source": [
    "\n",
    "s2"
   ]
  },
  {
   "cell_type": "code",
   "execution_count": null,
   "id": "16789335",
   "metadata": {},
   "outputs": [],
   "source": [
    "s2.update([8,9,19,20])"
   ]
  },
  {
   "cell_type": "code",
   "execution_count": null,
   "id": "479df905",
   "metadata": {},
   "outputs": [],
   "source": [
    "s2"
   ]
  },
  {
   "cell_type": "code",
   "execution_count": null,
   "id": "21d3081a",
   "metadata": {},
   "outputs": [],
   "source": [
    "s2.add(99)"
   ]
  },
  {
   "cell_type": "code",
   "execution_count": null,
   "id": "6ac8b4b4",
   "metadata": {},
   "outputs": [],
   "source": [
    "s2"
   ]
  },
  {
   "cell_type": "code",
   "execution_count": null,
   "id": "c7d05593",
   "metadata": {},
   "outputs": [],
   "source": []
  },
  {
   "cell_type": "code",
   "execution_count": null,
   "id": "696fb1cb",
   "metadata": {},
   "outputs": [],
   "source": [
    "s2.remove(21) "
   ]
  },
  {
   "cell_type": "code",
   "execution_count": null,
   "id": "dfb0bdca",
   "metadata": {},
   "outputs": [],
   "source": [
    "s2.discard??"
   ]
  },
  {
   "cell_type": "code",
   "execution_count": null,
   "id": "f37c7b9a",
   "metadata": {},
   "outputs": [],
   "source": [
    "s2.discard(21)"
   ]
  },
  {
   "cell_type": "code",
   "execution_count": null,
   "id": "e6feb297",
   "metadata": {},
   "outputs": [],
   "source": [
    "s2.clear()"
   ]
  },
  {
   "cell_type": "code",
   "execution_count": null,
   "id": "c0c855a5",
   "metadata": {},
   "outputs": [],
   "source": [
    "s2"
   ]
  },
  {
   "cell_type": "code",
   "execution_count": null,
   "id": "3e415ec9",
   "metadata": {},
   "outputs": [],
   "source": [
    "s2[2]"
   ]
  },
  {
   "cell_type": "code",
   "execution_count": null,
   "id": "50a71d71",
   "metadata": {},
   "outputs": [],
   "source": [
    "s2"
   ]
  },
  {
   "cell_type": "code",
   "execution_count": null,
   "id": "a28eaaac",
   "metadata": {},
   "outputs": [],
   "source": [
    "del s2[2]"
   ]
  },
  {
   "cell_type": "code",
   "execution_count": null,
   "id": "979a3616",
   "metadata": {},
   "outputs": [],
   "source": [
    "s1"
   ]
  },
  {
   "cell_type": "code",
   "execution_count": null,
   "id": "4a8837eb",
   "metadata": {},
   "outputs": [],
   "source": [
    "for i in s1:\n",
    "    print(i)"
   ]
  },
  {
   "cell_type": "code",
   "execution_count": null,
   "id": "6fe8c1b2",
   "metadata": {},
   "outputs": [],
   "source": [
    "ls = [45,67,1,2,67]"
   ]
  },
  {
   "cell_type": "code",
   "execution_count": null,
   "id": "c38fdfc9",
   "metadata": {},
   "outputs": [],
   "source": [
    "ls.index(67)"
   ]
  },
  {
   "cell_type": "code",
   "execution_count": null,
   "id": "315bcead",
   "metadata": {},
   "outputs": [],
   "source": [
    "ls.sort()"
   ]
  },
  {
   "cell_type": "code",
   "execution_count": null,
   "id": "7b53e61a",
   "metadata": {},
   "outputs": [],
   "source": [
    "ls"
   ]
  },
  {
   "cell_type": "code",
   "execution_count": null,
   "id": "5a6b0753",
   "metadata": {},
   "outputs": [],
   "source": [
    "ls.sort??"
   ]
  },
  {
   "cell_type": "code",
   "execution_count": null,
   "id": "defb41d5",
   "metadata": {},
   "outputs": [],
   "source": [
    "ls.sort(reverse=True)"
   ]
  },
  {
   "cell_type": "code",
   "execution_count": null,
   "id": "d2b40e71",
   "metadata": {},
   "outputs": [],
   "source": [
    "ls"
   ]
  },
  {
   "cell_type": "code",
   "execution_count": null,
   "id": "39c945a2",
   "metadata": {},
   "outputs": [],
   "source": [
    "ls = ['keys','priya','apple']"
   ]
  },
  {
   "cell_type": "code",
   "execution_count": null,
   "id": "cd675145",
   "metadata": {},
   "outputs": [],
   "source": [
    "ls.sort()"
   ]
  },
  {
   "cell_type": "code",
   "execution_count": null,
   "id": "8b1c8470",
   "metadata": {},
   "outputs": [],
   "source": [
    "ls"
   ]
  },
  {
   "cell_type": "code",
   "execution_count": null,
   "id": "e114341e",
   "metadata": {},
   "outputs": [],
   "source": [
    "ls = [\"Pragyan\",\"isha\",3,6,12]"
   ]
  },
  {
   "cell_type": "code",
   "execution_count": null,
   "id": "f52428bb",
   "metadata": {},
   "outputs": [],
   "source": [
    "ls.sort()"
   ]
  },
  {
   "cell_type": "code",
   "execution_count": null,
   "id": "28bab8d6",
   "metadata": {},
   "outputs": [],
   "source": [
    "a = 5"
   ]
  },
  {
   "cell_type": "code",
   "execution_count": null,
   "id": "86d08b40",
   "metadata": {},
   "outputs": [],
   "source": [
    "dir(a)"
   ]
  },
  {
   "cell_type": "code",
   "execution_count": null,
   "id": "1b204cbc",
   "metadata": {},
   "outputs": [],
   "source": [
    "l1 = []\n",
    "l2 = list()\n",
    "d1 = {}\n",
    "d2 = dict()\n",
    "s1 =set()\n",
    "t1 = ()\n",
    "t2 = tuple()"
   ]
  },
  {
   "cell_type": "code",
   "execution_count": null,
   "id": "e0087e89",
   "metadata": {},
   "outputs": [],
   "source": [
    "type(t1)"
   ]
  },
  {
   "cell_type": "markdown",
   "id": "0c252fda",
   "metadata": {},
   "source": [
    "## Tuple"
   ]
  },
  {
   "cell_type": "code",
   "execution_count": null,
   "id": "7f0abc15",
   "metadata": {},
   "outputs": [],
   "source": [
    "t1 = (\"Pragyan\",\"19-04-1996\",1,False)"
   ]
  },
  {
   "cell_type": "code",
   "execution_count": null,
   "id": "fa7a6228",
   "metadata": {},
   "outputs": [],
   "source": [
    "t1[3]"
   ]
  },
  {
   "cell_type": "code",
   "execution_count": null,
   "id": "90ec5f83",
   "metadata": {},
   "outputs": [],
   "source": [
    "type(t1)"
   ]
  },
  {
   "cell_type": "code",
   "execution_count": null,
   "id": "41cae0ed",
   "metadata": {},
   "outputs": [],
   "source": [
    "t2 = (1,2,3,1,1)"
   ]
  },
  {
   "cell_type": "code",
   "execution_count": null,
   "id": "6f793065",
   "metadata": {},
   "outputs": [],
   "source": [
    "type(t2)"
   ]
  },
  {
   "cell_type": "code",
   "execution_count": null,
   "id": "60d263a5",
   "metadata": {},
   "outputs": [],
   "source": [
    "t2"
   ]
  },
  {
   "cell_type": "code",
   "execution_count": null,
   "id": "c26cb4c2",
   "metadata": {},
   "outputs": [],
   "source": [
    "t2.count??"
   ]
  },
  {
   "cell_type": "code",
   "execution_count": null,
   "id": "be448c31",
   "metadata": {},
   "outputs": [],
   "source": [
    "t2.count(1)"
   ]
  },
  {
   "cell_type": "code",
   "execution_count": null,
   "id": "9bd60baa",
   "metadata": {},
   "outputs": [],
   "source": [
    "t2.index??"
   ]
  },
  {
   "cell_type": "code",
   "execution_count": null,
   "id": "c332fa14",
   "metadata": {},
   "outputs": [],
   "source": [
    "t2.index(2)"
   ]
  },
  {
   "cell_type": "code",
   "execution_count": null,
   "id": "65e49250",
   "metadata": {},
   "outputs": [],
   "source": [
    "#LSD"
   ]
  },
  {
   "cell_type": "code",
   "execution_count": null,
   "id": "d0543a92",
   "metadata": {},
   "outputs": [],
   "source": [
    "t2[0] = 3"
   ]
  },
  {
   "cell_type": "markdown",
   "id": "c6b9d1d9",
   "metadata": {},
   "source": [
    "## Condition statements"
   ]
  },
  {
   "cell_type": "code",
   "execution_count": null,
   "id": "6b1e8e3d",
   "metadata": {},
   "outputs": [],
   "source": []
  },
  {
   "cell_type": "code",
   "execution_count": null,
   "id": "0327b868",
   "metadata": {},
   "outputs": [],
   "source": [
    "age = 17"
   ]
  },
  {
   "cell_type": "code",
   "execution_count": null,
   "id": "55c1b677",
   "metadata": {},
   "outputs": [],
   "source": [
    "if age > 18:\n",
    "    print(\"You are allowed to vote!!\")\n",
    "else:\n",
    "    print(\"You are not allowed to vote!!\")"
   ]
  },
  {
   "cell_type": "code",
   "execution_count": null,
   "id": "ac0dbaa9",
   "metadata": {},
   "outputs": [],
   "source": [
    "if age > 18:\n",
    "    print(\"Only 18+ are allowed due to extreme violence!!\")\n",
    "elif age == 18 :\n",
    "    print (\"We might allow them!!\")\n",
    "else:\n",
    "    print(\"Childeren are not allowed ,you should watch something else!!\")"
   ]
  },
  {
   "cell_type": "code",
   "execution_count": null,
   "id": "c9eb2208",
   "metadata": {},
   "outputs": [],
   "source": [
    "4%2 == 0"
   ]
  },
  {
   "cell_type": "code",
   "execution_count": null,
   "id": "6008393e",
   "metadata": {},
   "outputs": [],
   "source": [
    "num = 15"
   ]
  },
  {
   "cell_type": "code",
   "execution_count": null,
   "id": "785be432",
   "metadata": {},
   "outputs": [],
   "source": [
    "# if num is divible by 3 print \"Fizz\"\n",
    "# if num is divisble by 5 print \"Buzz\"\n",
    "# if it is divisible by both 3 and 5 print \"FizzBuzz\""
   ]
  },
  {
   "cell_type": "code",
   "execution_count": null,
   "id": "6811e729",
   "metadata": {},
   "outputs": [],
   "source": [
    "if num%3 == 0 and num%5!=0:\n",
    "    print(\"Fizz\")\n",
    "elif num%5 == 0 and num%3!=0:\n",
    "    print(\"Buzz\")\n",
    "elif num%3 ==0 and num%5 ==0:\n",
    "    print(\"FizzBuzz\")"
   ]
  },
  {
   "cell_type": "code",
   "execution_count": null,
   "id": "e0192948",
   "metadata": {},
   "outputs": [],
   "source": [
    "if num%3 == 0 and num%5==0:\n",
    "    print(\"FizzBuzz\")\n",
    "elif num%5 == 0:\n",
    "    print(\"Buzz\")\n",
    "elif num%3 ==0:\n",
    "    print(\"Fizz\")"
   ]
  },
  {
   "cell_type": "markdown",
   "id": "2e41e381",
   "metadata": {},
   "source": [
    "## Loop -- for loop ,while loop"
   ]
  },
  {
   "cell_type": "code",
   "execution_count": null,
   "id": "77e05161",
   "metadata": {},
   "outputs": [],
   "source": [
    "ls = [1,2,3,\"Pragyan\"]"
   ]
  },
  {
   "cell_type": "code",
   "execution_count": null,
   "id": "6e26b915",
   "metadata": {},
   "outputs": [],
   "source": [
    "ls[4]"
   ]
  },
  {
   "cell_type": "code",
   "execution_count": null,
   "id": "a0060612",
   "metadata": {},
   "outputs": [],
   "source": [
    "[]"
   ]
  },
  {
   "cell_type": "code",
   "execution_count": null,
   "id": "a616c690",
   "metadata": {},
   "outputs": [],
   "source": [
    "list()"
   ]
  },
  {
   "cell_type": "code",
   "execution_count": null,
   "id": "15b103a5",
   "metadata": {},
   "outputs": [],
   "source": [
    "range??"
   ]
  },
  {
   "cell_type": "code",
   "execution_count": null,
   "id": "75022fde",
   "metadata": {},
   "outputs": [],
   "source": [
    "list(range(0,9))"
   ]
  },
  {
   "cell_type": "code",
   "execution_count": null,
   "id": "a81ff872",
   "metadata": {},
   "outputs": [],
   "source": [
    "list(range(0,8 ))"
   ]
  },
  {
   "cell_type": "code",
   "execution_count": null,
   "id": "eea22ec8",
   "metadata": {},
   "outputs": [],
   "source": [
    "ls = list(range(1,101))"
   ]
  },
  {
   "cell_type": "code",
   "execution_count": null,
   "id": "4d7bd335",
   "metadata": {},
   "outputs": [],
   "source": [
    "ls"
   ]
  },
  {
   "cell_type": "code",
   "execution_count": null,
   "id": "499a9f63",
   "metadata": {},
   "outputs": [],
   "source": []
  },
  {
   "cell_type": "code",
   "execution_count": null,
   "id": "06c8782d",
   "metadata": {},
   "outputs": [],
   "source": [
    "list(range(1,25,2))"
   ]
  },
  {
   "cell_type": "code",
   "execution_count": null,
   "id": "c322f821",
   "metadata": {},
   "outputs": [],
   "source": [
    "list(range(1,30,3))"
   ]
  },
  {
   "cell_type": "code",
   "execution_count": null,
   "id": "b525e66e",
   "metadata": {},
   "outputs": [],
   "source": [
    "list(range(30,-1,-2))"
   ]
  },
  {
   "cell_type": "code",
   "execution_count": null,
   "id": "11080e84",
   "metadata": {},
   "outputs": [],
   "source": [
    "list(range(10))"
   ]
  },
  {
   "cell_type": "code",
   "execution_count": null,
   "id": "00a88821",
   "metadata": {},
   "outputs": [],
   "source": [
    "ls = [1,2,3,\"Pragyan\"]"
   ]
  },
  {
   "cell_type": "code",
   "execution_count": null,
   "id": "3f72dbfa",
   "metadata": {},
   "outputs": [],
   "source": [
    "ls"
   ]
  },
  {
   "cell_type": "code",
   "execution_count": null,
   "id": "7322dd33",
   "metadata": {},
   "outputs": [],
   "source": [
    "list(range(11,-1,-2))"
   ]
  },
  {
   "cell_type": "code",
   "execution_count": null,
   "id": "b76ed4ef",
   "metadata": {},
   "outputs": [],
   "source": []
  },
  {
   "cell_type": "code",
   "execution_count": null,
   "id": "b4ef9699",
   "metadata": {},
   "outputs": [],
   "source": [
    "len(ls)"
   ]
  },
  {
   "cell_type": "code",
   "execution_count": null,
   "id": "f61e4e08",
   "metadata": {},
   "outputs": [],
   "source": [
    "list(range(0,len(ls)))"
   ]
  },
  {
   "cell_type": "code",
   "execution_count": null,
   "id": "6acd5ff7",
   "metadata": {},
   "outputs": [],
   "source": [
    "# iterating list using index\n",
    "for p in range(0,len(ls)):\n",
    "    print(ls[p])"
   ]
  },
  {
   "cell_type": "code",
   "execution_count": null,
   "id": "da484c5d",
   "metadata": {},
   "outputs": [],
   "source": [
    "#iterating list using item\n",
    "for i in ls:\n",
    "    print(i)\n",
    "    "
   ]
  },
  {
   "cell_type": "code",
   "execution_count": null,
   "id": "45761cd4",
   "metadata": {},
   "outputs": [],
   "source": [
    "tuple(enumerate(ls))"
   ]
  },
  {
   "cell_type": "code",
   "execution_count": null,
   "id": "c6571aed",
   "metadata": {},
   "outputs": [],
   "source": [
    "\"*\"*14"
   ]
  },
  {
   "cell_type": "code",
   "execution_count": null,
   "id": "12e47f45",
   "metadata": {},
   "outputs": [],
   "source": [
    "for index,element in enumerate(ls):\n",
    "    print(index)\n",
    "    print(element)\n",
    "    print(\"*\"*10)"
   ]
  },
  {
   "cell_type": "code",
   "execution_count": null,
   "id": "7550a722",
   "metadata": {},
   "outputs": [],
   "source": [
    "#iterating over dictionary"
   ]
  },
  {
   "cell_type": "code",
   "execution_count": null,
   "id": "6164e001",
   "metadata": {},
   "outputs": [],
   "source": [
    "d = {'a':100,'b':200,'c':300}"
   ]
  },
  {
   "cell_type": "code",
   "execution_count": null,
   "id": "a783bac5",
   "metadata": {},
   "outputs": [],
   "source": [
    "d"
   ]
  },
  {
   "cell_type": "code",
   "execution_count": null,
   "id": "7ef3d931",
   "metadata": {},
   "outputs": [],
   "source": [
    "d.keys()"
   ]
  },
  {
   "cell_type": "code",
   "execution_count": null,
   "id": "198d4dd0",
   "metadata": {},
   "outputs": [],
   "source": [
    "d['a']"
   ]
  },
  {
   "cell_type": "code",
   "execution_count": null,
   "id": "26845d1c",
   "metadata": {},
   "outputs": [],
   "source": [
    "for key in d.keys():\n",
    "    print(d[key])"
   ]
  },
  {
   "cell_type": "code",
   "execution_count": null,
   "id": "0cbab4a7",
   "metadata": {},
   "outputs": [],
   "source": [
    "d.values()"
   ]
  },
  {
   "cell_type": "code",
   "execution_count": null,
   "id": "504a87a5",
   "metadata": {},
   "outputs": [],
   "source": [
    "for value in d.values():\n",
    "    print(value)"
   ]
  },
  {
   "cell_type": "code",
   "execution_count": null,
   "id": "cbff46c7",
   "metadata": {},
   "outputs": [],
   "source": [
    "d.items()"
   ]
  },
  {
   "cell_type": "code",
   "execution_count": null,
   "id": "f029fa91",
   "metadata": {},
   "outputs": [],
   "source": [
    "for k,v in d.items():\n",
    "    print(k)\n",
    "    print(v)\n",
    "    print(\"*\"*90)"
   ]
  },
  {
   "cell_type": "code",
   "execution_count": null,
   "id": "84a5a755",
   "metadata": {},
   "outputs": [],
   "source": [
    "t = (1,2,3,4)"
   ]
  },
  {
   "cell_type": "code",
   "execution_count": null,
   "id": "90aa02fd",
   "metadata": {},
   "outputs": [],
   "source": [
    "for i in range(0,len(t)):\n",
    "    print(t[i])"
   ]
  },
  {
   "cell_type": "code",
   "execution_count": null,
   "id": "71f3d1aa",
   "metadata": {},
   "outputs": [],
   "source": [
    "for i in t:\n",
    "    print(i)"
   ]
  },
  {
   "cell_type": "code",
   "execution_count": null,
   "id": "a230ae69",
   "metadata": {},
   "outputs": [],
   "source": [
    "#list(range(25,0,-1)) #start,end,step"
   ]
  },
  {
   "cell_type": "code",
   "execution_count": null,
   "id": "a51168aa",
   "metadata": {},
   "outputs": [],
   "source": [
    "len(ls)"
   ]
  },
  {
   "cell_type": "code",
   "execution_count": null,
   "id": "fd37c33d",
   "metadata": {},
   "outputs": [],
   "source": [
    "list(range(0,len(ls)))"
   ]
  },
  {
   "cell_type": "code",
   "execution_count": null,
   "id": "d18ab1c8",
   "metadata": {},
   "outputs": [],
   "source": [
    "len(ls)\n"
   ]
  },
  {
   "cell_type": "code",
   "execution_count": null,
   "id": "3f839094",
   "metadata": {},
   "outputs": [],
   "source": [
    "ls[3]"
   ]
  },
  {
   "cell_type": "code",
   "execution_count": null,
   "id": "a96f9191",
   "metadata": {},
   "outputs": [],
   "source": [
    "list(range(0,len(ls)))"
   ]
  },
  {
   "cell_type": "code",
   "execution_count": null,
   "id": "32e5ae83",
   "metadata": {},
   "outputs": [],
   "source": [
    "for i in range(len(ls)-1,-1,-1):\n",
    "    print(ls[i])"
   ]
  },
  {
   "cell_type": "code",
   "execution_count": null,
   "id": "aaae2c25",
   "metadata": {},
   "outputs": [],
   "source": [
    "for i in range(0,len(ls)):\n",
    "    print(ls[i])"
   ]
  },
  {
   "cell_type": "code",
   "execution_count": null,
   "id": "8a10f6cb",
   "metadata": {},
   "outputs": [],
   "source": [
    "ls"
   ]
  },
  {
   "cell_type": "code",
   "execution_count": null,
   "id": "6e74bf0e",
   "metadata": {},
   "outputs": [],
   "source": [
    "tuple(enumerate(ls))"
   ]
  },
  {
   "cell_type": "code",
   "execution_count": null,
   "id": "611b360f",
   "metadata": {},
   "outputs": [],
   "source": [
    "for e in ls:\n",
    "    print(e)"
   ]
  },
  {
   "cell_type": "code",
   "execution_count": null,
   "id": "b6ff8f9c",
   "metadata": {},
   "outputs": [],
   "source": [
    "tuple(enumerate(ls))"
   ]
  },
  {
   "cell_type": "code",
   "execution_count": null,
   "id": "2435c116",
   "metadata": {},
   "outputs": [],
   "source": [
    "for i,e in enumerate(ls):\n",
    "    print(\"Index is \",i)\n",
    "    print(\"Element is \",e)\n",
    "    \n",
    "    print(\"*\"*10)"
   ]
  },
  {
   "cell_type": "code",
   "execution_count": null,
   "id": "0db37ae6",
   "metadata": {},
   "outputs": [],
   "source": [
    "\"Pragyan\"*3"
   ]
  },
  {
   "cell_type": "code",
   "execution_count": null,
   "id": "6c429e89",
   "metadata": {},
   "outputs": [],
   "source": [
    "\"*\"*25 # repeats * 25 times"
   ]
  },
  {
   "cell_type": "code",
   "execution_count": null,
   "id": "cdb298dc",
   "metadata": {},
   "outputs": [],
   "source": [
    "[1,2,3,4]*4 # repeats [1,2,3,4] , four times"
   ]
  },
  {
   "cell_type": "code",
   "execution_count": null,
   "id": "a9b954e5",
   "metadata": {},
   "outputs": [],
   "source": [
    "import numpy as np"
   ]
  },
  {
   "cell_type": "code",
   "execution_count": null,
   "id": "ae639c9a",
   "metadata": {},
   "outputs": [],
   "source": [
    "a = np.array([1,2,3,4,23,65,98,32,9])"
   ]
  },
  {
   "cell_type": "code",
   "execution_count": null,
   "id": "95caa81f",
   "metadata": {},
   "outputs": [],
   "source": [
    "sum(a%2)"
   ]
  },
  {
   "cell_type": "code",
   "execution_count": null,
   "id": "46d844d2",
   "metadata": {},
   "outputs": [],
   "source": [
    "len(a)-sum(a%2)"
   ]
  },
  {
   "cell_type": "code",
   "execution_count": null,
   "id": "46152364",
   "metadata": {},
   "outputs": [],
   "source": [
    "type(a)"
   ]
  },
  {
   "cell_type": "code",
   "execution_count": null,
   "id": "d01c6400",
   "metadata": {},
   "outputs": [],
   "source": [
    "a*4"
   ]
  },
  {
   "cell_type": "code",
   "execution_count": null,
   "id": "783ab437",
   "metadata": {},
   "outputs": [],
   "source": [
    "10e4"
   ]
  },
  {
   "cell_type": "code",
   "execution_count": null,
   "id": "4fdb5109",
   "metadata": {},
   "outputs": [],
   "source": [
    "10e3 # 10 * 10^3"
   ]
  },
  {
   "cell_type": "code",
   "execution_count": null,
   "id": "00209faa",
   "metadata": {},
   "outputs": [],
   "source": [
    "10e-5 # 10 * 10^-5"
   ]
  },
  {
   "cell_type": "code",
   "execution_count": null,
   "id": "02ea8a10",
   "metadata": {},
   "outputs": [],
   "source": [
    "10e-3"
   ]
  },
  {
   "cell_type": "code",
   "execution_count": null,
   "id": "0a6c4df5",
   "metadata": {},
   "outputs": [],
   "source": [
    "10e-5"
   ]
  },
  {
   "cell_type": "code",
   "execution_count": null,
   "id": "68b94a7e",
   "metadata": {},
   "outputs": [],
   "source": [
    "5e6"
   ]
  },
  {
   "cell_type": "code",
   "execution_count": null,
   "id": "75c472f0",
   "metadata": {},
   "outputs": [],
   "source": [
    "1000000000"
   ]
  },
  {
   "cell_type": "code",
   "execution_count": null,
   "id": "6b89dda7",
   "metadata": {},
   "outputs": [],
   "source": [
    "10_000_000_00"
   ]
  },
  {
   "cell_type": "code",
   "execution_count": null,
   "id": "874ec897",
   "metadata": {},
   "outputs": [],
   "source": [
    "1_0_0_0"
   ]
  },
  {
   "cell_type": "code",
   "execution_count": null,
   "id": "576436c8",
   "metadata": {},
   "outputs": [],
   "source": [
    "a = 1_000_00"
   ]
  },
  {
   "cell_type": "code",
   "execution_count": null,
   "id": "e2094ccb",
   "metadata": {},
   "outputs": [],
   "source": [
    "a"
   ]
  },
  {
   "cell_type": "code",
   "execution_count": null,
   "id": "51463afe",
   "metadata": {},
   "outputs": [],
   "source": [
    "a = 10_000"
   ]
  },
  {
   "cell_type": "code",
   "execution_count": null,
   "id": "e998ff76",
   "metadata": {},
   "outputs": [],
   "source": [
    "a"
   ]
  },
  {
   "cell_type": "markdown",
   "id": "91be730a",
   "metadata": {},
   "source": [
    "### Functions"
   ]
  },
  {
   "cell_type": "code",
   "execution_count": null,
   "id": "c5e7ef36",
   "metadata": {},
   "outputs": [],
   "source": [
    "3+5"
   ]
  },
  {
   "cell_type": "code",
   "execution_count": null,
   "id": "aa03a0e4",
   "metadata": {},
   "outputs": [],
   "source": [
    "9+1"
   ]
  },
  {
   "cell_type": "code",
   "execution_count": null,
   "id": "b48edebc",
   "metadata": {},
   "outputs": [],
   "source": [
    "#function --> a function is a block of code that produces reproduciable results whenever called\n",
    "# Built in functions --> functions which are predefined in python\n",
    "# User defined functions --> functions writtem by users to fulfill their requirements\n",
    "\n",
    "len(\"Pragyan\")"
   ]
  },
  {
   "cell_type": "code",
   "execution_count": null,
   "id": "c9942196",
   "metadata": {},
   "outputs": [],
   "source": [
    "len??"
   ]
  },
  {
   "cell_type": "code",
   "execution_count": null,
   "id": "0e49fa77",
   "metadata": {},
   "outputs": [],
   "source": [
    "pow(2,3)"
   ]
  },
  {
   "cell_type": "code",
   "execution_count": null,
   "id": "dbe5673a",
   "metadata": {},
   "outputs": [],
   "source": [
    "2**3"
   ]
  },
  {
   "cell_type": "code",
   "execution_count": null,
   "id": "18b4b748",
   "metadata": {},
   "outputs": [],
   "source": [
    "pow??"
   ]
  },
  {
   "cell_type": "code",
   "execution_count": null,
   "id": "1e2eabda",
   "metadata": {},
   "outputs": [],
   "source": [
    "a =10 # it has it's own scope"
   ]
  },
  {
   "cell_type": "code",
   "execution_count": null,
   "id": "d1d1152e",
   "metadata": {},
   "outputs": [],
   "source": [
    "b =5"
   ]
  },
  {
   "cell_type": "code",
   "execution_count": null,
   "id": "2e960f70",
   "metadata": {},
   "outputs": [],
   "source": [
    "def add(a,b):\n",
    "    return a + b"
   ]
  },
  {
   "cell_type": "code",
   "execution_count": null,
   "id": "0d355b27",
   "metadata": {},
   "outputs": [],
   "source": [
    "add(2,3,3)"
   ]
  },
  {
   "cell_type": "code",
   "execution_count": null,
   "id": "be86208f",
   "metadata": {},
   "outputs": [],
   "source": [
    "def add_(a,b,c=0): #here a and b are called parameters and it can be accessed only only within this function\n",
    "    print(a,b,c)\n",
    "    return a+b+c"
   ]
  },
  {
   "cell_type": "code",
   "execution_count": null,
   "id": "311c1f4d",
   "metadata": {},
   "outputs": [],
   "source": [
    "add_(3,5,1) # here 1 and 3 are called arguments,positional arguments"
   ]
  },
  {
   "cell_type": "code",
   "execution_count": null,
   "id": "582b64a9",
   "metadata": {},
   "outputs": [],
   "source": [
    "print(a,b)"
   ]
  },
  {
   "cell_type": "code",
   "execution_count": null,
   "id": "69d165ca",
   "metadata": {},
   "outputs": [],
   "source": [
    "a"
   ]
  },
  {
   "cell_type": "code",
   "execution_count": null,
   "id": "7d4d45b3",
   "metadata": {},
   "outputs": [],
   "source": [
    "add_(b=2,a=1)#keyword arguments"
   ]
  },
  {
   "cell_type": "code",
   "execution_count": null,
   "id": "1daaf732",
   "metadata": {},
   "outputs": [],
   "source": [
    "add_(1,2,3,4)"
   ]
  },
  {
   "cell_type": "code",
   "execution_count": null,
   "id": "948d1f33",
   "metadata": {},
   "outputs": [],
   "source": [
    "sum((1,2,3))"
   ]
  },
  {
   "cell_type": "code",
   "execution_count": null,
   "id": "9854ff2a",
   "metadata": {},
   "outputs": [],
   "source": [
    "def add_generalised(*args):\n",
    "    print(type(args))\n",
    "    print(args)\n",
    "    return sum(args)"
   ]
  },
  {
   "cell_type": "code",
   "execution_count": null,
   "id": "9a02b771",
   "metadata": {},
   "outputs": [],
   "source": [
    "add_generalised(1,2,3)"
   ]
  },
  {
   "cell_type": "code",
   "execution_count": null,
   "id": "2d701ecc",
   "metadata": {},
   "outputs": [],
   "source": [
    "add_generalised(1,2)"
   ]
  },
  {
   "cell_type": "code",
   "execution_count": null,
   "id": "b56602fd",
   "metadata": {},
   "outputs": [],
   "source": [
    "add_generalised(1,2,3,4,6,7,80,11)"
   ]
  },
  {
   "cell_type": "code",
   "execution_count": null,
   "id": "a0fd7f08",
   "metadata": {},
   "outputs": [],
   "source": [
    "def ls_sum(ls):\n",
    "    return sum(ls)"
   ]
  },
  {
   "cell_type": "code",
   "execution_count": null,
   "id": "a069737b",
   "metadata": {},
   "outputs": [],
   "source": [
    "ls_sum([1,2,3,4])"
   ]
  },
  {
   "cell_type": "code",
   "execution_count": null,
   "id": "fad676b1",
   "metadata": {},
   "outputs": [],
   "source": [
    "a = {'a':2,\"b\":3,\"c\":5}"
   ]
  },
  {
   "cell_type": "code",
   "execution_count": null,
   "id": "9c803aea",
   "metadata": {},
   "outputs": [],
   "source": [
    "sum(a.values())"
   ]
  },
  {
   "cell_type": "code",
   "execution_count": null,
   "id": "40512090",
   "metadata": {},
   "outputs": [],
   "source": [
    "def ayush_ka_function(**kwargs):\n",
    "    print(type(kwargs))\n",
    "    print(kwargs)\n",
    "    return sum(kwargs.values())\n",
    "    "
   ]
  },
  {
   "cell_type": "code",
   "execution_count": null,
   "id": "15a5aac9",
   "metadata": {},
   "outputs": [],
   "source": [
    "ayush_ka_function(a=1,b=3,c=10,d=1)"
   ]
  },
  {
   "cell_type": "code",
   "execution_count": null,
   "id": "1d0706c6",
   "metadata": {},
   "outputs": [],
   "source": [
    "def add_final(*args,**kwargs):\n",
    "    \"\"\"\n",
    "    It takes variable number of positional and keyword arguments and return their sum\n",
    "    \"\"\"\n",
    "    print(type(args))\n",
    "    print(type(kwargs))\n",
    "    print(args)\n",
    "    print(kwargs)\n",
    "    return sum(args) + sum(kwargs.values())"
   ]
  },
  {
   "cell_type": "code",
   "execution_count": null,
   "id": "323dd71b",
   "metadata": {},
   "outputs": [],
   "source": [
    "add_final(1,2,3,4,a=5,b=9)#keyword arguments follow the positional arguments"
   ]
  },
  {
   "cell_type": "code",
   "execution_count": null,
   "id": "c9c0bf89",
   "metadata": {},
   "outputs": [],
   "source": [
    "add_final(a=5,1,2,3,4,b=1)"
   ]
  },
  {
   "cell_type": "code",
   "execution_count": null,
   "id": "6dee9359",
   "metadata": {},
   "outputs": [],
   "source": [
    "add_final??"
   ]
  },
  {
   "cell_type": "code",
   "execution_count": null,
   "id": "3d02372b",
   "metadata": {},
   "outputs": [],
   "source": [
    "def FizzBuzz(num):\n",
    "    \n",
    "    if num%3 == 0 and num%5==0:\n",
    "        print(\"FizzBuzz\")\n",
    "    elif num%5 == 0:\n",
    "        print(\"Buzz\")\n",
    "    elif num%3 ==0:\n",
    "        print(\"Fizz\")"
   ]
  },
  {
   "cell_type": "code",
   "execution_count": null,
   "id": "3f11fc03",
   "metadata": {},
   "outputs": [],
   "source": [
    "def FizzBuzz_ls(ls):\n",
    "     for num in ls:\n",
    "\n",
    "        if num%3 == 0 and num%5==0:\n",
    "            print(f\"{num} : FizzBuzz\")\n",
    "        elif num%5 == 0:\n",
    "            print(f\"{num} : Buzz\")\n",
    "        elif num%3 ==0:\n",
    "            print(f\"{num} : Fizz\")"
   ]
  },
  {
   "cell_type": "code",
   "execution_count": null,
   "id": "24e344b8",
   "metadata": {},
   "outputs": [],
   "source": [
    "FizzBuzz(15)"
   ]
  },
  {
   "cell_type": "code",
   "execution_count": null,
   "id": "b95fd6c4",
   "metadata": {},
   "outputs": [],
   "source": [
    "FizzBuzz(5)"
   ]
  },
  {
   "cell_type": "code",
   "execution_count": null,
   "id": "b5feaa16",
   "metadata": {},
   "outputs": [],
   "source": [
    "FizzBuzz(27)"
   ]
  },
  {
   "cell_type": "code",
   "execution_count": null,
   "id": "eeb7d05f",
   "metadata": {},
   "outputs": [],
   "source": [
    "FizzBuzz_ls([5,10,15,27])"
   ]
  },
  {
   "cell_type": "code",
   "execution_count": null,
   "id": "b982aa65",
   "metadata": {},
   "outputs": [],
   "source": [
    "#for loop will be used when we need to iterate over a iterable for a fixed iterations\n",
    "ls =[1,2,3,4,5,6]"
   ]
  },
  {
   "cell_type": "code",
   "execution_count": null,
   "id": "80f46818",
   "metadata": {},
   "outputs": [],
   "source": [
    "ls"
   ]
  },
  {
   "cell_type": "code",
   "execution_count": null,
   "id": "5d9846de",
   "metadata": {},
   "outputs": [],
   "source": []
  },
  {
   "cell_type": "code",
   "execution_count": null,
   "id": "a46256dd",
   "metadata": {},
   "outputs": [],
   "source": [
    "for element in ls:\n",
    "    print(element+10)"
   ]
  },
  {
   "cell_type": "code",
   "execution_count": null,
   "id": "0c87a80a",
   "metadata": {},
   "outputs": [],
   "source": []
  },
  {
   "cell_type": "code",
   "execution_count": null,
   "id": "7b32c2a7",
   "metadata": {},
   "outputs": [],
   "source": [
    "# while loop will continue the loop till a condition is not met"
   ]
  },
  {
   "cell_type": "code",
   "execution_count": null,
   "id": "f4d83068",
   "metadata": {},
   "outputs": [],
   "source": [
    "i =10\n",
    "while i<15:\n",
    "    print(i)\n",
    "    i+=1 #i=i+1"
   ]
  },
  {
   "cell_type": "code",
   "execution_count": null,
   "id": "366949e3",
   "metadata": {},
   "outputs": [],
   "source": [
    "# if we want to perform some operation once the while loop is exited ,we put it inside else\n",
    "i =10\n",
    "while i<15:\n",
    "    print(i)\n",
    "    i+=1 #i=i+1\n",
    "else:\n",
    "    print(\"This will print once we exit out of loop\")"
   ]
  },
  {
   "cell_type": "code",
   "execution_count": null,
   "id": "ac270d22",
   "metadata": {},
   "outputs": [],
   "source": [
    "i =10\n",
    "while i<15:\n",
    "   \n",
    "    i+=1 #i=i+1\n",
    "    if i == 13:\n",
    "        print(f\"value of i is {i}\")\n",
    "        continue #it will skip the current loop\n",
    "        print(\"Priya, this will not run\")\n",
    "    if i == 14:\n",
    "        print(f\"i value is {i}, now loop will break\")\n",
    "        break #it will break out of the loop\n",
    "    print(i)\n",
    "    \n",
    "    if i == 12:\n",
    "        pass #it won't do anything\n",
    "else:\n",
    "    print(\"This will print once we exit out of loop\")"
   ]
  },
  {
   "cell_type": "code",
   "execution_count": null,
   "id": "cbc59fb6",
   "metadata": {},
   "outputs": [],
   "source": []
  },
  {
   "cell_type": "code",
   "execution_count": null,
   "id": "19bfbb58",
   "metadata": {},
   "outputs": [],
   "source": [
    "Fe --iron  "
   ]
  },
  {
   "cell_type": "code",
   "execution_count": null,
   "id": "265d85ea",
   "metadata": {},
   "outputs": [],
   "source": [
    "Fe+3  -- yellow\n",
    "fe+2 -- green"
   ]
  },
  {
   "cell_type": "code",
   "execution_count": null,
   "id": "effd00dd",
   "metadata": {},
   "outputs": [],
   "source": [
    "def leap_year(year):\n",
    "    "
   ]
  },
  {
   "cell_type": "code",
   "execution_count": null,
   "id": "8760241d",
   "metadata": {},
   "outputs": [],
   "source": [
    "leap_year(2022)"
   ]
  },
  {
   "cell_type": "code",
   "execution_count": null,
   "id": "d597d4ff",
   "metadata": {},
   "outputs": [],
   "source": [
    "x =5 \n",
    "y = 6"
   ]
  },
  {
   "cell_type": "code",
   "execution_count": null,
   "id": "3cce97cc",
   "metadata": {},
   "outputs": [],
   "source": [
    "x,y = 5,6"
   ]
  },
  {
   "cell_type": "code",
   "execution_count": null,
   "id": "33ee4ed8",
   "metadata": {},
   "outputs": [],
   "source": [
    "a,b = 5,6"
   ]
  },
  {
   "cell_type": "code",
   "execution_count": null,
   "id": "eb78933d",
   "metadata": {},
   "outputs": [],
   "source": [
    "a"
   ]
  },
  {
   "cell_type": "code",
   "execution_count": null,
   "id": "e7149213",
   "metadata": {},
   "outputs": [],
   "source": [
    "b"
   ]
  },
  {
   "cell_type": "code",
   "execution_count": null,
   "id": "81b132bf",
   "metadata": {},
   "outputs": [],
   "source": [
    "def pragyan_ka_awsom(num):\n",
    "    return num+1,num-1,num*2,\"pragyan ko english nhi aati\",num,True\n",
    "    "
   ]
  },
  {
   "cell_type": "code",
   "execution_count": null,
   "id": "bfa1b167",
   "metadata": {},
   "outputs": [],
   "source": [
    "x,y,z,*r = pragyan_ka_awsom(5)"
   ]
  },
  {
   "cell_type": "code",
   "execution_count": null,
   "id": "ce09807e",
   "metadata": {},
   "outputs": [],
   "source": [
    "x"
   ]
  },
  {
   "cell_type": "code",
   "execution_count": null,
   "id": "ab519564",
   "metadata": {},
   "outputs": [],
   "source": [
    "y"
   ]
  },
  {
   "cell_type": "code",
   "execution_count": null,
   "id": "76b2f8d7",
   "metadata": {},
   "outputs": [],
   "source": [
    "z"
   ]
  },
  {
   "cell_type": "code",
   "execution_count": null,
   "id": "52f648b4",
   "metadata": {},
   "outputs": [],
   "source": [
    "r"
   ]
  },
  {
   "cell_type": "code",
   "execution_count": null,
   "id": "46530bd2",
   "metadata": {},
   "outputs": [],
   "source": [
    "x,y,z,*s, b= pragyan_ka_awsom(5)"
   ]
  },
  {
   "cell_type": "code",
   "execution_count": null,
   "id": "65ad70c4",
   "metadata": {},
   "outputs": [],
   "source": [
    "x"
   ]
  },
  {
   "cell_type": "code",
   "execution_count": null,
   "id": "f08671a1",
   "metadata": {},
   "outputs": [],
   "source": [
    "y"
   ]
  },
  {
   "cell_type": "code",
   "execution_count": null,
   "id": "ab3d8a23",
   "metadata": {},
   "outputs": [],
   "source": [
    "z"
   ]
  },
  {
   "cell_type": "code",
   "execution_count": null,
   "id": "34a23e79",
   "metadata": {},
   "outputs": [],
   "source": [
    "s"
   ]
  },
  {
   "cell_type": "code",
   "execution_count": null,
   "id": "3377ac50",
   "metadata": {},
   "outputs": [],
   "source": [
    "b"
   ]
  },
  {
   "cell_type": "code",
   "execution_count": null,
   "id": "607d9fb0",
   "metadata": {},
   "outputs": [],
   "source": [
    "def prayan_ka_dusra_awm_fun(num):\n",
    "    return num+1,num-1,num*2,\"We don't need this value\""
   ]
  },
  {
   "cell_type": "code",
   "execution_count": null,
   "id": "f3d03037",
   "metadata": {},
   "outputs": [],
   "source": [
    "x,y,z,_ = prayan_ka_dusra_awm_fun(5)"
   ]
  },
  {
   "cell_type": "code",
   "execution_count": null,
   "id": "337ccf8e",
   "metadata": {},
   "outputs": [],
   "source": [
    "_"
   ]
  },
  {
   "cell_type": "code",
   "execution_count": null,
   "id": "6f96c96c",
   "metadata": {},
   "outputs": [],
   "source": [
    "\"Akshita knows how to spell awsome\".split()"
   ]
  },
  {
   "cell_type": "code",
   "execution_count": null,
   "id": "09a0662a",
   "metadata": {},
   "outputs": [],
   "source": [
    "list(\"Akshita knows how to spell awsome\")"
   ]
  },
  {
   "cell_type": "code",
   "execution_count": null,
   "id": "04fc2c63",
   "metadata": {},
   "outputs": [],
   "source": []
  },
  {
   "cell_type": "code",
   "execution_count": null,
   "id": "e6caeb37",
   "metadata": {},
   "outputs": [],
   "source": [
    "import sys"
   ]
  },
  {
   "cell_type": "code",
   "execution_count": null,
   "id": "be820f16",
   "metadata": {},
   "outputs": [],
   "source": [
    "sys.platform"
   ]
  },
  {
   "cell_type": "markdown",
   "id": "abd7bdf5",
   "metadata": {},
   "source": [
    "Lists are built into the Python programming language, whereas arrays aren't. Arrays are not a built-in data structure, and therefore need to be imported via the array module in order to be used.\n",
    "Arrays of the array module are a thin wrapper over C arrays, and are useful when you want to work with homogeneous data."
   ]
  },
  {
   "cell_type": "code",
   "execution_count": null,
   "id": "cc2a8c6b",
   "metadata": {},
   "outputs": [],
   "source": [
    "import array\n",
    "\n",
    "#how you would create an array\n",
    "array.array()"
   ]
  },
  {
   "cell_type": "code",
   "execution_count": null,
   "id": "7269ef40",
   "metadata": {},
   "outputs": [],
   "source": [
    "import array as arr\n",
    "\n",
    "#how you would create an array\n",
    "arr.array()"
   ]
  },
  {
   "cell_type": "code",
   "execution_count": null,
   "id": "2b528a8e",
   "metadata": {},
   "outputs": [],
   "source": [
    "from array import *\n",
    "\n",
    "#how you would create an array\n",
    "array()"
   ]
  },
  {
   "cell_type": "code",
   "execution_count": null,
   "id": "8a83c410",
   "metadata": {},
   "outputs": [],
   "source": [
    "import array as arr \n",
    "\n",
    "numbers = arr.array('i',[10,20,30])\n",
    "\n",
    "print(numbers)"
   ]
  },
  {
   "cell_type": "code",
   "execution_count": null,
   "id": "0263cab8",
   "metadata": {},
   "outputs": [],
   "source": [
    "numbers = arr.array('H',[10,20,30])\n",
    "\n",
    "print(numbers)"
   ]
  },
  {
   "cell_type": "code",
   "execution_count": null,
   "id": "198e2f5a",
   "metadata": {},
   "outputs": [],
   "source": [
    "numbers = arr.array('H',[10,-20,30])\n",
    "\n",
    "print(numbers)"
   ]
  },
  {
   "cell_type": "code",
   "execution_count": null,
   "id": "25dd4cd2",
   "metadata": {},
   "outputs": [],
   "source": []
  },
  {
   "cell_type": "code",
   "execution_count": null,
   "id": "3f2b9f82",
   "metadata": {},
   "outputs": [],
   "source": []
  },
  {
   "cell_type": "code",
   "execution_count": null,
   "id": "16672625",
   "metadata": {},
   "outputs": [],
   "source": [
    "arr.array([1,2,3])"
   ]
  },
  {
   "cell_type": "code",
   "execution_count": null,
   "id": "8e61ebb2",
   "metadata": {},
   "outputs": [],
   "source": [
    "import numpy as np"
   ]
  },
  {
   "cell_type": "code",
   "execution_count": null,
   "id": "604bcb9a",
   "metadata": {},
   "outputs": [],
   "source": [
    "np.array([1,2,3])"
   ]
  },
  {
   "cell_type": "code",
   "execution_count": null,
   "id": "a6de35bb",
   "metadata": {},
   "outputs": [],
   "source": [
    "np.array([-1,2,3])"
   ]
  },
  {
   "cell_type": "code",
   "execution_count": null,
   "id": "99cc3159",
   "metadata": {},
   "outputs": [],
   "source": [
    "np.array([1,2.5,3])"
   ]
  },
  {
   "cell_type": "code",
   "execution_count": null,
   "id": "401a42cc",
   "metadata": {},
   "outputs": [],
   "source": [
    "np.array(['pragyan','priya',1])"
   ]
  },
  {
   "cell_type": "code",
   "execution_count": null,
   "id": "c63e86d2",
   "metadata": {},
   "outputs": [],
   "source": [
    "pow(5,2)"
   ]
  },
  {
   "cell_type": "code",
   "execution_count": null,
   "id": "bf69894d",
   "metadata": {},
   "outputs": [],
   "source": [
    "import math as m"
   ]
  },
  {
   "cell_type": "code",
   "execution_count": null,
   "id": "78374f49",
   "metadata": {},
   "outputs": [],
   "source": [
    "m.sqrt(9)"
   ]
  },
  {
   "cell_type": "code",
   "execution_count": 101,
   "id": "cbff2917",
   "metadata": {},
   "outputs": [],
   "source": [
    "import array"
   ]
  },
  {
   "cell_type": "code",
   "execution_count": 18,
   "id": "934dac00",
   "metadata": {},
   "outputs": [],
   "source": [
    "import array as arr"
   ]
  },
  {
   "cell_type": "code",
   "execution_count": 2,
   "id": "6ca3c1f3",
   "metadata": {},
   "outputs": [
    {
     "data": {
      "text/plain": [
       "array('i', [1, 2, 34, 7])"
      ]
     },
     "execution_count": 2,
     "metadata": {},
     "output_type": "execute_result"
    }
   ],
   "source": [
    "arr.array('i',[1,2,34,7])"
   ]
  },
  {
   "cell_type": "code",
   "execution_count": 3,
   "id": "6d12d3d7",
   "metadata": {},
   "outputs": [
    {
     "data": {
      "text/plain": [
       "array('i', [-1, 2, 34, 7])"
      ]
     },
     "execution_count": 3,
     "metadata": {},
     "output_type": "execute_result"
    }
   ],
   "source": [
    "arr.array('i',[-1,2,34,7])#signed integer"
   ]
  },
  {
   "cell_type": "code",
   "execution_count": 4,
   "id": "6599bf5c",
   "metadata": {},
   "outputs": [
    {
     "data": {
      "text/plain": [
       "array('H', [1, 2, 3])"
      ]
     },
     "execution_count": 4,
     "metadata": {},
     "output_type": "execute_result"
    }
   ],
   "source": [
    "arr.array('H',[1,2,3]) # for unsigned iteger"
   ]
  },
  {
   "cell_type": "code",
   "execution_count": 5,
   "id": "7a3b9319",
   "metadata": {},
   "outputs": [
    {
     "ename": "OverflowError",
     "evalue": "unsigned short is less than minimum",
     "output_type": "error",
     "traceback": [
      "\u001b[1;31m---------------------------------------------------------------------------\u001b[0m",
      "\u001b[1;31mOverflowError\u001b[0m                             Traceback (most recent call last)",
      "\u001b[1;32mC:\\Users\\PRAGYA~1.PRA\\AppData\\Local\\Temp/ipykernel_24804/832032132.py\u001b[0m in \u001b[0;36m<module>\u001b[1;34m\u001b[0m\n\u001b[1;32m----> 1\u001b[1;33m \u001b[0marr\u001b[0m\u001b[1;33m.\u001b[0m\u001b[0marray\u001b[0m\u001b[1;33m(\u001b[0m\u001b[1;34m'H'\u001b[0m\u001b[1;33m,\u001b[0m\u001b[1;33m[\u001b[0m\u001b[1;33m-\u001b[0m\u001b[1;36m1\u001b[0m\u001b[1;33m,\u001b[0m\u001b[1;36m2\u001b[0m\u001b[1;33m,\u001b[0m\u001b[1;36m3\u001b[0m\u001b[1;33m]\u001b[0m\u001b[1;33m)\u001b[0m\u001b[1;33m\u001b[0m\u001b[1;33m\u001b[0m\u001b[0m\n\u001b[0m",
      "\u001b[1;31mOverflowError\u001b[0m: unsigned short is less than minimum"
     ]
    }
   ],
   "source": [
    "arr.array('H',[-1,2,3])"
   ]
  },
  {
   "cell_type": "code",
   "execution_count": 45,
   "id": "4ca48263",
   "metadata": {},
   "outputs": [],
   "source": [
    "x = arr.array('d',[1.4,1.5])"
   ]
  },
  {
   "cell_type": "code",
   "execution_count": 47,
   "id": "d8c7a6d5",
   "metadata": {},
   "outputs": [
    {
     "data": {
      "text/plain": [
       "'d'"
      ]
     },
     "execution_count": 47,
     "metadata": {},
     "output_type": "execute_result"
    }
   ],
   "source": [
    "x.typecode"
   ]
  },
  {
   "cell_type": "code",
   "execution_count": 66,
   "id": "a2b875c2",
   "metadata": {},
   "outputs": [],
   "source": [
    "x = arr.array('i',[1,5])"
   ]
  },
  {
   "cell_type": "code",
   "execution_count": 50,
   "id": "0c196f3c",
   "metadata": {},
   "outputs": [
    {
     "data": {
      "text/plain": [
       "'i'"
      ]
     },
     "execution_count": 50,
     "metadata": {},
     "output_type": "execute_result"
    }
   ],
   "source": [
    "x.typecode"
   ]
  },
  {
   "cell_type": "code",
   "execution_count": 51,
   "id": "93a6a06e",
   "metadata": {},
   "outputs": [],
   "source": [
    "x = arr.array('u',['a','b'])"
   ]
  },
  {
   "cell_type": "code",
   "execution_count": 52,
   "id": "3a077300",
   "metadata": {},
   "outputs": [
    {
     "data": {
      "text/plain": [
       "'u'"
      ]
     },
     "execution_count": 52,
     "metadata": {},
     "output_type": "execute_result"
    }
   ],
   "source": [
    "x.typecode"
   ]
  },
  {
   "cell_type": "code",
   "execution_count": 15,
   "id": "08967334",
   "metadata": {},
   "outputs": [],
   "source": [
    "ls = []"
   ]
  },
  {
   "cell_type": "code",
   "execution_count": 53,
   "id": "1975fc00",
   "metadata": {},
   "outputs": [
    {
     "data": {
      "text/plain": [
       "1.5"
      ]
     },
     "execution_count": 53,
     "metadata": {},
     "output_type": "execute_result"
    }
   ],
   "source": [
    "a"
   ]
  },
  {
   "cell_type": "code",
   "execution_count": 54,
   "id": "af201b01",
   "metadata": {},
   "outputs": [],
   "source": [
    "for a in x:\n",
    "    ls.append(a*3)"
   ]
  },
  {
   "cell_type": "code",
   "execution_count": 17,
   "id": "b66e8142",
   "metadata": {},
   "outputs": [
    {
     "data": {
      "text/plain": [
       "[4.199999999999999, 4.5]"
      ]
     },
     "execution_count": 17,
     "metadata": {},
     "output_type": "execute_result"
    }
   ],
   "source": [
    "ls"
   ]
  },
  {
   "cell_type": "code",
   "execution_count": 19,
   "id": "dd115b6c",
   "metadata": {},
   "outputs": [
    {
     "data": {
      "text/plain": [
       "array('d', [4.199999999999999, 4.5])"
      ]
     },
     "execution_count": 19,
     "metadata": {},
     "output_type": "execute_result"
    }
   ],
   "source": [
    "arr.array(x.typecode,ls)"
   ]
  },
  {
   "cell_type": "code",
   "execution_count": 7,
   "id": "a109026c",
   "metadata": {},
   "outputs": [
    {
     "data": {
      "text/plain": [
       "array('d', [2.0, 1.0])"
      ]
     },
     "execution_count": 7,
     "metadata": {},
     "output_type": "execute_result"
    }
   ],
   "source": [
    "arr.array('d',[2,1])"
   ]
  },
  {
   "cell_type": "code",
   "execution_count": 20,
   "id": "4e74146a",
   "metadata": {},
   "outputs": [],
   "source": [
    "x = arr.array('i',[10,5,255,65])"
   ]
  },
  {
   "cell_type": "code",
   "execution_count": 21,
   "id": "49146b26",
   "metadata": {},
   "outputs": [
    {
     "data": {
      "text/plain": [
       "[(0, 10), (1, 5), (2, 255), (3, 65)]"
      ]
     },
     "execution_count": 21,
     "metadata": {},
     "output_type": "execute_result"
    }
   ],
   "source": [
    "list(enumerate(x))"
   ]
  },
  {
   "cell_type": "code",
   "execution_count": 24,
   "id": "0e130ba6",
   "metadata": {},
   "outputs": [
    {
     "data": {
      "text/plain": [
       "array('i', [5, 255])"
      ]
     },
     "execution_count": 24,
     "metadata": {},
     "output_type": "execute_result"
    }
   ],
   "source": [
    "x[1:3]"
   ]
  },
  {
   "cell_type": "code",
   "execution_count": 26,
   "id": "5936f3c1",
   "metadata": {},
   "outputs": [
    {
     "data": {
      "text/plain": [
       "array('i', [10, 5, 255, 65])"
      ]
     },
     "execution_count": 26,
     "metadata": {},
     "output_type": "execute_result"
    }
   ],
   "source": [
    "x[0:]"
   ]
  },
  {
   "cell_type": "code",
   "execution_count": 27,
   "id": "42eb17f7",
   "metadata": {},
   "outputs": [
    {
     "data": {
      "text/plain": [
       "array('i', [10, 5, 255, 65])"
      ]
     },
     "execution_count": 27,
     "metadata": {},
     "output_type": "execute_result"
    }
   ],
   "source": [
    "x[:4]"
   ]
  },
  {
   "cell_type": "code",
   "execution_count": 29,
   "id": "4408f81d",
   "metadata": {},
   "outputs": [
    {
     "data": {
      "text/plain": [
       "array('i', [10, 5, 255])"
      ]
     },
     "execution_count": 29,
     "metadata": {},
     "output_type": "execute_result"
    }
   ],
   "source": [
    "x[-4:-1]"
   ]
  },
  {
   "cell_type": "code",
   "execution_count": 36,
   "id": "431b460a",
   "metadata": {},
   "outputs": [
    {
     "data": {
      "text/plain": [
       "array('i', [10, 65])"
      ]
     },
     "execution_count": 36,
     "metadata": {},
     "output_type": "execute_result"
    }
   ],
   "source": [
    "x[0:7:3]"
   ]
  },
  {
   "cell_type": "code",
   "execution_count": 37,
   "id": "a18b2641",
   "metadata": {},
   "outputs": [],
   "source": [
    "x.insert??\n"
   ]
  },
  {
   "cell_type": "raw",
   "id": "4514dd80",
   "metadata": {},
   "source": [
    "x.remove(255)"
   ]
  },
  {
   "cell_type": "code",
   "execution_count": 63,
   "id": "d2b4285f",
   "metadata": {},
   "outputs": [
    {
     "data": {
      "text/plain": [
       "array('u', 'ab')"
      ]
     },
     "execution_count": 63,
     "metadata": {},
     "output_type": "execute_result"
    }
   ],
   "source": [
    "x"
   ]
  },
  {
   "cell_type": "code",
   "execution_count": 61,
   "id": "4b68bdb7",
   "metadata": {},
   "outputs": [
    {
     "data": {
      "text/plain": [
       "array('u', 'ab')"
      ]
     },
     "execution_count": 61,
     "metadata": {},
     "output_type": "execute_result"
    }
   ],
   "source": [
    "x"
   ]
  },
  {
   "cell_type": "code",
   "execution_count": 44,
   "id": "3d7db8a5",
   "metadata": {},
   "outputs": [
    {
     "data": {
      "text/plain": [
       "[10, 9, 5, 65]"
      ]
     },
     "execution_count": 44,
     "metadata": {},
     "output_type": "execute_result"
    }
   ],
   "source": [
    "x.tolist()"
   ]
  },
  {
   "cell_type": "code",
   "execution_count": 8,
   "id": "4900f316",
   "metadata": {},
   "outputs": [],
   "source": [
    "ch = arr.array('u',['r','p'])"
   ]
  },
  {
   "cell_type": "code",
   "execution_count": null,
   "id": "9bb9c6d8",
   "metadata": {},
   "outputs": [],
   "source": [
    "ch"
   ]
  },
  {
   "cell_type": "code",
   "execution_count": null,
   "id": "db2253f0",
   "metadata": {},
   "outputs": [],
   "source": [
    "arr.array??"
   ]
  },
  {
   "cell_type": "code",
   "execution_count": null,
   "id": "732548bc",
   "metadata": {},
   "outputs": [],
   "source": [
    "a = arr.array('i',[1,2,3,4])"
   ]
  },
  {
   "cell_type": "code",
   "execution_count": null,
   "id": "53659e5f",
   "metadata": {},
   "outputs": [],
   "source": [
    "a.append(5)"
   ]
  },
  {
   "cell_type": "code",
   "execution_count": null,
   "id": "485489a5",
   "metadata": {},
   "outputs": [],
   "source": [
    "a"
   ]
  },
  {
   "cell_type": "code",
   "execution_count": null,
   "id": "b3d100b5",
   "metadata": {},
   "outputs": [],
   "source": [
    "a.extend([7,8])"
   ]
  },
  {
   "cell_type": "code",
   "execution_count": null,
   "id": "b3df4b09",
   "metadata": {},
   "outputs": [],
   "source": [
    "a"
   ]
  },
  {
   "cell_type": "code",
   "execution_count": null,
   "id": "832da326",
   "metadata": {},
   "outputs": [],
   "source": [
    "a.pop()"
   ]
  },
  {
   "cell_type": "code",
   "execution_count": null,
   "id": "a86430cb",
   "metadata": {},
   "outputs": [],
   "source": [
    "a"
   ]
  },
  {
   "cell_type": "code",
   "execution_count": 67,
   "id": "633111ef",
   "metadata": {},
   "outputs": [
    {
     "data": {
      "text/plain": [
       "array('i', [1, 5])"
      ]
     },
     "execution_count": 67,
     "metadata": {},
     "output_type": "execute_result"
    }
   ],
   "source": [
    "x"
   ]
  },
  {
   "cell_type": "code",
   "execution_count": 68,
   "id": "729a2dad",
   "metadata": {},
   "outputs": [],
   "source": [
    "for i in range(0,len(x)):\n",
    "    x[i] = x[i]+2\n",
    "    "
   ]
  },
  {
   "cell_type": "code",
   "execution_count": 69,
   "id": "8bf24ab0",
   "metadata": {},
   "outputs": [
    {
     "data": {
      "text/plain": [
       "array('i', [3, 7])"
      ]
     },
     "execution_count": 69,
     "metadata": {},
     "output_type": "execute_result"
    }
   ],
   "source": [
    "x"
   ]
  },
  {
   "cell_type": "code",
   "execution_count": null,
   "id": "b5d8381a",
   "metadata": {},
   "outputs": [],
   "source": [
    "a*5 # array doen't support vectorization (element wise operation)"
   ]
  },
  {
   "cell_type": "code",
   "execution_count": 65,
   "id": "dc4cee6e",
   "metadata": {},
   "outputs": [
    {
     "data": {
      "text/plain": [
       "'b'"
      ]
     },
     "execution_count": 65,
     "metadata": {},
     "output_type": "execute_result"
    }
   ],
   "source": [
    "a"
   ]
  },
  {
   "cell_type": "code",
   "execution_count": 70,
   "id": "d9ca8db0",
   "metadata": {},
   "outputs": [],
   "source": [
    "import numpy as np"
   ]
  },
  {
   "cell_type": "code",
   "execution_count": 71,
   "id": "e355cc3f",
   "metadata": {},
   "outputs": [],
   "source": [
    "a1 = np.array([1,35,69])"
   ]
  },
  {
   "cell_type": "code",
   "execution_count": 76,
   "id": "68ebe7bb",
   "metadata": {},
   "outputs": [
    {
     "data": {
      "text/plain": [
       "array([ 3, 37, 71])"
      ]
     },
     "execution_count": 76,
     "metadata": {},
     "output_type": "execute_result"
    }
   ],
   "source": [
    "a1+2"
   ]
  },
  {
   "cell_type": "code",
   "execution_count": 73,
   "id": "3996fd9d",
   "metadata": {},
   "outputs": [
    {
     "data": {
      "text/plain": [
       "array([ 1, 35, 69])"
      ]
     },
     "execution_count": 73,
     "metadata": {},
     "output_type": "execute_result"
    }
   ],
   "source": [
    "a1"
   ]
  },
  {
   "cell_type": "code",
   "execution_count": null,
   "id": "3342a153",
   "metadata": {},
   "outputs": [],
   "source": [
    "a1+1"
   ]
  },
  {
   "cell_type": "code",
   "execution_count": 77,
   "id": "09e69480",
   "metadata": {},
   "outputs": [],
   "source": [
    "b = np.array([1,2,3,4])"
   ]
  },
  {
   "cell_type": "code",
   "execution_count": 78,
   "id": "3f0e45e8",
   "metadata": {},
   "outputs": [
    {
     "data": {
      "text/plain": [
       "array([1, 0, 1, 0], dtype=int32)"
      ]
     },
     "execution_count": 78,
     "metadata": {},
     "output_type": "execute_result"
    }
   ],
   "source": [
    "b%2"
   ]
  },
  {
   "cell_type": "code",
   "execution_count": null,
   "id": "b920a015",
   "metadata": {},
   "outputs": [],
   "source": []
  }
 ],
 "metadata": {
  "kernelspec": {
   "display_name": "Python 3 (ipykernel)",
   "language": "python",
   "name": "python3"
  },
  "language_info": {
   "codemirror_mode": {
    "name": "ipython",
    "version": 3
   },
   "file_extension": ".py",
   "mimetype": "text/x-python",
   "name": "python",
   "nbconvert_exporter": "python",
   "pygments_lexer": "ipython3",
   "version": "3.10.9"
  }
 },
 "nbformat": 4,
 "nbformat_minor": 5
}
