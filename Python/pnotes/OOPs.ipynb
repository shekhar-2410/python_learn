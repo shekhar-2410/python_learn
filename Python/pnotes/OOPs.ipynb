{
 "cells": [
  {
   "cell_type": "markdown",
   "id": "d24f89ae",
   "metadata": {},
   "source": [
    "Object-oriented programming is a programming paradigm that provides a means of structuring programs so that properties and behaviors are bundled into individual objects.\n",
    "For instance, an object could represent a person with properties like a name, age, and address and behaviors such as walking, talking, breathing, and running."
   ]
  },
  {
   "cell_type": "markdown",
   "id": "42777b38",
   "metadata": {},
   "source": [
    "Classes are used to create user-defined data structures. Classes define functions called methods, which identify the behaviors and actions that an object created from the class can perform with its data.\n",
    "an instance is an object that is built from a class and contains real data."
   ]
  },
  {
   "cell_type": "markdown",
   "id": "07ac46ab",
   "metadata": {},
   "source": [
    "Put another way, a class is like a form or questionnaire. An instance is like a form that has been filled out with information. Just like many people can fill out the same form with their own unique information, many instances can be created from a single class."
   ]
  },
  {
   "cell_type": "markdown",
   "id": "c2fd5ac5",
   "metadata": {},
   "source": [
    "## Class"
   ]
  },
  {
   "cell_type": "code",
   "execution_count": null,
   "id": "70d12cb0",
   "metadata": {},
   "outputs": [],
   "source": [
    "virat = [\"Virat\",\"Kohli\",35,\"Delhi\",\"RCB\"]\n",
    "rohit = [\"Rohit\",\"Sharma\",38,\"Mumbai\",\"MI\"]\n",
    "\n",
    "abd = [\"Ab\",\"Dv\",40]"
   ]
  },
  {
   "cell_type": "markdown",
   "id": "236b5d97",
   "metadata": {},
   "source": [
    "__ (double underscore) is called dundor"
   ]
  },
  {
   "cell_type": "code",
   "execution_count": null,
   "id": "a4de7a5b",
   "metadata": {},
   "outputs": [],
   "source": [
    "# map(3 bhk)  --> logical representation --> class\n",
    "# house1 --> physical representation --> it is occupying some space"
   ]
  },
  {
   "cell_type": "code",
   "execution_count": null,
   "id": "2f287a27",
   "metadata": {},
   "outputs": [],
   "source": [
    "# house --> modification "
   ]
  },
  {
   "cell_type": "code",
   "execution_count": null,
   "id": "b0360aad",
   "metadata": {},
   "outputs": [],
   "source": [
    "#this is a logical representation\n",
    "class MyPlayer:\n",
    "    national_team = \"India\"\n",
    "    def __init__(self,first_name,last_name,age,city,team):#construction --> is a function that is called whenever an object of that is created\n",
    "        self.first_name = first_name\n",
    "        self.last_name = last_name\n",
    "        self.age = age\n",
    "        self.city = city\n",
    "        self.team = team\n",
    "        \n",
    "    #instance method\n",
    "    def action(self):\n",
    "        print(f\"{self.first_name} is a agressive player\")\n",
    "    \n",
    "    "
   ]
  },
  {
   "cell_type": "code",
   "execution_count": null,
   "id": "bae1b92d",
   "metadata": {},
   "outputs": [],
   "source": [
    "#virat is an object of MyPlayer class\n",
    "# object is also called an instance (example)\n",
    "virat = MyPlayer(\"Virat\",\"Kohli\",35,\"Delhi\",\"RCB\")"
   ]
  },
  {
   "cell_type": "code",
   "execution_count": null,
   "id": "49970d96",
   "metadata": {},
   "outputs": [],
   "source": [
    "#physical representation of MyPlayer\n",
    "id(virat)"
   ]
  },
  {
   "cell_type": "code",
   "execution_count": null,
   "id": "ac7a93f1",
   "metadata": {},
   "outputs": [],
   "source": [
    "virat.action()"
   ]
  },
  {
   "cell_type": "code",
   "execution_count": null,
   "id": "01f216f0",
   "metadata": {},
   "outputs": [],
   "source": [
    "virat.last_name"
   ]
  },
  {
   "cell_type": "code",
   "execution_count": null,
   "id": "ed41218a",
   "metadata": {},
   "outputs": [],
   "source": [
    "virat.team = \"Csk\""
   ]
  },
  {
   "cell_type": "code",
   "execution_count": null,
   "id": "de759603",
   "metadata": {},
   "outputs": [],
   "source": [
    "virat.wife"
   ]
  },
  {
   "cell_type": "code",
   "execution_count": null,
   "id": "0ef63695",
   "metadata": {},
   "outputs": [],
   "source": [
    "virat.wife = \"Anuska Sharma\""
   ]
  },
  {
   "cell_type": "code",
   "execution_count": null,
   "id": "1df851a1",
   "metadata": {},
   "outputs": [],
   "source": [
    "virat.wife"
   ]
  },
  {
   "cell_type": "code",
   "execution_count": null,
   "id": "f7ea58ae",
   "metadata": {},
   "outputs": [],
   "source": [
    "dhoni = MyPlayer(\"MS\",\"Dhoni\",35,\"Ranchi\",\"Csk\")"
   ]
  },
  {
   "cell_type": "code",
   "execution_count": null,
   "id": "3bb29eff",
   "metadata": {},
   "outputs": [],
   "source": [
    "dhoni.national_team"
   ]
  },
  {
   "cell_type": "code",
   "execution_count": null,
   "id": "11f6f2d2",
   "metadata": {},
   "outputs": [],
   "source": []
  },
  {
   "cell_type": "code",
   "execution_count": null,
   "id": "b0d75dae",
   "metadata": {},
   "outputs": [],
   "source": [
    "virat.national_team = \"RCB\""
   ]
  },
  {
   "cell_type": "code",
   "execution_count": null,
   "id": "3160a3b1",
   "metadata": {},
   "outputs": [],
   "source": [
    "virat.national_team"
   ]
  },
  {
   "cell_type": "code",
   "execution_count": null,
   "id": "fbbc3a7b",
   "metadata": {},
   "outputs": [],
   "source": [
    "rohit."
   ]
  },
  {
   "cell_type": "code",
   "execution_count": null,
   "id": "b8c0a09a",
   "metadata": {},
   "outputs": [],
   "source": [
    "virat.national_team = \"RCB\""
   ]
  },
  {
   "cell_type": "code",
   "execution_count": null,
   "id": "01dc7658",
   "metadata": {},
   "outputs": [],
   "source": [
    "virat.wife"
   ]
  },
  {
   "cell_type": "code",
   "execution_count": null,
   "id": "3e1c17a4",
   "metadata": {},
   "outputs": [],
   "source": [
    "virat.batsman = \"Right hander\""
   ]
  },
  {
   "cell_type": "code",
   "execution_count": null,
   "id": "e666c7e2",
   "metadata": {},
   "outputs": [],
   "source": [
    "virat."
   ]
  },
  {
   "cell_type": "code",
   "execution_count": null,
   "id": "01f1e87b",
   "metadata": {},
   "outputs": [],
   "source": [
    "id(virat)"
   ]
  },
  {
   "cell_type": "code",
   "execution_count": null,
   "id": "27caa0bc",
   "metadata": {},
   "outputs": [],
   "source": [
    "virat.age"
   ]
  },
  {
   "cell_type": "code",
   "execution_count": null,
   "id": "df9bb676",
   "metadata": {},
   "outputs": [],
   "source": [
    "virat.city"
   ]
  },
  {
   "cell_type": "code",
   "execution_count": null,
   "id": "63083b1c",
   "metadata": {},
   "outputs": [],
   "source": [
    "virat.first_name"
   ]
  },
  {
   "cell_type": "code",
   "execution_count": null,
   "id": "c3711ac7",
   "metadata": {},
   "outputs": [],
   "source": [
    "rohit = MyPlayer(\"Rohit\",\"Sharma\",38,\"Mumbai\",\"RCB\")"
   ]
  },
  {
   "cell_type": "code",
   "execution_count": null,
   "id": "8f086308",
   "metadata": {},
   "outputs": [],
   "source": [
    "id(rohit)"
   ]
  },
  {
   "cell_type": "code",
   "execution_count": null,
   "id": "ca0a3c2f",
   "metadata": {},
   "outputs": [],
   "source": []
  },
  {
   "cell_type": "code",
   "execution_count": null,
   "id": "1b95420e",
   "metadata": {},
   "outputs": [],
   "source": []
  },
  {
   "cell_type": "code",
   "execution_count": null,
   "id": "5832d777",
   "metadata": {},
   "outputs": [],
   "source": [
    "rohit.national_team"
   ]
  },
  {
   "cell_type": "code",
   "execution_count": null,
   "id": "6fcf7f7b",
   "metadata": {},
   "outputs": [],
   "source": [
    "if 5 > 3:\n",
    "    pass"
   ]
  },
  {
   "cell_type": "code",
   "execution_count": null,
   "id": "e5fe6df5",
   "metadata": {},
   "outputs": [],
   "source": [
    "#All class definitions start with the class keyword, which is followed by the name of the class and a colon. \n",
    "class Dog:\n",
    "    pass\n",
    "    "
   ]
  },
  {
   "cell_type": "code",
   "execution_count": null,
   "id": "339672b9",
   "metadata": {},
   "outputs": [],
   "source": [
    "class Dog:\n",
    "    def __init__(self, name, age):#The properties that all Dog objects must have are defined in a method called .__init__()\n",
    "        self.name = name\n",
    "        self.age = age"
   ]
  },
  {
   "cell_type": "markdown",
   "id": "a27a9aaa",
   "metadata": {},
   "source": [
    "Attributes created in .__init__() are called instance attributes. An instance attribute’s value is specific to a particular instance of the class. All Dog objects have a name and an age, but the values for the name and age attributes will vary depending on the Dog instance."
   ]
  },
  {
   "cell_type": "code",
   "execution_count": null,
   "id": "b9096f7c",
   "metadata": {},
   "outputs": [],
   "source": [
    "#On the other hand, class attributes are attributes that have the same value for all class instances. \n",
    "#You can define a class attribute by assigning a value to a variable name outside of .__init__().\n",
    "class Dog:\n",
    "    # Class attribute\n",
    "    species = \"Canis familiaris\"\n",
    "\n",
    "    def __init__(self, name, age):\n",
    "        self.name = name\n",
    "        self.age = age"
   ]
  },
  {
   "cell_type": "code",
   "execution_count": null,
   "id": "929bd024",
   "metadata": {},
   "outputs": [],
   "source": [
    "buddy = Dog(\"Buddy\", 9)\n",
    "miles = Dog(\"Miles\", 4)"
   ]
  },
  {
   "cell_type": "code",
   "execution_count": null,
   "id": "889c653b",
   "metadata": {},
   "outputs": [],
   "source": [
    "buddy.species"
   ]
  },
  {
   "cell_type": "code",
   "execution_count": null,
   "id": "7eba12c0",
   "metadata": {},
   "outputs": [],
   "source": [
    "buddy.name"
   ]
  },
  {
   "cell_type": "code",
   "execution_count": null,
   "id": "b77807e8",
   "metadata": {},
   "outputs": [],
   "source": [
    "miles.name"
   ]
  },
  {
   "cell_type": "code",
   "execution_count": null,
   "id": "db8220a6",
   "metadata": {},
   "outputs": [],
   "source": [
    "miles.species"
   ]
  },
  {
   "cell_type": "markdown",
   "id": "c3f96068",
   "metadata": {},
   "source": [
    "### Instance Method\n",
    "Instance methods are functions that are defined inside a class and can only be called from an instance of that class. Just like .__init__(), an instance method’s first parameter is always self."
   ]
  },
  {
   "cell_type": "code",
   "execution_count": null,
   "id": "08bd0eb9",
   "metadata": {},
   "outputs": [],
   "source": [
    "class Dog:\n",
    "    species = \"Canis familiaris\"\n",
    "\n",
    "    def __init__(self, name, age,sound):\n",
    "        self.name = name\n",
    "        self.age = age\n",
    "        self.sound = sound\n",
    "        \n",
    "    # Instance method\n",
    "    def description(self):\n",
    "        return f\"{self.name} is {self.age} years old\"\n",
    "\n",
    "    # Another instance method\n",
    "    def speak(self):\n",
    "        return f\"{self.name} says {self.sound}\""
   ]
  },
  {
   "cell_type": "code",
   "execution_count": null,
   "id": "cd98b39e",
   "metadata": {},
   "outputs": [],
   "source": [
    "miles = Dog(\"Miles\", 4,\"Woff woff\")"
   ]
  },
  {
   "cell_type": "code",
   "execution_count": null,
   "id": "bb574def",
   "metadata": {},
   "outputs": [],
   "source": [
    "miles.description()"
   ]
  },
  {
   "cell_type": "code",
   "execution_count": null,
   "id": "46c1e07a",
   "metadata": {},
   "outputs": [],
   "source": [
    "miles.speak()"
   ]
  },
  {
   "cell_type": "code",
   "execution_count": null,
   "id": "a7cfa90a",
   "metadata": {},
   "outputs": [],
   "source": [
    "miles.speak(\"Bow Wow\")"
   ]
  },
  {
   "cell_type": "code",
   "execution_count": null,
   "id": "2222ba64",
   "metadata": {},
   "outputs": [],
   "source": []
  },
  {
   "cell_type": "code",
   "execution_count": null,
   "id": "b5e16654",
   "metadata": {},
   "outputs": [],
   "source": [
    "print(miles)"
   ]
  },
  {
   "cell_type": "code",
   "execution_count": null,
   "id": "71bc5244",
   "metadata": {},
   "outputs": [],
   "source": [
    "class Dog:\n",
    "    species = \"Canis familiaris\"\n",
    "\n",
    "    def __init__(self, name, age):\n",
    "        self.name = name\n",
    "        self.age = age\n",
    "\n",
    "    # Instance method\n",
    "    #def description(self):\n",
    "        #return f\"{self.name} is {self.age} years old\"\n",
    "    def __str__(self):\n",
    "        return f\"{self.name} is {self.age} years old\"\n",
    "\n",
    "    # Another instance method\n",
    "    def speak(self, sound):\n",
    "        return f\"{self.name} says {sound}\""
   ]
  },
  {
   "cell_type": "code",
   "execution_count": null,
   "id": "dd7d3f3a",
   "metadata": {},
   "outputs": [],
   "source": [
    "miles = Dog(\"Miles\", 4)"
   ]
  },
  {
   "cell_type": "code",
   "execution_count": null,
   "id": "3eb97814",
   "metadata": {},
   "outputs": [],
   "source": [
    " print(miles)"
   ]
  },
  {
   "cell_type": "code",
   "execution_count": null,
   "id": "9d68f4c7",
   "metadata": {},
   "outputs": [],
   "source": [
    "miles.speak(\"Yes Yes\")"
   ]
  },
  {
   "cell_type": "code",
   "execution_count": null,
   "id": "2f5f0cd1",
   "metadata": {},
   "outputs": [],
   "source": [
    "# Base class/super class/ parent class ---> child class/derived class"
   ]
  },
  {
   "cell_type": "markdown",
   "id": "9932bfb9",
   "metadata": {},
   "source": [
    "### Inheritance\n",
    "Inheritance is the process by which one class takes on the attributes and methods of another. Newly formed classes are called child classes, and the classes that child classes are derived from are called parent classes/super classes."
   ]
  },
  {
   "cell_type": "markdown",
   "id": "2e5cfc65",
   "metadata": {},
   "source": [
    "Child classes can override or extend the attributes and methods of parent classes. In other words, child classes inherit all of the parent’s attributes and methods but can also specify attributes and methods that are unique to themselves."
   ]
  },
  {
   "cell_type": "code",
   "execution_count": null,
   "id": "e56cd2cc",
   "metadata": {},
   "outputs": [],
   "source": [
    "class Dog:\n",
    "    species = \"Canis familiaris\"\n",
    "\n",
    "    def __init__(self, name, age):\n",
    "        self.name = name\n",
    "        self.age = age\n",
    "\n",
    "    def __str__(self):\n",
    "        return f\"{self.name} is {self.age} years old\"\n",
    "\n",
    "    def speak(self, sound):\n",
    "        return f\"{self.name} says {sound}\""
   ]
  },
  {
   "cell_type": "code",
   "execution_count": null,
   "id": "844ba70f",
   "metadata": {},
   "outputs": [],
   "source": [
    "class GermanShephard(Dog):\n",
    "    pass\n",
    "\n",
    "class Pug(Dog):\n",
    "    pass\n",
    "\n",
    "class Bulldog(Dog):\n",
    "    pass"
   ]
  },
  {
   "cell_type": "code",
   "execution_count": null,
   "id": "dba6eaa2",
   "metadata": {},
   "outputs": [],
   "source": [
    "miles = GermanShephard(\"Miles\", 4)"
   ]
  },
  {
   "cell_type": "code",
   "execution_count": null,
   "id": "7bcfd150",
   "metadata": {},
   "outputs": [],
   "source": [
    "miles."
   ]
  },
  {
   "cell_type": "code",
   "execution_count": null,
   "id": "a8d853f3",
   "metadata": {},
   "outputs": [],
   "source": [
    "miles.__str__??"
   ]
  },
  {
   "cell_type": "code",
   "execution_count": null,
   "id": "0d2a564c",
   "metadata": {},
   "outputs": [],
   "source": [
    "miles.speak(\"bhaw bhaw\")"
   ]
  },
  {
   "cell_type": "code",
   "execution_count": null,
   "id": "6f4d4a72",
   "metadata": {},
   "outputs": [],
   "source": [
    "str(5)"
   ]
  },
  {
   "cell_type": "code",
   "execution_count": null,
   "id": "8232273b",
   "metadata": {},
   "outputs": [],
   "source": [
    "\n",
    "buddy = Pug(\"Buddy\", 9)\n",
    "jack = Bulldog(\"Jack\", 3)\n",
    "jim = Bulldog(\"Jim\", 5)"
   ]
  },
  {
   "cell_type": "code",
   "execution_count": null,
   "id": "d5832e57",
   "metadata": {},
   "outputs": [],
   "source": [
    "miles."
   ]
  },
  {
   "cell_type": "code",
   "execution_count": null,
   "id": "9982c8df",
   "metadata": {},
   "outputs": [],
   "source": [
    "jack.name"
   ]
  },
  {
   "cell_type": "code",
   "execution_count": null,
   "id": "4a4331f7",
   "metadata": {},
   "outputs": [],
   "source": [
    "type(miles)"
   ]
  },
  {
   "cell_type": "code",
   "execution_count": null,
   "id": "f3afa9f5",
   "metadata": {},
   "outputs": [],
   "source": [
    "isinstance(\"ABC\",int)"
   ]
  },
  {
   "cell_type": "code",
   "execution_count": null,
   "id": "09e2f548",
   "metadata": {},
   "outputs": [],
   "source": []
  },
  {
   "cell_type": "code",
   "execution_count": null,
   "id": "7cc3b40e",
   "metadata": {},
   "outputs": [],
   "source": []
  },
  {
   "cell_type": "code",
   "execution_count": null,
   "id": "a06e5e85",
   "metadata": {},
   "outputs": [],
   "source": [
    "isinstance(miles, Dog)"
   ]
  },
  {
   "cell_type": "code",
   "execution_count": null,
   "id": "63984372",
   "metadata": {},
   "outputs": [],
   "source": [
    "isinstance(miles,GermanShephard)"
   ]
  },
  {
   "cell_type": "code",
   "execution_count": null,
   "id": "9f4cda3c",
   "metadata": {},
   "outputs": [],
   "source": [
    "isinstance(miles, Bulldog)"
   ]
  },
  {
   "cell_type": "code",
   "execution_count": null,
   "id": "e4bacd41",
   "metadata": {},
   "outputs": [],
   "source": [
    "class Pug(Dog):\n",
    "    def speak(self, sound=\"2 minutes noodles\"): # we overwrite the speak method\n",
    "        return f\"{self.name} says {sound}\"\n",
    "    def pugs(self):\n",
    "        return \"Pug is the vodafone dog\""
   ]
  },
  {
   "cell_type": "code",
   "execution_count": null,
   "id": "efdb8b91",
   "metadata": {},
   "outputs": [],
   "source": [
    "maggie = Pug(\"Maggie\", 4)"
   ]
  },
  {
   "cell_type": "code",
   "execution_count": null,
   "id": "43799c67",
   "metadata": {},
   "outputs": [],
   "source": [
    "maggie.pugs()"
   ]
  },
  {
   "cell_type": "code",
   "execution_count": null,
   "id": "5e73f964",
   "metadata": {},
   "outputs": [],
   "source": [
    "maggie.speak()"
   ]
  },
  {
   "cell_type": "markdown",
   "id": "076f3321",
   "metadata": {},
   "source": [
    "### Further Readings\n",
    "https://docs.python.org/3/tutorial/classes.html\n",
    "\n",
    "https://www.geeksforgeeks.org/python-oops-concepts/"
   ]
  },
  {
   "cell_type": "code",
   "execution_count": null,
   "id": "0bd288a4",
   "metadata": {},
   "outputs": [],
   "source": [
    "#Encapsulation \n",
    "#Polymorphism --> one interface,multiple method"
   ]
  },
  {
   "cell_type": "code",
   "execution_count": null,
   "id": "b011c71c",
   "metadata": {},
   "outputs": [],
   "source": [
    "#Grandfather --> father -->grandson ,example of multi level inheritence "
   ]
  },
  {
   "cell_type": "code",
   "execution_count": null,
   "id": "dd201bf5",
   "metadata": {},
   "outputs": [],
   "source": [
    "class A:\n",
    "    pass"
   ]
  },
  {
   "cell_type": "code",
   "execution_count": null,
   "id": "adccc6cd",
   "metadata": {},
   "outputs": [],
   "source": [
    "class B (A):\n",
    "    pass\n"
   ]
  },
  {
   "cell_type": "code",
   "execution_count": null,
   "id": "54b48680",
   "metadata": {},
   "outputs": [],
   "source": [
    "class C(A):\n",
    "    pass"
   ]
  },
  {
   "cell_type": "code",
   "execution_count": null,
   "id": "a749bf12",
   "metadata": {},
   "outputs": [],
   "source": [
    "class D(C):\n",
    "    pass"
   ]
  },
  {
   "cell_type": "code",
   "execution_count": null,
   "id": "aa810cc8",
   "metadata": {},
   "outputs": [],
   "source": [
    "d = D()"
   ]
  },
  {
   "cell_type": "code",
   "execution_count": null,
   "id": "dedfa16e",
   "metadata": {},
   "outputs": [],
   "source": [
    "isinstance(d,D)"
   ]
  },
  {
   "cell_type": "code",
   "execution_count": null,
   "id": "9de3ba63",
   "metadata": {},
   "outputs": [],
   "source": [
    "isinstance(d,C)"
   ]
  },
  {
   "cell_type": "code",
   "execution_count": null,
   "id": "6eb12eaf",
   "metadata": {},
   "outputs": [],
   "source": [
    "isinstance(d,A)"
   ]
  },
  {
   "cell_type": "code",
   "execution_count": null,
   "id": "3ce52a65",
   "metadata": {},
   "outputs": [],
   "source": [
    "isinstance(d,B)"
   ]
  },
  {
   "cell_type": "code",
   "execution_count": null,
   "id": "abf4e201",
   "metadata": {},
   "outputs": [],
   "source": [
    "# Multiple Inheritence"
   ]
  },
  {
   "cell_type": "code",
   "execution_count": 1,
   "id": "27dd1367",
   "metadata": {},
   "outputs": [],
   "source": [
    "class Z:\n",
    "    def __init__(self):\n",
    "        pass\n",
    "    def ABC(self):\n",
    "        print(\"ABC of Z\")"
   ]
  },
  {
   "cell_type": "code",
   "execution_count": 2,
   "id": "6164f28e",
   "metadata": {},
   "outputs": [],
   "source": [
    "#Multiple inheritence\n",
    "class E(Z):\n",
    "    def __init__(self):\n",
    "        pass\n",
    "    def ABC(self):\n",
    "        print(\"ABC of E\")\n",
    "    "
   ]
  },
  {
   "cell_type": "code",
   "execution_count": 17,
   "id": "36863682",
   "metadata": {},
   "outputs": [],
   "source": [
    "class F(Z):\n",
    "    def __init__(self):\n",
    "        pass\n",
    "    def ABC(self):\n",
    "        print(\"ABC of F\")\n",
    "        "
   ]
  },
  {
   "cell_type": "code",
   "execution_count": 11,
   "id": "92b8c0fc",
   "metadata": {},
   "outputs": [],
   "source": [
    "class G(E,F):\n",
    "    pass     "
   ]
  },
  {
   "cell_type": "code",
   "execution_count": 12,
   "id": "eb98de5e",
   "metadata": {},
   "outputs": [],
   "source": [
    "g1 = G()"
   ]
  },
  {
   "cell_type": "code",
   "execution_count": 13,
   "id": "284d679d",
   "metadata": {},
   "outputs": [
    {
     "name": "stdout",
     "output_type": "stream",
     "text": [
      "ABC of E\n"
     ]
    }
   ],
   "source": [
    "g1.ABC()"
   ]
  },
  {
   "cell_type": "code",
   "execution_count": 14,
   "id": "3d538a3c",
   "metadata": {},
   "outputs": [
    {
     "data": {
      "text/plain": [
       "True"
      ]
     },
     "execution_count": 14,
     "metadata": {},
     "output_type": "execute_result"
    }
   ],
   "source": [
    "isinstance(g1,E)"
   ]
  },
  {
   "cell_type": "code",
   "execution_count": 15,
   "id": "f184585c",
   "metadata": {},
   "outputs": [
    {
     "data": {
      "text/plain": [
       "True"
      ]
     },
     "execution_count": 15,
     "metadata": {},
     "output_type": "execute_result"
    }
   ],
   "source": [
    "isinstance(g1,F)"
   ]
  },
  {
   "cell_type": "code",
   "execution_count": 16,
   "id": "888fe0a7",
   "metadata": {},
   "outputs": [
    {
     "data": {
      "text/plain": [
       "True"
      ]
     },
     "execution_count": 16,
     "metadata": {},
     "output_type": "execute_result"
    }
   ],
   "source": [
    "isinstance(g1,Z)"
   ]
  },
  {
   "cell_type": "code",
   "execution_count": 16,
   "id": "28ee93d2",
   "metadata": {},
   "outputs": [],
   "source": [
    "class Summm:\n",
    "\n",
    "    def __init__(self,lst):\n",
    "        self.lst = lst\n",
    "        \n",
    "    def sum(self):\n",
    "        total = 0\n",
    "        for element in self.lst:\n",
    "            total += element\n",
    "        return total\n",
    "    def len(self):\n",
    "        count =0\n",
    "        for ele in self.lst:\n",
    "            count += 1\n",
    "        return count"
   ]
  },
  {
   "cell_type": "code",
   "execution_count": 25,
   "id": "ffb4d592",
   "metadata": {},
   "outputs": [],
   "source": [
    "a = Summm([1,2,3])"
   ]
  },
  {
   "cell_type": "code",
   "execution_count": 26,
   "id": "fb40334d",
   "metadata": {},
   "outputs": [
    {
     "data": {
      "text/plain": [
       "6"
      ]
     },
     "execution_count": 26,
     "metadata": {},
     "output_type": "execute_result"
    }
   ],
   "source": [
    "a.sum()"
   ]
  },
  {
   "cell_type": "code",
   "execution_count": 28,
   "id": "222b02c7",
   "metadata": {},
   "outputs": [
    {
     "data": {
      "text/plain": [
       "3"
      ]
     },
     "execution_count": 28,
     "metadata": {},
     "output_type": "execute_result"
    }
   ],
   "source": [
    "a.__len__()"
   ]
  },
  {
   "cell_type": "code",
   "execution_count": 24,
   "id": "c24c2879",
   "metadata": {},
   "outputs": [],
   "source": [
    "class Summm:\n",
    "\n",
    "    def __init__(self,lst):\n",
    "        self.lst = lst\n",
    "        \n",
    "    def sum(self):\n",
    "        total = 0\n",
    "        for element in self.lst:\n",
    "            total += element\n",
    "        return total\n",
    "    def __len__(self):\n",
    "        return len(self.lst)\n",
    "        "
   ]
  },
  {
   "cell_type": "code",
   "execution_count": 30,
   "id": "f99a32cb",
   "metadata": {},
   "outputs": [
    {
     "name": "stdout",
     "output_type": "stream",
     "text": [
      "2.23606797749979\n"
     ]
    }
   ],
   "source": [
    "import numpy as np\n",
    " \n",
    "# initializing points in\n",
    "# numpy arrays\n",
    "point1 = np.array((1, 2, 3))\n",
    "point2 = np.array((1, 1, 1))\n",
    " \n",
    "# calculating Euclidean distance\n",
    "# using linalg.norm()\n",
    "dist = np.linalg.norm(point1 - point2)\n",
    " \n",
    "# printing Euclidean distance\n",
    "print(dist)"
   ]
  },
  {
   "cell_type": "code",
   "execution_count": 31,
   "id": "993d18a0",
   "metadata": {},
   "outputs": [
    {
     "data": {
      "text/plain": [
       "2.23606797749979"
      ]
     },
     "execution_count": 31,
     "metadata": {},
     "output_type": "execute_result"
    }
   ],
   "source": [
    "np.linalg.norm(point1 - point2,ord=2)"
   ]
  },
  {
   "cell_type": "code",
   "execution_count": 32,
   "id": "e26dea53",
   "metadata": {},
   "outputs": [],
   "source": [
    "a = np.array((1, 2, 3))\n",
    "b = np.array((1, 1, 1))\n"
   ]
  },
  {
   "cell_type": "code",
   "execution_count": 35,
   "id": "4e77bbb2",
   "metadata": {},
   "outputs": [],
   "source": [
    "tmp = a - b\n",
    "sum_squared = np.dot(tmp.T, tmp)\n",
    "result = np.sqrt(sum_squared)"
   ]
  },
  {
   "cell_type": "code",
   "execution_count": 36,
   "id": "432909ee",
   "metadata": {},
   "outputs": [
    {
     "data": {
      "text/plain": [
       "2.23606797749979"
      ]
     },
     "execution_count": 36,
     "metadata": {},
     "output_type": "execute_result"
    }
   ],
   "source": [
    "result"
   ]
  },
  {
   "cell_type": "code",
   "execution_count": null,
   "id": "63b6c6e9",
   "metadata": {},
   "outputs": [],
   "source": []
  }
 ],
 "metadata": {
  "kernelspec": {
   "display_name": "Python 3 (ipykernel)",
   "language": "python",
   "name": "python3"
  },
  "language_info": {
   "codemirror_mode": {
    "name": "ipython",
    "version": 3
   },
   "file_extension": ".py",
   "mimetype": "text/x-python",
   "name": "python",
   "nbconvert_exporter": "python",
   "pygments_lexer": "ipython3",
   "version": "3.10.9"
  }
 },
 "nbformat": 4,
 "nbformat_minor": 5
}
