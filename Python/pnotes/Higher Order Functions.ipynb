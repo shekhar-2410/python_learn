{
 "cells": [
  {
   "cell_type": "markdown",
   "id": "1f9812af",
   "metadata": {},
   "source": [
    "### Higher Order Function\n",
    "These are functions that take a function as a parameter and return a function as the result.\n",
    "Reduce(), map(), and filter() are three of Python’s most useful higher-order functions. "
   ]
  },
  {
   "cell_type": "code",
   "execution_count": 1,
   "id": "38ffd627",
   "metadata": {},
   "outputs": [],
   "source": [
    "def find_sq(n):#parameter\n",
    "    return n*n"
   ]
  },
  {
   "cell_type": "code",
   "execution_count": 2,
   "id": "009d8453",
   "metadata": {},
   "outputs": [
    {
     "data": {
      "text/plain": [
       "4"
      ]
     },
     "execution_count": 2,
     "metadata": {},
     "output_type": "execute_result"
    }
   ],
   "source": [
    "find_sq(2)#2 is caaled argument"
   ]
  },
  {
   "cell_type": "code",
   "execution_count": 3,
   "id": "bdd0d103",
   "metadata": {},
   "outputs": [],
   "source": [
    "def print_sq(f, n):\n",
    "    print(f(n))"
   ]
  },
  {
   "cell_type": "code",
   "execution_count": 5,
   "id": "10850ba3",
   "metadata": {},
   "outputs": [
    {
     "name": "stdout",
     "output_type": "stream",
     "text": [
      "4\n"
     ]
    }
   ],
   "source": [
    "print_sq(find_sq,2)"
   ]
  },
  {
   "cell_type": "markdown",
   "id": "c7f612e4",
   "metadata": {},
   "source": [
    "The functions map(), filter(), and reduce() all do the similar thing: They each take a function and a list of elements, and then return the result of applying the function to each element in the list."
   ]
  },
  {
   "cell_type": "markdown",
   "id": "c39320f3",
   "metadata": {},
   "source": [
    "Essentially, these three functions allow you to apply a function across a number of iterables, in one fell swoop. map and filter come built-in with Python (in the __builtins__ module) and require no importing. reduce, however, needs to be imported as it resides in the functools module. "
   ]
  },
  {
   "cell_type": "markdown",
   "id": "07d5740a",
   "metadata": {},
   "source": [
    "### Map\n",
    "syntax : map(function, *iterables)"
   ]
  },
  {
   "cell_type": "code",
   "execution_count": 8,
   "id": "269ed6df",
   "metadata": {},
   "outputs": [],
   "source": [
    "t1 = (5, 7, 22, 97, 54, 62, 77, 23, 73, 61)\n",
    "t2 = tuple(map(lambda x: x+3 , t1)) "
   ]
  },
  {
   "cell_type": "code",
   "execution_count": 9,
   "id": "be879ec4",
   "metadata": {},
   "outputs": [
    {
     "data": {
      "text/plain": [
       "(8, 10, 25, 100, 57, 65, 80, 26, 76, 64)"
      ]
     },
     "execution_count": 9,
     "metadata": {},
     "output_type": "execute_result"
    }
   ],
   "source": [
    "t2"
   ]
  },
  {
   "cell_type": "code",
   "execution_count": 10,
   "id": "8f2c1129",
   "metadata": {},
   "outputs": [
    {
     "data": {
      "text/plain": [
       "map"
      ]
     },
     "execution_count": 10,
     "metadata": {},
     "output_type": "execute_result"
    }
   ],
   "source": [
    "type(map(lambda x: x+3 , t1))"
   ]
  },
  {
   "cell_type": "code",
   "execution_count": 11,
   "id": "eacd6d85",
   "metadata": {},
   "outputs": [
    {
     "data": {
      "text/plain": [
       "(25, 49, 484, 9409, 2916, 3844, 5929, 529, 5329, 3721)"
      ]
     },
     "execution_count": 11,
     "metadata": {},
     "output_type": "execute_result"
    }
   ],
   "source": [
    "tuple(map(find_sq,t1))"
   ]
  },
  {
   "cell_type": "code",
   "execution_count": 12,
   "id": "998e82a9",
   "metadata": {},
   "outputs": [
    {
     "data": {
      "text/plain": [
       "(8, 10, 25, 100, 57, 65, 80, 26, 76, 64)"
      ]
     },
     "execution_count": 12,
     "metadata": {},
     "output_type": "execute_result"
    }
   ],
   "source": [
    "t2"
   ]
  },
  {
   "cell_type": "code",
   "execution_count": 13,
   "id": "893131e8",
   "metadata": {},
   "outputs": [],
   "source": [
    "my_pets = ['coco', 'maggi', 'tyson', 'buddy']"
   ]
  },
  {
   "cell_type": "code",
   "execution_count": 14,
   "id": "d4417a4d",
   "metadata": {},
   "outputs": [
    {
     "data": {
      "text/plain": [
       "'PRAGYAN'"
      ]
     },
     "execution_count": 14,
     "metadata": {},
     "output_type": "execute_result"
    }
   ],
   "source": [
    "\"Pragyan\".upper()"
   ]
  },
  {
   "cell_type": "code",
   "execution_count": 16,
   "id": "d017cbe6",
   "metadata": {},
   "outputs": [
    {
     "data": {
      "text/plain": [
       "['COCO', 'MAGGI', 'TYSON', 'BUDDY']"
      ]
     },
     "execution_count": 16,
     "metadata": {},
     "output_type": "execute_result"
    }
   ],
   "source": [
    "list(map(str.upper, my_pets))#we can even pass built in functions"
   ]
  },
  {
   "cell_type": "code",
   "execution_count": 17,
   "id": "b8092b8e",
   "metadata": {},
   "outputs": [],
   "source": [
    "circle_areas = [3.56773, 5.57668, 4.00914, 56.24241, 9.01344, 32.00013]"
   ]
  },
  {
   "cell_type": "code",
   "execution_count": 21,
   "id": "ea29e722",
   "metadata": {},
   "outputs": [],
   "source": [
    "round??"
   ]
  },
  {
   "cell_type": "code",
   "execution_count": 20,
   "id": "19a2c9b3",
   "metadata": {},
   "outputs": [
    {
     "data": {
      "text/plain": [
       "[3.6, 5.58, 4.009, 56.2424, 9.01344, 32.00013]"
      ]
     },
     "execution_count": 20,
     "metadata": {},
     "output_type": "execute_result"
    }
   ],
   "source": [
    "list(map(round, circle_areas, range(1, 7)))"
   ]
  },
  {
   "cell_type": "code",
   "execution_count": 22,
   "id": "1da3c678",
   "metadata": {},
   "outputs": [],
   "source": [
    "my_strings = ['a', 'b', 'c', 'd','e','f']\n",
    "my_numbers = [1, 2, 3, 4, 5]"
   ]
  },
  {
   "cell_type": "code",
   "execution_count": 23,
   "id": "25f8f414",
   "metadata": {},
   "outputs": [
    {
     "data": {
      "text/plain": [
       "[('a', 1), ('b', 2), ('c', 3), ('d', 4), ('e', 5)]"
      ]
     },
     "execution_count": 23,
     "metadata": {},
     "output_type": "execute_result"
    }
   ],
   "source": [
    "list(map(lambda x, y: (x, y), my_strings, my_numbers))"
   ]
  },
  {
   "cell_type": "code",
   "execution_count": 24,
   "id": "3349f6b8",
   "metadata": {},
   "outputs": [
    {
     "data": {
      "text/plain": [
       "[('a', 1), ('b', 2), ('c', 3), ('d', 4), ('e', 5)]"
      ]
     },
     "execution_count": 24,
     "metadata": {},
     "output_type": "execute_result"
    }
   ],
   "source": [
    "list(zip(my_strings,my_numbers))"
   ]
  },
  {
   "cell_type": "code",
   "execution_count": 25,
   "id": "895d9d2b",
   "metadata": {},
   "outputs": [],
   "source": [
    "words = [\"Welcome\", \"to\", \"Real\", \"Python\"]"
   ]
  },
  {
   "cell_type": "code",
   "execution_count": 26,
   "id": "9777812a",
   "metadata": {},
   "outputs": [
    {
     "data": {
      "text/plain": [
       "[7, 2, 4, 6]"
      ]
     },
     "execution_count": 26,
     "metadata": {},
     "output_type": "execute_result"
    }
   ],
   "source": [
    "list(map(len, words))"
   ]
  },
  {
   "cell_type": "code",
   "execution_count": 27,
   "id": "aeae4e6f",
   "metadata": {},
   "outputs": [
    {
     "data": {
      "text/plain": [
       "[4, 4, 4]"
      ]
     },
     "execution_count": 27,
     "metadata": {},
     "output_type": "execute_result"
    }
   ],
   "source": [
    "[4]*3"
   ]
  },
  {
   "cell_type": "code",
   "execution_count": 28,
   "id": "5b0cbd5e",
   "metadata": {},
   "outputs": [],
   "source": [
    "first_it = [1, 2, 3]\n",
    "second_it = [4]*3"
   ]
  },
  {
   "cell_type": "code",
   "execution_count": 29,
   "id": "b1356c06",
   "metadata": {},
   "outputs": [
    {
     "data": {
      "text/plain": [
       "8"
      ]
     },
     "execution_count": 29,
     "metadata": {},
     "output_type": "execute_result"
    }
   ],
   "source": [
    "pow(2,3)"
   ]
  },
  {
   "cell_type": "code",
   "execution_count": 30,
   "id": "c5e2c39c",
   "metadata": {},
   "outputs": [
    {
     "data": {
      "text/plain": [
       "8"
      ]
     },
     "execution_count": 30,
     "metadata": {},
     "output_type": "execute_result"
    }
   ],
   "source": [
    "2**3"
   ]
  },
  {
   "cell_type": "code",
   "execution_count": 31,
   "id": "90ef725c",
   "metadata": {},
   "outputs": [
    {
     "data": {
      "text/plain": [
       "[1, 16, 81]"
      ]
     },
     "execution_count": 31,
     "metadata": {},
     "output_type": "execute_result"
    }
   ],
   "source": [
    "list(map(pow, first_it, second_it))"
   ]
  },
  {
   "cell_type": "code",
   "execution_count": null,
   "id": "e4e7a31a",
   "metadata": {},
   "outputs": [],
   "source": [
    "pow(2,3)"
   ]
  },
  {
   "cell_type": "code",
   "execution_count": null,
   "id": "1647aebb",
   "metadata": {},
   "outputs": [],
   "source": [
    "2**3"
   ]
  },
  {
   "cell_type": "markdown",
   "id": "1c8c3719",
   "metadata": {},
   "source": [
    "### Filter\n",
    "SYNTAX: filter (function, *iterables)"
   ]
  },
  {
   "cell_type": "code",
   "execution_count": 32,
   "id": "71cf4a0e",
   "metadata": {},
   "outputs": [
    {
     "data": {
      "text/plain": [
       "(5, 7, 22, 97, 54, 62, 77, 23, 73, 61)"
      ]
     },
     "execution_count": 32,
     "metadata": {},
     "output_type": "execute_result"
    }
   ],
   "source": [
    "t1"
   ]
  },
  {
   "cell_type": "code",
   "execution_count": 34,
   "id": "5bd5b40e",
   "metadata": {},
   "outputs": [],
   "source": [
    "def xyz(n):\n",
    "    if n>=50: return n"
   ]
  },
  {
   "cell_type": "code",
   "execution_count": 35,
   "id": "ce03c4e4",
   "metadata": {},
   "outputs": [],
   "source": [
    "f1 = filter(xyz, t1)"
   ]
  },
  {
   "cell_type": "code",
   "execution_count": 37,
   "id": "83cfa8ba",
   "metadata": {},
   "outputs": [
    {
     "data": {
      "text/plain": [
       "filter"
      ]
     },
     "execution_count": 37,
     "metadata": {},
     "output_type": "execute_result"
    }
   ],
   "source": [
    "type(f1)"
   ]
  },
  {
   "cell_type": "code",
   "execution_count": 36,
   "id": "108133ca",
   "metadata": {},
   "outputs": [
    {
     "data": {
      "text/plain": [
       "(97, 54, 62, 77, 73, 61)"
      ]
     },
     "execution_count": 36,
     "metadata": {},
     "output_type": "execute_result"
    }
   ],
   "source": [
    "tuple(f1)"
   ]
  },
  {
   "cell_type": "code",
   "execution_count": 40,
   "id": "d5b6b2dc",
   "metadata": {},
   "outputs": [],
   "source": [
    "a = \"Pragyan\""
   ]
  },
  {
   "cell_type": "code",
   "execution_count": 41,
   "id": "0dfc0327",
   "metadata": {},
   "outputs": [
    {
     "data": {
      "text/plain": [
       "'naygarP'"
      ]
     },
     "execution_count": 41,
     "metadata": {},
     "output_type": "execute_result"
    }
   ],
   "source": [
    "a[::-1]"
   ]
  },
  {
   "cell_type": "code",
   "execution_count": 38,
   "id": "1a907293",
   "metadata": {},
   "outputs": [],
   "source": [
    "dromes = (\"demigod\", \"rewire\", \"madam\", \"freer\", \"anutforajaroftuna\", \"kiosk\")"
   ]
  },
  {
   "cell_type": "code",
   "execution_count": 42,
   "id": "d6b85a07",
   "metadata": {},
   "outputs": [
    {
     "data": {
      "text/plain": [
       "['madam', 'anutforajaroftuna']"
      ]
     },
     "execution_count": 42,
     "metadata": {},
     "output_type": "execute_result"
    }
   ],
   "source": [
    "list(filter(lambda word: word == word[::-1], dromes))"
   ]
  },
  {
   "cell_type": "code",
   "execution_count": null,
   "id": "9339732b",
   "metadata": {},
   "outputs": [],
   "source": []
  },
  {
   "cell_type": "markdown",
   "id": "0f8349bc",
   "metadata": {},
   "source": [
    "### Reduce\n",
    "SYNTAX: reduce(function, *iterables)\n",
    "reduce applies a function of two arguments cumulatively to the elements of an iterable, optionally starting with an initial argument. It has the following syntax:\n",
    "\n",
    "reduce(func, iterable[, initial])\n",
    "\n"
   ]
  },
  {
   "cell_type": "code",
   "execution_count": 48,
   "id": "566f67a9",
   "metadata": {},
   "outputs": [],
   "source": [
    "from functools import reduce"
   ]
  },
  {
   "cell_type": "code",
   "execution_count": 49,
   "id": "01e241a6",
   "metadata": {},
   "outputs": [
    {
     "data": {
      "text/plain": [
       "187"
      ]
     },
     "execution_count": 49,
     "metadata": {},
     "output_type": "execute_result"
    }
   ],
   "source": [
    "reduce(lambda a,b: a+b,[23,21,45,98])"
   ]
  },
  {
   "cell_type": "code",
   "execution_count": 50,
   "id": "08037005",
   "metadata": {},
   "outputs": [
    {
     "data": {
      "text/plain": [
       "44"
      ]
     },
     "execution_count": 50,
     "metadata": {},
     "output_type": "execute_result"
    }
   ],
   "source": [
    "23+21"
   ]
  },
  {
   "cell_type": "code",
   "execution_count": 51,
   "id": "39a01eee",
   "metadata": {},
   "outputs": [
    {
     "data": {
      "text/plain": [
       "89"
      ]
     },
     "execution_count": 51,
     "metadata": {},
     "output_type": "execute_result"
    }
   ],
   "source": [
    "44+45"
   ]
  },
  {
   "cell_type": "code",
   "execution_count": 47,
   "id": "2b0ef62c",
   "metadata": {},
   "outputs": [
    {
     "data": {
      "text/plain": [
       "187"
      ]
     },
     "execution_count": 47,
     "metadata": {},
     "output_type": "execute_result"
    }
   ],
   "source": [
    "89+98"
   ]
  },
  {
   "cell_type": "code",
   "execution_count": null,
   "id": "da499a32",
   "metadata": {},
   "outputs": [],
   "source": [
    "reduce??"
   ]
  },
  {
   "cell_type": "markdown",
   "id": "65e59657",
   "metadata": {},
   "source": [
    "### Sorted"
   ]
  },
  {
   "cell_type": "code",
   "execution_count": 52,
   "id": "686ab061",
   "metadata": {},
   "outputs": [],
   "source": [
    "words = ['Pragyan','Deepak','Divya','Junaed','Syed']"
   ]
  },
  {
   "cell_type": "code",
   "execution_count": 53,
   "id": "7a620558",
   "metadata": {},
   "outputs": [
    {
     "data": {
      "text/plain": [
       "['Deepak', 'Divya', 'Junaed', 'Pragyan', 'Syed']"
      ]
     },
     "execution_count": 53,
     "metadata": {},
     "output_type": "execute_result"
    }
   ],
   "source": [
    "sorted(words)"
   ]
  },
  {
   "cell_type": "code",
   "execution_count": 54,
   "id": "df0c3271",
   "metadata": {},
   "outputs": [
    {
     "data": {
      "text/plain": [
       "68"
      ]
     },
     "execution_count": 54,
     "metadata": {},
     "output_type": "execute_result"
    }
   ],
   "source": [
    "ord(\"D\")"
   ]
  },
  {
   "cell_type": "code",
   "execution_count": null,
   "id": "f799c5e4",
   "metadata": {},
   "outputs": [],
   "source": []
  },
  {
   "cell_type": "code",
   "execution_count": 55,
   "id": "dd6a08ea",
   "metadata": {},
   "outputs": [
    {
     "data": {
      "text/plain": [
       "['Syed', 'Divya', 'Deepak', 'Junaed', 'Pragyan']"
      ]
     },
     "execution_count": 55,
     "metadata": {},
     "output_type": "execute_result"
    }
   ],
   "source": [
    "sorted(words,key= lambda x : len(x))"
   ]
  },
  {
   "cell_type": "code",
   "execution_count": 56,
   "id": "ecf6bf8b",
   "metadata": {},
   "outputs": [
    {
     "data": {
      "text/plain": [
       "['Pragyan', 'Deepak', 'Junaed', 'Divya', 'Syed']"
      ]
     },
     "execution_count": 56,
     "metadata": {},
     "output_type": "execute_result"
    }
   ],
   "source": [
    "sorted(words,key= lambda ele : len(ele),reverse=True)"
   ]
  },
  {
   "cell_type": "code",
   "execution_count": 57,
   "id": "6a30fd66",
   "metadata": {},
   "outputs": [],
   "source": [
    "data = [\n",
    "    [101,\"Anshu\",3000],\n",
    "    [102,\"Gaurav\",4000],\n",
    "    [103,\"Leela\",5000],\n",
    "    [104,\"Shubham\",2000],\n",
    "    ]"
   ]
  },
  {
   "cell_type": "code",
   "execution_count": 58,
   "id": "29e495aa",
   "metadata": {},
   "outputs": [],
   "source": [
    "#sort by alphabatical order of names\n",
    "data.sort(key = lambda x:x[1])"
   ]
  },
  {
   "cell_type": "code",
   "execution_count": 59,
   "id": "d77a4129",
   "metadata": {},
   "outputs": [
    {
     "data": {
      "text/plain": [
       "[[101, 'Anshu', 3000],\n",
       " [102, 'Gaurav', 4000],\n",
       " [103, 'Leela', 5000],\n",
       " [104, 'Shubham', 2000]]"
      ]
     },
     "execution_count": 59,
     "metadata": {},
     "output_type": "execute_result"
    }
   ],
   "source": [
    "data"
   ]
  },
  {
   "cell_type": "code",
   "execution_count": 60,
   "id": "42d679ba",
   "metadata": {},
   "outputs": [],
   "source": [
    "#sort descending order of salary\n",
    "data.sort(key=lambda x : x[2],reverse=True)"
   ]
  },
  {
   "cell_type": "code",
   "execution_count": 61,
   "id": "19d4b1c0",
   "metadata": {},
   "outputs": [
    {
     "data": {
      "text/plain": [
       "[[103, 'Leela', 5000],\n",
       " [102, 'Gaurav', 4000],\n",
       " [101, 'Anshu', 3000],\n",
       " [104, 'Shubham', 2000]]"
      ]
     },
     "execution_count": 61,
     "metadata": {},
     "output_type": "execute_result"
    }
   ],
   "source": [
    "data"
   ]
  },
  {
   "cell_type": "code",
   "execution_count": 62,
   "id": "a2e1dc0c",
   "metadata": {},
   "outputs": [],
   "source": [
    "\n",
    "import pandas as pd\n",
    "\n",
    "# initialize list of lists\n",
    "data = [['Pragyan', 28], ['shekhar', 30], ['Ved', 29]]\n",
    "\n",
    "# Create the pandas DataFrame\n",
    "df = pd.DataFrame(data, columns=['Name', 'Age'])\n",
    "\n"
   ]
  },
  {
   "cell_type": "code",
   "execution_count": 63,
   "id": "2344c772",
   "metadata": {},
   "outputs": [
    {
     "data": {
      "text/html": [
       "<div>\n",
       "<style scoped>\n",
       "    .dataframe tbody tr th:only-of-type {\n",
       "        vertical-align: middle;\n",
       "    }\n",
       "\n",
       "    .dataframe tbody tr th {\n",
       "        vertical-align: top;\n",
       "    }\n",
       "\n",
       "    .dataframe thead th {\n",
       "        text-align: right;\n",
       "    }\n",
       "</style>\n",
       "<table border=\"1\" class=\"dataframe\">\n",
       "  <thead>\n",
       "    <tr style=\"text-align: right;\">\n",
       "      <th></th>\n",
       "      <th>Name</th>\n",
       "      <th>Age</th>\n",
       "    </tr>\n",
       "  </thead>\n",
       "  <tbody>\n",
       "    <tr>\n",
       "      <th>0</th>\n",
       "      <td>Pragyan</td>\n",
       "      <td>28</td>\n",
       "    </tr>\n",
       "    <tr>\n",
       "      <th>1</th>\n",
       "      <td>shekhar</td>\n",
       "      <td>30</td>\n",
       "    </tr>\n",
       "    <tr>\n",
       "      <th>2</th>\n",
       "      <td>Ved</td>\n",
       "      <td>29</td>\n",
       "    </tr>\n",
       "  </tbody>\n",
       "</table>\n",
       "</div>"
      ],
      "text/plain": [
       "      Name  Age\n",
       "0  Pragyan   28\n",
       "1  shekhar   30\n",
       "2      Ved   29"
      ]
     },
     "execution_count": 63,
     "metadata": {},
     "output_type": "execute_result"
    }
   ],
   "source": [
    "df"
   ]
  },
  {
   "cell_type": "code",
   "execution_count": 64,
   "id": "9e5d9488",
   "metadata": {},
   "outputs": [],
   "source": [
    "df['Age after 5 years'] = df['Age'].apply(find_sq)"
   ]
  },
  {
   "cell_type": "code",
   "execution_count": 65,
   "id": "9b45dc56",
   "metadata": {},
   "outputs": [
    {
     "data": {
      "text/html": [
       "<div>\n",
       "<style scoped>\n",
       "    .dataframe tbody tr th:only-of-type {\n",
       "        vertical-align: middle;\n",
       "    }\n",
       "\n",
       "    .dataframe tbody tr th {\n",
       "        vertical-align: top;\n",
       "    }\n",
       "\n",
       "    .dataframe thead th {\n",
       "        text-align: right;\n",
       "    }\n",
       "</style>\n",
       "<table border=\"1\" class=\"dataframe\">\n",
       "  <thead>\n",
       "    <tr style=\"text-align: right;\">\n",
       "      <th></th>\n",
       "      <th>Name</th>\n",
       "      <th>Age</th>\n",
       "      <th>Age after 5 years</th>\n",
       "    </tr>\n",
       "  </thead>\n",
       "  <tbody>\n",
       "    <tr>\n",
       "      <th>0</th>\n",
       "      <td>Pragyan</td>\n",
       "      <td>28</td>\n",
       "      <td>784</td>\n",
       "    </tr>\n",
       "    <tr>\n",
       "      <th>1</th>\n",
       "      <td>shekhar</td>\n",
       "      <td>30</td>\n",
       "      <td>900</td>\n",
       "    </tr>\n",
       "    <tr>\n",
       "      <th>2</th>\n",
       "      <td>Ved</td>\n",
       "      <td>29</td>\n",
       "      <td>841</td>\n",
       "    </tr>\n",
       "  </tbody>\n",
       "</table>\n",
       "</div>"
      ],
      "text/plain": [
       "      Name  Age  Age after 5 years\n",
       "0  Pragyan   28                784\n",
       "1  shekhar   30                900\n",
       "2      Ved   29                841"
      ]
     },
     "execution_count": 65,
     "metadata": {},
     "output_type": "execute_result"
    }
   ],
   "source": [
    "df"
   ]
  },
  {
   "cell_type": "code",
   "execution_count": null,
   "id": "b66380af",
   "metadata": {},
   "outputs": [],
   "source": []
  }
 ],
 "metadata": {
  "kernelspec": {
   "display_name": "Python 3 (ipykernel)",
   "language": "python",
   "name": "python3"
  },
  "language_info": {
   "codemirror_mode": {
    "name": "ipython",
    "version": 3
   },
   "file_extension": ".py",
   "mimetype": "text/x-python",
   "name": "python",
   "nbconvert_exporter": "python",
   "pygments_lexer": "ipython3",
   "version": "3.10.9"
  }
 },
 "nbformat": 4,
 "nbformat_minor": 5
}
