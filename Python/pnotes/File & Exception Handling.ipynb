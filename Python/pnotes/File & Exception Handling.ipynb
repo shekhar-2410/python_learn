{
 "cells": [
  {
   "cell_type": "markdown",
   "id": "be84003b",
   "metadata": {},
   "source": [
    "## Exceptions Vs Errors"
   ]
  },
  {
   "cell_type": "code",
   "execution_count": 1,
   "id": "19d0f416",
   "metadata": {},
   "outputs": [],
   "source": [
    "year=5\n",
    "if year<3:\n",
    "    print(year)"
   ]
  },
  {
   "cell_type": "code",
   "execution_count": 2,
   "id": "be881b8f",
   "metadata": {},
   "outputs": [
    {
     "ename": "SyntaxError",
     "evalue": "unmatched ')' (Temp/ipykernel_20204/685386566.py, line 1)",
     "output_type": "error",
     "traceback": [
      "\u001b[1;36m  File \u001b[1;32m\"C:\\Users\\PRAGYA~1.PRA\\AppData\\Local\\Temp/ipykernel_20204/685386566.py\"\u001b[1;36m, line \u001b[1;32m1\u001b[0m\n\u001b[1;33m    print( 0 / 0 ))\u001b[0m\n\u001b[1;37m                  ^\u001b[0m\n\u001b[1;31mSyntaxError\u001b[0m\u001b[1;31m:\u001b[0m unmatched ')'\n"
     ]
    }
   ],
   "source": [
    "print( 0 / 0 )) "
   ]
  },
  {
   "cell_type": "code",
   "execution_count": 3,
   "id": "813987c8",
   "metadata": {
    "scrolled": true
   },
   "outputs": [
    {
     "ename": "ZeroDivisionError",
     "evalue": "division by zero",
     "output_type": "error",
     "traceback": [
      "\u001b[1;31m---------------------------------------------------------------------------\u001b[0m",
      "\u001b[1;31mZeroDivisionError\u001b[0m                         Traceback (most recent call last)",
      "\u001b[1;32mC:\\Users\\PRAGYA~1.PRA\\AppData\\Local\\Temp/ipykernel_20204/4130244346.py\u001b[0m in \u001b[0;36m<module>\u001b[1;34m\u001b[0m\n\u001b[1;32m----> 1\u001b[1;33m \u001b[0mprint\u001b[0m\u001b[1;33m(\u001b[0m \u001b[1;36m0\u001b[0m \u001b[1;33m/\u001b[0m \u001b[1;36m0\u001b[0m \u001b[1;33m)\u001b[0m \u001b[1;31m#Exceptions\u001b[0m\u001b[1;33m\u001b[0m\u001b[1;33m\u001b[0m\u001b[0m\n\u001b[0m",
      "\u001b[1;31mZeroDivisionError\u001b[0m: division by zero"
     ]
    }
   ],
   "source": [
    "print( 0 / 0 ) #Exceptions "
   ]
  },
  {
   "cell_type": "code",
   "execution_count": 4,
   "id": "c42f2044",
   "metadata": {},
   "outputs": [
    {
     "name": "stdout",
     "output_type": "stream",
     "text": [
      "Divide by Zero Occured!!\n"
     ]
    }
   ],
   "source": [
    "try:\n",
    "    print(0/0)\n",
    "    \n",
    "except:\n",
    "    print(\"Divide by Zero Occured!!\")"
   ]
  },
  {
   "cell_type": "code",
   "execution_count": 5,
   "id": "881e5b40",
   "metadata": {},
   "outputs": [],
   "source": [
    "d = {'a':1,\"b\":2}"
   ]
  },
  {
   "cell_type": "code",
   "execution_count": 6,
   "id": "485c91ea",
   "metadata": {},
   "outputs": [
    {
     "ename": "KeyError",
     "evalue": "'c'",
     "output_type": "error",
     "traceback": [
      "\u001b[1;31m---------------------------------------------------------------------------\u001b[0m",
      "\u001b[1;31mKeyError\u001b[0m                                  Traceback (most recent call last)",
      "\u001b[1;32mC:\\Users\\PRAGYA~1.PRA\\AppData\\Local\\Temp/ipykernel_20204/1604721743.py\u001b[0m in \u001b[0;36m<module>\u001b[1;34m\u001b[0m\n\u001b[1;32m----> 1\u001b[1;33m \u001b[0md\u001b[0m\u001b[1;33m[\u001b[0m\u001b[1;34m'c'\u001b[0m\u001b[1;33m]\u001b[0m\u001b[1;33m\u001b[0m\u001b[1;33m\u001b[0m\u001b[0m\n\u001b[0m",
      "\u001b[1;31mKeyError\u001b[0m: 'c'"
     ]
    }
   ],
   "source": [
    "d['c']"
   ]
  },
  {
   "cell_type": "code",
   "execution_count": 7,
   "id": "f0664661",
   "metadata": {},
   "outputs": [
    {
     "data": {
      "text/plain": [
       "False"
      ]
     },
     "execution_count": 7,
     "metadata": {},
     "output_type": "execute_result"
    }
   ],
   "source": [
    "'c' in d"
   ]
  },
  {
   "cell_type": "code",
   "execution_count": 8,
   "id": "81454071",
   "metadata": {},
   "outputs": [
    {
     "data": {
      "text/plain": [
       "True"
      ]
     },
     "execution_count": 8,
     "metadata": {},
     "output_type": "execute_result"
    }
   ],
   "source": [
    "'a' in d"
   ]
  },
  {
   "cell_type": "code",
   "execution_count": 9,
   "id": "fa77d39a",
   "metadata": {},
   "outputs": [
    {
     "name": "stdout",
     "output_type": "stream",
     "text": [
      "Divide is not present\n"
     ]
    }
   ],
   "source": [
    "try:\n",
    "    print(0/0)\n",
    "except:\n",
    "    print(\"Divide is not present\")"
   ]
  },
  {
   "cell_type": "code",
   "execution_count": 11,
   "id": "3f2cbf4b",
   "metadata": {},
   "outputs": [
    {
     "ename": "KeyError",
     "evalue": "'c'",
     "output_type": "error",
     "traceback": [
      "\u001b[1;31m---------------------------------------------------------------------------\u001b[0m",
      "\u001b[1;31mKeyError\u001b[0m                                  Traceback (most recent call last)",
      "\u001b[1;32mC:\\Users\\PRAGYA~1.PRA\\AppData\\Local\\Temp/ipykernel_20204/1604721743.py\u001b[0m in \u001b[0;36m<module>\u001b[1;34m\u001b[0m\n\u001b[1;32m----> 1\u001b[1;33m \u001b[0md\u001b[0m\u001b[1;33m[\u001b[0m\u001b[1;34m'c'\u001b[0m\u001b[1;33m]\u001b[0m\u001b[1;33m\u001b[0m\u001b[1;33m\u001b[0m\u001b[0m\n\u001b[0m",
      "\u001b[1;31mKeyError\u001b[0m: 'c'"
     ]
    }
   ],
   "source": [
    "d['c']"
   ]
  },
  {
   "cell_type": "code",
   "execution_count": 10,
   "id": "def10229",
   "metadata": {
    "scrolled": true
   },
   "outputs": [
    {
     "name": "stdout",
     "output_type": "stream",
     "text": [
      "Tis is before exception,this will print\n",
      "Key is not present\n",
      "Example of divide by zero!\n",
      "This will handle any kind of exception!!\n",
      "This will Run!!\n"
     ]
    }
   ],
   "source": [
    "try:\n",
    "    print(\"Tis is before exception,this will print\")\n",
    "    d['c']\n",
    "   #below code will not run \n",
    "    \n",
    "    print(0/0) \n",
    "except ZeroDivisionError:\n",
    "    print(\"Divide by Zero!\")\n",
    "except KeyError:\n",
    "    print(\"Key is not present\")\n",
    "    \n",
    "    \n",
    "try:\n",
    "    print(\"Example of divide by zero!\")\n",
    "    print(0/0)\n",
    "except:\n",
    "    print(\"This will handle any kind of exception!!\")\n",
    "    \n",
    "#this is outside    \n",
    "print(\"This will Run!!\")\n"
   ]
  },
  {
   "cell_type": "code",
   "execution_count": 12,
   "id": "f95170e3",
   "metadata": {},
   "outputs": [
    {
     "ename": "NameError",
     "evalue": "name 'b' is not defined",
     "output_type": "error",
     "traceback": [
      "\u001b[1;31m---------------------------------------------------------------------------\u001b[0m",
      "\u001b[1;31mNameError\u001b[0m                                 Traceback (most recent call last)",
      "\u001b[1;32mC:\\Users\\PRAGYA~1.PRA\\AppData\\Local\\Temp/ipykernel_20204/1685013873.py\u001b[0m in \u001b[0;36m<module>\u001b[1;34m\u001b[0m\n\u001b[1;32m----> 1\u001b[1;33m \u001b[0mb\u001b[0m\u001b[1;33m\u001b[0m\u001b[1;33m\u001b[0m\u001b[0m\n\u001b[0m",
      "\u001b[1;31mNameError\u001b[0m: name 'b' is not defined"
     ]
    }
   ],
   "source": [
    "b"
   ]
  },
  {
   "cell_type": "code",
   "execution_count": 13,
   "id": "6dd3e794",
   "metadata": {},
   "outputs": [
    {
     "name": "stdout",
     "output_type": "stream",
     "text": [
      "Variable b is not defined\n"
     ]
    }
   ],
   "source": [
    "try:\n",
    "    print(b)\n",
    "except NameError:\n",
    "    print(\"Variable b is not defined\")"
   ]
  },
  {
   "cell_type": "code",
   "execution_count": null,
   "id": "f99733c2",
   "metadata": {},
   "outputs": [],
   "source": []
  },
  {
   "cell_type": "markdown",
   "id": "c1197e2a",
   "metadata": {},
   "source": [
    "<a>https://docs.python.org/3/library/exceptions.html</a>"
   ]
  },
  {
   "cell_type": "code",
   "execution_count": 14,
   "id": "351951bc",
   "metadata": {},
   "outputs": [
    {
     "data": {
      "text/plain": [
       "14"
      ]
     },
     "execution_count": 14,
     "metadata": {},
     "output_type": "execute_result"
    }
   ],
   "source": [
    "int(14.3)"
   ]
  },
  {
   "cell_type": "code",
   "execution_count": 15,
   "id": "9b0a64c2",
   "metadata": {},
   "outputs": [
    {
     "ename": "ValueError",
     "evalue": "invalid literal for int() with base 10: 'Pragyan'",
     "output_type": "error",
     "traceback": [
      "\u001b[1;31m---------------------------------------------------------------------------\u001b[0m",
      "\u001b[1;31mValueError\u001b[0m                                Traceback (most recent call last)",
      "\u001b[1;32mC:\\Users\\PRAGYA~1.PRA\\AppData\\Local\\Temp/ipykernel_20204/3492121015.py\u001b[0m in \u001b[0;36m<module>\u001b[1;34m\u001b[0m\n\u001b[1;32m----> 1\u001b[1;33m \u001b[1;36m1\u001b[0m\u001b[1;33m/\u001b[0m\u001b[0mint\u001b[0m\u001b[1;33m(\u001b[0m\u001b[1;34m\"Pragyan\"\u001b[0m\u001b[1;33m)\u001b[0m\u001b[1;33m\u001b[0m\u001b[1;33m\u001b[0m\u001b[0m\n\u001b[0m",
      "\u001b[1;31mValueError\u001b[0m: invalid literal for int() with base 10: 'Pragyan'"
     ]
    }
   ],
   "source": [
    "1/int(\"Pragyan\")"
   ]
  },
  {
   "cell_type": "code",
   "execution_count": 22,
   "id": "edd425f9",
   "metadata": {
    "scrolled": true
   },
   "outputs": [
    {
     "name": "stdout",
     "output_type": "stream",
     "text": [
      "the entry is: boy\n",
      "Hey a ValueError exception occured\n",
      "the entry is: 0\n",
      "Hey a ZeroDivisionError exception occured\n",
      "This is outside try block\n"
     ]
    }
   ],
   "source": [
    "list=['boy',0]\n",
    "for entry in list:\n",
    "    \n",
    "    try:\n",
    "        print(\"the entry is:\" , entry)\n",
    "        r=1/int(entry)\n",
    "        print(c)\n",
    "  \n",
    "#     except Exception:\n",
    "#         print(\"some error occur\")\n",
    "   \n",
    "    except(ValueError):\n",
    "        print(\"Hey a ValueError exception occured\")\n",
    "    except(ZeroDivisionError):\n",
    "        print(\"Hey a ZeroDivisionError exception occured\")\n",
    "    except Exception:\n",
    "        print(\"some error occur\")\n",
    "        \n",
    "print(\"This is outside try block\")"
   ]
  },
  {
   "cell_type": "code",
   "execution_count": null,
   "id": "76d852dc",
   "metadata": {},
   "outputs": [],
   "source": [
    "#diffence b/w syntax error and exceptions \n",
    "# Exceptions and various sub class of exception --> ValueError,KeyError,NameError,ZeroDivisionError"
   ]
  },
  {
   "cell_type": "code",
   "execution_count": null,
   "id": "6b16433a",
   "metadata": {},
   "outputs": [],
   "source": [
    "age = 500\n",
    "if age > 100:\n",
    "    raise Exception('Age should not exceed 100. The value of age was: {}'.format(age))"
   ]
  },
  {
   "cell_type": "code",
   "execution_count": null,
   "id": "03ad81bf",
   "metadata": {},
   "outputs": [],
   "source": [
    "#If you want to throw an error when a certain condition occurs using raise, you could go about it like this:\n",
    "try:\n",
    "    age = 500\n",
    "    if age > 100:\n",
    "        raise Exception('Age should not exceed 100. The value of age was: {}'.format(age))\n",
    "except Exception as e:\n",
    "    print(e)\n",
    "        "
   ]
  },
  {
   "cell_type": "code",
   "execution_count": null,
   "id": "a6b003a8",
   "metadata": {},
   "outputs": [],
   "source": [
    "try:\n",
    "    num=int(input(\"enter a positive integer\"))\n",
    "    \n",
    "    if num<=0 :\n",
    "        raise ValueError(\"error:entered a negative number\")\n",
    "except ValueError as e:\n",
    "    print(e)"
   ]
  },
  {
   "cell_type": "code",
   "execution_count": null,
   "id": "9ccaeb70",
   "metadata": {},
   "outputs": [],
   "source": []
  },
  {
   "cell_type": "code",
   "execution_count": 24,
   "id": "b6824a60",
   "metadata": {},
   "outputs": [
    {
     "name": "stdout",
     "output_type": "stream",
     "text": [
      "This will always run!!\n"
     ]
    }
   ],
   "source": [
    "try:\n",
    "    #run this code\n",
    "    1/0\n",
    "    a = 10\n",
    "except:\n",
    "    #Excecute this code when there is an error\n",
    "    pass\n",
    "\n",
    "else:\n",
    "    #Run this code if we don't encounter exception\n",
    "    print(\"No exception occured!!\")\n",
    "finally:\n",
    "    #Always run this code\n",
    "    print(\"This will always run!!\")\n",
    "    \n",
    "    \n",
    "    "
   ]
  },
  {
   "cell_type": "code",
   "execution_count": null,
   "id": "d084d596",
   "metadata": {},
   "outputs": [],
   "source": [
    "try:\n",
    "    #run this code\n",
    "    print(f)\n",
    "except Exception as e:\n",
    "    #Excecute this code when there is an error\n",
    "    print(e)\n",
    "\n",
    "else:\n",
    "    #Run this code if we don't encounter exception\n",
    "    print(\"No exception occured!!\")\n",
    "    print(a+1)\n",
    "finally:\n",
    "    #Always run this code\n",
    "    print(\"This will always run!!\")\n",
    "    "
   ]
  },
  {
   "cell_type": "code",
   "execution_count": null,
   "id": "26abd5d8",
   "metadata": {},
   "outputs": [],
   "source": [
    "help(eval)"
   ]
  },
  {
   "cell_type": "code",
   "execution_count": null,
   "id": "1405a677",
   "metadata": {},
   "outputs": [],
   "source": [
    "try:\n",
    "    #run this code\n",
    "    age = eval(input(\"Enter your Age\"))\n",
    "    if age <=0:\n",
    "        raise Exception('Age should not be negative. The value of age was: {}'.format(age))\n",
    "        \n",
    "except Exception as e:\n",
    "    #Excecute this code when there is an error\n",
    "    print(e)\n",
    "\n",
    "else:\n",
    "    #Run this code if we don't encounter exception\n",
    "    print(\"No exception occured!!\")\n",
    "    print(f\"Age after 10 years would be :{age+10}\")\n",
    "finally:\n",
    "    #Always run this code\n",
    "    print(\"This will always run!!\")\n",
    "    print(\"Thanks you for entering age\")\n",
    "    "
   ]
  },
  {
   "cell_type": "code",
   "execution_count": null,
   "id": "e264eb88",
   "metadata": {},
   "outputs": [],
   "source": [
    "if 1==1:\n",
    "    #print(\"Pragyan\")\n",
    "    pass"
   ]
  },
  {
   "cell_type": "code",
   "execution_count": null,
   "id": "51be1c15",
   "metadata": {},
   "outputs": [],
   "source": [
    "assert 5==5"
   ]
  },
  {
   "cell_type": "code",
   "execution_count": null,
   "id": "7f17ebbf",
   "metadata": {},
   "outputs": [],
   "source": [
    "assert 5==4"
   ]
  },
  {
   "cell_type": "code",
   "execution_count": null,
   "id": "78b38b57",
   "metadata": {},
   "outputs": [],
   "source": [
    "try:\n",
    "    assert 5==4\n",
    "except:\n",
    "    print(\"Assertion exception occured!!\")"
   ]
  },
  {
   "cell_type": "code",
   "execution_count": null,
   "id": "ac89c078",
   "metadata": {},
   "outputs": [],
   "source": [
    "try:\n",
    "    assert 5==4\n",
    "except AssertionError:\n",
    "    print(\"Assertion exception occured!!\")"
   ]
  },
  {
   "cell_type": "code",
   "execution_count": null,
   "id": "937ee737",
   "metadata": {},
   "outputs": [],
   "source": [
    "import sys"
   ]
  },
  {
   "cell_type": "code",
   "execution_count": null,
   "id": "2e5cea57",
   "metadata": {},
   "outputs": [],
   "source": [
    "sys.platform"
   ]
  },
  {
   "cell_type": "code",
   "execution_count": null,
   "id": "c0c2cb23",
   "metadata": {},
   "outputs": [],
   "source": [
    "try:\n",
    "    assert sys.platform == 'win32'\n",
    "    print(\"pragyaN\")\n",
    "except:\n",
    "    print(\"This code will only run on windows!!\")\n",
    "try:\n",
    "    assert sys.platform == 'linux'\n",
    "    print(\"Linux!!\")\n",
    "except:\n",
    "    print(\"This code will only run on Linux\")\n",
    "    \n",
    "    "
   ]
  },
  {
   "cell_type": "markdown",
   "id": "a13f5b6d",
   "metadata": {},
   "source": [
    "## File Handling"
   ]
  },
  {
   "cell_type": "markdown",
   "id": "fd98f450",
   "metadata": {},
   "source": [
    "When you access a file on an operating system, a file path is required. The file path is a string that represents the location of a file. It’s broken up into three major parts:\n",
    "\n",
    "* **Folder Path:** the file folder location on the file system where subsequent folders are separated by a forward slash / (Unix) or backslash \\ (Windows)\n",
    "* **File Name:** the actual name of the file\n",
    "* **Extension:** the end of the file path pre-pended with a period (.) used to indicate the file type"
   ]
  },
  {
   "cell_type": "code",
   "execution_count": null,
   "id": "7e1bd661",
   "metadata": {},
   "outputs": [],
   "source": [
    "pwd #print working directory"
   ]
  },
  {
   "cell_type": "code",
   "execution_count": null,
   "id": "b9f5df93",
   "metadata": {},
   "outputs": [],
   "source": []
  },
  {
   "cell_type": "markdown",
   "id": "554687ca",
   "metadata": {},
   "source": [
    "## Encoding\n",
    "Another common problem that you may face is the encoding of the byte data. An encoding is a translation from byte data to human readable characters. This is typically done by assigning a numerical value to represent a character. The two most common encodings are the ASCII and UNICODE Formats. ASCII can only store 128 characters, while Unicode can contain up to 1,114,112 characters.\n",
    "\n",
    "ASCII is actually a subset of Unicode (UTF-8), meaning that ASCII and Unicode share the same numerical to character values. It’s important to note that parsing a file with the incorrect character encoding can lead to failures or misrepresentation of the character. For example, if a file was created using the UTF-8 encoding, and you try to parse it using the ASCII encoding, if there is a character that is outside of those 128 values, then an error will be thrown."
   ]
  },
  {
   "cell_type": "code",
   "execution_count": null,
   "id": "47dc37cd",
   "metadata": {},
   "outputs": [],
   "source": [
    "reader = open('data.txt')\n",
    "try:\n",
    "    # Further file processing goes here\n",
    "    pass\n",
    "finally:\n",
    "    reader.close()"
   ]
  },
  {
   "cell_type": "code",
   "execution_count": null,
   "id": "2f971dc2",
   "metadata": {},
   "outputs": [],
   "source": [
    "#recommended method to open a file because we don't need to close it explicitly\n",
    "with open('data.txt', 'r') as f:\n",
    "    data = f.read()\n",
    "    print(data)\n",
    "    "
   ]
  },
  {
   "cell_type": "code",
   "execution_count": null,
   "id": "2ac5a6f0",
   "metadata": {},
   "outputs": [],
   "source": [
    "#if we are opening the file in write mode,it will overwrite the data\n",
    "with open('data.txt', 'w') as f:\n",
    "    data = 'My name is Pragyan and I am 27 yrs old\\n'\n",
    "    f.write(data)"
   ]
  },
  {
   "cell_type": "code",
   "execution_count": null,
   "id": "66eb908b",
   "metadata": {},
   "outputs": [],
   "source": [
    "with open('data.txt', 'a') as f:\n",
    "    data = 'And I might get married next year!!'\n",
    "    f.write(data)"
   ]
  },
  {
   "cell_type": "code",
   "execution_count": null,
   "id": "751e05b8",
   "metadata": {},
   "outputs": [],
   "source": [
    "with open('students.txt', 'r') as reader:\n",
    "    print(reader.read())"
   ]
  },
  {
   "cell_type": "code",
   "execution_count": null,
   "id": "aba0b50f",
   "metadata": {},
   "outputs": [],
   "source": [
    "#Here’s an example of how to read 5 bytes of a line each time using the Python .readline() method:\n",
    "with open('students.txt', 'r') as reader:\n",
    "    print(reader.readline(5))\n",
    "    print(reader.readline(5))\n",
    "    print(reader.readline(5))\n",
    "    print(reader.readline(5))\n",
    "    print(reader.readline(10))"
   ]
  },
  {
   "cell_type": "code",
   "execution_count": null,
   "id": "963c8b56",
   "metadata": {},
   "outputs": [],
   "source": [
    "f = open('students.txt')\n",
    "f.readlines() "
   ]
  },
  {
   "cell_type": "code",
   "execution_count": null,
   "id": "9096739f",
   "metadata": {},
   "outputs": [],
   "source": [
    "f.close()"
   ]
  },
  {
   "cell_type": "code",
   "execution_count": null,
   "id": "5f00b26c",
   "metadata": {},
   "outputs": [],
   "source": [
    "#if file does not exits ,it will create a new file\n",
    "try:\n",
    "    f=open(\"sample.txt\",'w')\n",
    "    data = \"Balmukund Meena!!\"\n",
    "    f.write(data)\n",
    "finally:\n",
    "    f.close()"
   ]
  },
  {
   "cell_type": "code",
   "execution_count": null,
   "id": "7e2e17be",
   "metadata": {},
   "outputs": [],
   "source": [
    "#if file does not exits ,it will create a new file\n",
    "try:\n",
    "    f=open(\"sample2.txt\",'r')\n",
    "    print(f.readlines())\n",
    "except:\n",
    "    print(\"file not present,please create it and rerun the code!!\")\n",
    "finally:\n",
    "    f.close()"
   ]
  },
  {
   "cell_type": "code",
   "execution_count": null,
   "id": "fa0f1b77",
   "metadata": {},
   "outputs": [],
   "source": [
    "import os"
   ]
  },
  {
   "cell_type": "code",
   "execution_count": null,
   "id": "41ba26ac",
   "metadata": {},
   "outputs": [],
   "source": [
    "os.listdir()"
   ]
  },
  {
   "cell_type": "markdown",
   "id": "c1d9d29e",
   "metadata": {},
   "source": [
    "## Futher Reading\n",
    "https://realpython.com/read-write-files-python/"
   ]
  },
  {
   "cell_type": "code",
   "execution_count": null,
   "id": "3a158932",
   "metadata": {},
   "outputs": [],
   "source": []
  },
  {
   "cell_type": "code",
   "execution_count": null,
   "id": "5ae8cb46",
   "metadata": {},
   "outputs": [],
   "source": [
    "to_list()"
   ]
  },
  {
   "cell_type": "code",
   "execution_count": null,
   "id": "a41c3f36",
   "metadata": {},
   "outputs": [],
   "source": [
    "tolist()"
   ]
  },
  {
   "cell_type": "code",
   "execution_count": null,
   "id": "0cace21d",
   "metadata": {},
   "outputs": [],
   "source": [
    "4 == 4"
   ]
  },
  {
   "cell_type": "code",
   "execution_count": null,
   "id": "00b439ed",
   "metadata": {},
   "outputs": [],
   "source": [
    "4 ==5"
   ]
  },
  {
   "cell_type": "code",
   "execution_count": null,
   "id": "f7969f33",
   "metadata": {},
   "outputs": [],
   "source": [
    "4 is 4"
   ]
  },
  {
   "cell_type": "code",
   "execution_count": null,
   "id": "0d056142",
   "metadata": {},
   "outputs": [],
   "source": [
    "id(4)"
   ]
  },
  {
   "cell_type": "code",
   "execution_count": null,
   "id": "af0f0e81",
   "metadata": {},
   "outputs": [],
   "source": [
    "p =-6"
   ]
  },
  {
   "cell_type": "code",
   "execution_count": null,
   "id": "c2e5cd7b",
   "metadata": {},
   "outputs": [],
   "source": [
    "q =-6"
   ]
  },
  {
   "cell_type": "code",
   "execution_count": null,
   "id": "f2dfdcde",
   "metadata": {},
   "outputs": [],
   "source": [
    "p is q # integer interning "
   ]
  },
  {
   "cell_type": "code",
   "execution_count": null,
   "id": "dcd1def4",
   "metadata": {},
   "outputs": [],
   "source": [
    "a= 0.3"
   ]
  },
  {
   "cell_type": "code",
   "execution_count": null,
   "id": "bf30422d",
   "metadata": {},
   "outputs": [],
   "source": [
    "b = 0.1+0.1+0.1"
   ]
  },
  {
   "cell_type": "code",
   "execution_count": null,
   "id": "ac8a2bbc",
   "metadata": {},
   "outputs": [],
   "source": [
    "b"
   ]
  },
  {
   "cell_type": "code",
   "execution_count": null,
   "id": "b35e6941",
   "metadata": {},
   "outputs": [],
   "source": [
    "a == b"
   ]
  },
  {
   "cell_type": "code",
   "execution_count": null,
   "id": "5b13134f",
   "metadata": {},
   "outputs": [],
   "source": [
    "ls = [1,2,3,4,5]"
   ]
  },
  {
   "cell_type": "code",
   "execution_count": null,
   "id": "f22864c1",
   "metadata": {},
   "outputs": [],
   "source": [
    "ls%2"
   ]
  },
  {
   "cell_type": "code",
   "execution_count": null,
   "id": "2d2faea5",
   "metadata": {},
   "outputs": [],
   "source": [
    "age  = 5\n",
    "\n",
    "if age>0:\n",
    "    if age < 18:\n",
    "        if age<=5:\n",
    "            print(\"Baby!!\")\n",
    "        else:\n",
    "            print(\"Teen!!\")\n",
    "            \n",
    "    else:\n",
    "        print(\"Adult!!\")\n",
    "\n",
    "else:\n",
    "    print(\"Age cann't be -ve\")\n",
    "\n"
   ]
  },
  {
   "cell_type": "code",
   "execution_count": 1,
   "id": "01d1a7e0",
   "metadata": {},
   "outputs": [
    {
     "data": {
      "text/plain": [
       "1"
      ]
     },
     "execution_count": 1,
     "metadata": {},
     "output_type": "execute_result"
    }
   ],
   "source": [
    "371%10"
   ]
  },
  {
   "cell_type": "code",
   "execution_count": 2,
   "id": "f8165373",
   "metadata": {},
   "outputs": [
    {
     "data": {
      "text/plain": [
       "7"
      ]
     },
     "execution_count": 2,
     "metadata": {},
     "output_type": "execute_result"
    }
   ],
   "source": [
    "37%10"
   ]
  },
  {
   "cell_type": "code",
   "execution_count": 3,
   "id": "18fa1ab9",
   "metadata": {},
   "outputs": [
    {
     "data": {
      "text/plain": [
       "3"
      ]
     },
     "execution_count": 3,
     "metadata": {},
     "output_type": "execute_result"
    }
   ],
   "source": [
    "3%10"
   ]
  },
  {
   "cell_type": "code",
   "execution_count": 9,
   "id": "739dd397",
   "metadata": {},
   "outputs": [
    {
     "data": {
      "text/plain": [
       "37"
      ]
     },
     "execution_count": 9,
     "metadata": {},
     "output_type": "execute_result"
    }
   ],
   "source": [
    "371//10"
   ]
  },
  {
   "cell_type": "code",
   "execution_count": 7,
   "id": "b9036c40",
   "metadata": {},
   "outputs": [
    {
     "data": {
      "text/plain": [
       "0"
      ]
     },
     "execution_count": 7,
     "metadata": {},
     "output_type": "execute_result"
    }
   ],
   "source": [
    "3//10"
   ]
  },
  {
   "cell_type": "code",
   "execution_count": 14,
   "id": "44b90d7f",
   "metadata": {},
   "outputs": [],
   "source": [
    "n  = 371 "
   ]
  },
  {
   "cell_type": "code",
   "execution_count": 15,
   "id": "5cc71ebd",
   "metadata": {},
   "outputs": [],
   "source": [
    "n_original = n"
   ]
  },
  {
   "cell_type": "code",
   "execution_count": 16,
   "id": "37025331",
   "metadata": {},
   "outputs": [],
   "source": [
    "n_str = len(str(n))"
   ]
  },
  {
   "cell_type": "code",
   "execution_count": 17,
   "id": "452e05bf",
   "metadata": {},
   "outputs": [
    {
     "data": {
      "text/plain": [
       "3"
      ]
     },
     "execution_count": 17,
     "metadata": {},
     "output_type": "execute_result"
    }
   ],
   "source": [
    "n_str"
   ]
  },
  {
   "cell_type": "code",
   "execution_count": 18,
   "id": "e07a2c1c",
   "metadata": {},
   "outputs": [],
   "source": [
    "sum_digits = 0"
   ]
  },
  {
   "cell_type": "code",
   "execution_count": 20,
   "id": "89e7a598",
   "metadata": {},
   "outputs": [
    {
     "name": "stdout",
     "output_type": "stream",
     "text": [
      "Amstrong\n"
     ]
    }
   ],
   "source": [
    "while n !=0:\n",
    "    rem = n % 10\n",
    "    sum_digits = sum_digits + rem**n_str\n",
    "    n = n//10\n",
    "if sum_digits==n_original:\n",
    "    print(\"Amstrong\")\n",
    "else:\n",
    "    print(\"Not Amstrong\")\n",
    "    "
   ]
  },
  {
   "cell_type": "code",
   "execution_count": 21,
   "id": "f1a903aa",
   "metadata": {},
   "outputs": [
    {
     "data": {
      "text/plain": [
       "371"
      ]
     },
     "execution_count": 21,
     "metadata": {},
     "output_type": "execute_result"
    }
   ],
   "source": [
    "sum_digits"
   ]
  },
  {
   "cell_type": "code",
   "execution_count": 23,
   "id": "d8aa6a66",
   "metadata": {},
   "outputs": [
    {
     "data": {
      "text/plain": [
       "371"
      ]
     },
     "execution_count": 23,
     "metadata": {},
     "output_type": "execute_result"
    }
   ],
   "source": [
    "n_original"
   ]
  },
  {
   "cell_type": "code",
   "execution_count": 24,
   "id": "508189fe",
   "metadata": {},
   "outputs": [],
   "source": [
    "rows = 5 "
   ]
  },
  {
   "cell_type": "code",
   "execution_count": 27,
   "id": "2082857c",
   "metadata": {},
   "outputs": [],
   "source": [
    "print??"
   ]
  },
  {
   "cell_type": "code",
   "execution_count": 26,
   "id": "8bf72895",
   "metadata": {},
   "outputs": [
    {
     "name": "stdout",
     "output_type": "stream",
     "text": [
      "# \n",
      "\n",
      "# # \n",
      "\n",
      "# # # \n",
      "\n",
      "# # # # \n",
      "\n",
      "# # # # # \n",
      "\n"
     ]
    }
   ],
   "source": [
    "#code is the best documentation\n",
    "for row in range(rows):\n",
    "    for col in range(row+1):\n",
    "        print(\"# \",end = \"\")\n",
    "    print(\"\\n\")\n",
    "    "
   ]
  },
  {
   "cell_type": "code",
   "execution_count": 33,
   "id": "5e86690e",
   "metadata": {},
   "outputs": [],
   "source": [
    "row = 1\n"
   ]
  },
  {
   "cell_type": "code",
   "execution_count": 29,
   "id": "cfc32863",
   "metadata": {},
   "outputs": [],
   "source": [
    "col = row +1"
   ]
  },
  {
   "cell_type": "code",
   "execution_count": 30,
   "id": "69db3187",
   "metadata": {},
   "outputs": [
    {
     "data": {
      "text/plain": [
       "1"
      ]
     },
     "execution_count": 30,
     "metadata": {},
     "output_type": "execute_result"
    }
   ],
   "source": [
    "col"
   ]
  },
  {
   "cell_type": "code",
   "execution_count": 34,
   "id": "081d4140",
   "metadata": {},
   "outputs": [
    {
     "data": {
      "text/plain": [
       "[0, 1]"
      ]
     },
     "execution_count": 34,
     "metadata": {},
     "output_type": "execute_result"
    }
   ],
   "source": [
    "list(range(row+1))"
   ]
  },
  {
   "cell_type": "code",
   "execution_count": 36,
   "id": "1f9f5a73",
   "metadata": {},
   "outputs": [],
   "source": [
    "ls1 = [1,2,3,1]\n",
    "d= {}"
   ]
  },
  {
   "cell_type": "code",
   "execution_count": 38,
   "id": "ff048a10",
   "metadata": {},
   "outputs": [
    {
     "data": {
      "text/plain": [
       "((0, 1), (1, 2), (2, 3), (3, 1))"
      ]
     },
     "execution_count": 38,
     "metadata": {},
     "output_type": "execute_result"
    }
   ],
   "source": [
    "tuple(enumerate(ls1))"
   ]
  },
  {
   "cell_type": "code",
   "execution_count": 48,
   "id": "9b9160cd",
   "metadata": {},
   "outputs": [],
   "source": [
    "for i,e in enumerate(ls1):\n",
    "    if e in d:\n",
    "        vals = [ ]\n",
    "        val = d[e]\n",
    "        if len(str(val))==1:\n",
    "            vals.append(val)\n",
    "        else:\n",
    "            vals = [*val]\n",
    "            vals.append(i)\n",
    "            \n",
    "        d.update({e:vals})\n",
    "        \n",
    "    else:\n",
    "        d.update({e:i})"
   ]
  },
  {
   "cell_type": "code",
   "execution_count": 49,
   "id": "c253c1a6",
   "metadata": {},
   "outputs": [
    {
     "data": {
      "text/plain": [
       "[4, 3]"
      ]
     },
     "execution_count": 49,
     "metadata": {},
     "output_type": "execute_result"
    }
   ],
   "source": [
    "vals"
   ]
  },
  {
   "cell_type": "code",
   "execution_count": 40,
   "id": "67c13939",
   "metadata": {},
   "outputs": [
    {
     "data": {
      "text/plain": [
       "True"
      ]
     },
     "execution_count": 40,
     "metadata": {},
     "output_type": "execute_result"
    }
   ],
   "source": [
    "1 in d"
   ]
  },
  {
   "cell_type": "code",
   "execution_count": 42,
   "id": "1e41acac",
   "metadata": {},
   "outputs": [],
   "source": [
    "v = d[1]"
   ]
  },
  {
   "cell_type": "code",
   "execution_count": 45,
   "id": "aab6ebc9",
   "metadata": {},
   "outputs": [],
   "source": [
    "val = [2,3]"
   ]
  },
  {
   "cell_type": "code",
   "execution_count": 46,
   "id": "3d5c3132",
   "metadata": {},
   "outputs": [],
   "source": [
    "vals = [*val]"
   ]
  },
  {
   "cell_type": "code",
   "execution_count": 47,
   "id": "a4e6cee7",
   "metadata": {},
   "outputs": [
    {
     "data": {
      "text/plain": [
       "[2, 3]"
      ]
     },
     "execution_count": 47,
     "metadata": {},
     "output_type": "execute_result"
    }
   ],
   "source": [
    "vals"
   ]
  },
  {
   "cell_type": "code",
   "execution_count": 50,
   "id": "12da5d67",
   "metadata": {},
   "outputs": [
    {
     "ename": "TypeError",
     "evalue": "list.count() takes exactly one argument (0 given)",
     "output_type": "error",
     "traceback": [
      "\u001b[1;31m---------------------------------------------------------------------------\u001b[0m",
      "\u001b[1;31mTypeError\u001b[0m                                 Traceback (most recent call last)",
      "\u001b[1;32mC:\\Users\\PRAGYA~1.PRA\\AppData\\Local\\Temp/ipykernel_16288/508996253.py\u001b[0m in \u001b[0;36m<module>\u001b[1;34m\u001b[0m\n\u001b[1;32m----> 1\u001b[1;33m \u001b[0mls1\u001b[0m\u001b[1;33m.\u001b[0m\u001b[0mcount\u001b[0m\u001b[1;33m(\u001b[0m\u001b[1;33m)\u001b[0m\u001b[1;33m\u001b[0m\u001b[1;33m\u001b[0m\u001b[0m\n\u001b[0m",
      "\u001b[1;31mTypeError\u001b[0m: list.count() takes exactly one argument (0 given)"
     ]
    }
   ],
   "source": [
    "ls1.count()"
   ]
  },
  {
   "cell_type": "code",
   "execution_count": null,
   "id": "104e094d",
   "metadata": {},
   "outputs": [],
   "source": []
  }
 ],
 "metadata": {
  "kernelspec": {
   "display_name": "Python 3 (ipykernel)",
   "language": "python",
   "name": "python3"
  },
  "language_info": {
   "codemirror_mode": {
    "name": "ipython",
    "version": 3
   },
   "file_extension": ".py",
   "mimetype": "text/x-python",
   "name": "python",
   "nbconvert_exporter": "python",
   "pygments_lexer": "ipython3",
   "version": "3.10.9"
  }
 },
 "nbformat": 4,
 "nbformat_minor": 5
}
